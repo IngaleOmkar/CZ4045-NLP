{
  "cells": [
    {
      "cell_type": "code",
      "execution_count": 1,
      "metadata": {
        "colab": {
          "base_uri": "https://localhost:8080/"
        },
        "id": "29_9LXSvFbH-",
        "outputId": "2c5f1a33-7ba9-4197-fd38-ae86e9ba7a3b"
      },
      "outputs": [
        {
          "name": "stdout",
          "output_type": "stream",
          "text": [
            "Requirement already satisfied: gensim in c:\\users\\shrey\\appdata\\local\\packages\\pythonsoftwarefoundation.python.3.10_qbz5n2kfra8p0\\localcache\\local-packages\\python310\\site-packages (4.3.2)\n",
            "Requirement already satisfied: scipy>=1.7.0 in c:\\users\\shrey\\appdata\\local\\packages\\pythonsoftwarefoundation.python.3.10_qbz5n2kfra8p0\\localcache\\local-packages\\python310\\site-packages (from gensim) (1.10.0)\n",
            "Requirement already satisfied: smart-open>=1.8.1 in c:\\users\\shrey\\appdata\\local\\packages\\pythonsoftwarefoundation.python.3.10_qbz5n2kfra8p0\\localcache\\local-packages\\python310\\site-packages (from gensim) (6.4.0)\n",
            "Requirement already satisfied: numpy>=1.18.5 in c:\\users\\shrey\\appdata\\local\\packages\\pythonsoftwarefoundation.python.3.10_qbz5n2kfra8p0\\localcache\\local-packages\\python310\\site-packages (from gensim) (1.23.5)\n",
            "Note: you may need to restart the kernel to use updated packages.\n"
          ]
        },
        {
          "name": "stderr",
          "output_type": "stream",
          "text": [
            "WARNING: Ignoring invalid distribution -orch (c:\\users\\shrey\\appdata\\local\\packages\\pythonsoftwarefoundation.python.3.10_qbz5n2kfra8p0\\localcache\\local-packages\\python310\\site-packages)\n",
            "WARNING: Ignoring invalid distribution -orch (c:\\users\\shrey\\appdata\\local\\packages\\pythonsoftwarefoundation.python.3.10_qbz5n2kfra8p0\\localcache\\local-packages\\python310\\site-packages)\n",
            "WARNING: Ignoring invalid distribution -orch (c:\\users\\shrey\\appdata\\local\\packages\\pythonsoftwarefoundation.python.3.10_qbz5n2kfra8p0\\localcache\\local-packages\\python310\\site-packages)\n",
            "WARNING: Ignoring invalid distribution -orch (c:\\users\\shrey\\appdata\\local\\packages\\pythonsoftwarefoundation.python.3.10_qbz5n2kfra8p0\\localcache\\local-packages\\python310\\site-packages)\n",
            "WARNING: Ignoring invalid distribution -orch (c:\\users\\shrey\\appdata\\local\\packages\\pythonsoftwarefoundation.python.3.10_qbz5n2kfra8p0\\localcache\\local-packages\\python310\\site-packages)\n",
            "WARNING: Ignoring invalid distribution -orch (c:\\users\\shrey\\appdata\\local\\packages\\pythonsoftwarefoundation.python.3.10_qbz5n2kfra8p0\\localcache\\local-packages\\python310\\site-packages)\n",
            "\n",
            "[notice] A new release of pip is available: 23.0.1 -> 23.3.1\n",
            "[notice] To update, run: C:\\Users\\shrey\\AppData\\Local\\Microsoft\\WindowsApps\\PythonSoftwareFoundation.Python.3.10_qbz5n2kfra8p0\\python.exe -m pip install --upgrade pip\n"
          ]
        }
      ],
      "source": [
        "pip install --upgrade gensim"
      ]
    },
    {
      "cell_type": "code",
      "execution_count": 2,
      "metadata": {
        "colab": {
          "base_uri": "https://localhost:8080/",
          "height": 35
        },
        "id": "yKvXrEk_F2cN",
        "outputId": "20303c79-b513-4921-eda9-bac1b94468f3"
      },
      "outputs": [
        {
          "data": {
            "text/plain": [
              "''"
            ]
          },
          "execution_count": 2,
          "metadata": {},
          "output_type": "execute_result"
        }
      ],
      "source": [
        "import gensim.downloader\n",
        "import tensorflow as tf\n",
        "tf.test.gpu_device_name()"
      ]
    },
    {
      "cell_type": "code",
      "execution_count": 3,
      "metadata": {
        "colab": {
          "base_uri": "https://localhost:8080/"
        },
        "id": "BcZSXp6GGCh9",
        "outputId": "ed1f0920-eef3-4082-e690-9acb5bc5cfb1"
      },
      "outputs": [],
      "source": [
        "w2v = gensim.downloader.load('word2vec-google-news-300')"
      ]
    },
    {
      "cell_type": "code",
      "execution_count": 4,
      "metadata": {
        "colab": {
          "base_uri": "https://localhost:8080/"
        },
        "id": "86u6P6EBVNS1",
        "outputId": "1e121b23-20e2-4cc8-f139-d846bff5f296"
      },
      "outputs": [
        {
          "name": "stdout",
          "output_type": "stream",
          "text": [
            "Requirement already satisfied: seqeval in c:\\users\\shrey\\appdata\\local\\packages\\pythonsoftwarefoundation.python.3.10_qbz5n2kfra8p0\\localcache\\local-packages\\python310\\site-packages (1.2.2)\n",
            "Requirement already satisfied: numpy>=1.14.0 in c:\\users\\shrey\\appdata\\local\\packages\\pythonsoftwarefoundation.python.3.10_qbz5n2kfra8p0\\localcache\\local-packages\\python310\\site-packages (from seqeval) (1.23.5)\n",
            "Requirement already satisfied: scikit-learn>=0.21.3 in c:\\users\\shrey\\appdata\\local\\packages\\pythonsoftwarefoundation.python.3.10_qbz5n2kfra8p0\\localcache\\local-packages\\python310\\site-packages (from seqeval) (1.2.2)\n",
            "Requirement already satisfied: threadpoolctl>=2.0.0 in c:\\users\\shrey\\appdata\\local\\packages\\pythonsoftwarefoundation.python.3.10_qbz5n2kfra8p0\\localcache\\local-packages\\python310\\site-packages (from scikit-learn>=0.21.3->seqeval) (3.1.0)\n",
            "Requirement already satisfied: joblib>=1.1.1 in c:\\users\\shrey\\appdata\\local\\packages\\pythonsoftwarefoundation.python.3.10_qbz5n2kfra8p0\\localcache\\local-packages\\python310\\site-packages (from scikit-learn>=0.21.3->seqeval) (1.2.0)\n",
            "Requirement already satisfied: scipy>=1.3.2 in c:\\users\\shrey\\appdata\\local\\packages\\pythonsoftwarefoundation.python.3.10_qbz5n2kfra8p0\\localcache\\local-packages\\python310\\site-packages (from scikit-learn>=0.21.3->seqeval) (1.10.0)\n",
            "Note: you may need to restart the kernel to use updated packages.\n"
          ]
        },
        {
          "name": "stderr",
          "output_type": "stream",
          "text": [
            "WARNING: Ignoring invalid distribution -orch (c:\\users\\shrey\\appdata\\local\\packages\\pythonsoftwarefoundation.python.3.10_qbz5n2kfra8p0\\localcache\\local-packages\\python310\\site-packages)\n",
            "WARNING: Ignoring invalid distribution -orch (c:\\users\\shrey\\appdata\\local\\packages\\pythonsoftwarefoundation.python.3.10_qbz5n2kfra8p0\\localcache\\local-packages\\python310\\site-packages)\n",
            "WARNING: Ignoring invalid distribution -orch (c:\\users\\shrey\\appdata\\local\\packages\\pythonsoftwarefoundation.python.3.10_qbz5n2kfra8p0\\localcache\\local-packages\\python310\\site-packages)\n",
            "WARNING: Ignoring invalid distribution -orch (c:\\users\\shrey\\appdata\\local\\packages\\pythonsoftwarefoundation.python.3.10_qbz5n2kfra8p0\\localcache\\local-packages\\python310\\site-packages)\n",
            "WARNING: Ignoring invalid distribution -orch (c:\\users\\shrey\\appdata\\local\\packages\\pythonsoftwarefoundation.python.3.10_qbz5n2kfra8p0\\localcache\\local-packages\\python310\\site-packages)\n",
            "WARNING: Ignoring invalid distribution -orch (c:\\users\\shrey\\appdata\\local\\packages\\pythonsoftwarefoundation.python.3.10_qbz5n2kfra8p0\\localcache\\local-packages\\python310\\site-packages)\n",
            "\n",
            "[notice] A new release of pip is available: 23.0.1 -> 23.3.1\n",
            "[notice] To update, run: C:\\Users\\shrey\\AppData\\Local\\Microsoft\\WindowsApps\\PythonSoftwareFoundation.Python.3.10_qbz5n2kfra8p0\\python.exe -m pip install --upgrade pip\n"
          ]
        }
      ],
      "source": [
        "pip install seqeval"
      ]
    },
    {
      "cell_type": "code",
      "execution_count": 5,
      "metadata": {
        "id": "6VqyD0ibpZua"
      },
      "outputs": [
        {
          "name": "stdout",
          "output_type": "stream",
          "text": [
            "Requirement already satisfied: nltk in c:\\users\\shrey\\appdata\\local\\packages\\pythonsoftwarefoundation.python.3.10_qbz5n2kfra8p0\\localcache\\local-packages\\python310\\site-packages (3.8.1)\n",
            "Requirement already satisfied: regex>=2021.8.3 in c:\\users\\shrey\\appdata\\local\\packages\\pythonsoftwarefoundation.python.3.10_qbz5n2kfra8p0\\localcache\\local-packages\\python310\\site-packages (from nltk) (2023.8.8)\n",
            "Requirement already satisfied: tqdm in c:\\users\\shrey\\appdata\\local\\packages\\pythonsoftwarefoundation.python.3.10_qbz5n2kfra8p0\\localcache\\local-packages\\python310\\site-packages (from nltk) (4.64.1)\n",
            "Requirement already satisfied: joblib in c:\\users\\shrey\\appdata\\local\\packages\\pythonsoftwarefoundation.python.3.10_qbz5n2kfra8p0\\localcache\\local-packages\\python310\\site-packages (from nltk) (1.2.0)\n",
            "Requirement already satisfied: click in c:\\users\\shrey\\appdata\\local\\packages\\pythonsoftwarefoundation.python.3.10_qbz5n2kfra8p0\\localcache\\local-packages\\python310\\site-packages (from nltk) (8.1.3)\n",
            "Requirement already satisfied: colorama in c:\\users\\shrey\\appdata\\local\\packages\\pythonsoftwarefoundation.python.3.10_qbz5n2kfra8p0\\localcache\\local-packages\\python310\\site-packages (from click->nltk) (0.4.6)\n",
            "Note: you may need to restart the kernel to use updated packages.\n"
          ]
        },
        {
          "name": "stderr",
          "output_type": "stream",
          "text": [
            "WARNING: Ignoring invalid distribution -orch (c:\\users\\shrey\\appdata\\local\\packages\\pythonsoftwarefoundation.python.3.10_qbz5n2kfra8p0\\localcache\\local-packages\\python310\\site-packages)\n",
            "WARNING: Ignoring invalid distribution -orch (c:\\users\\shrey\\appdata\\local\\packages\\pythonsoftwarefoundation.python.3.10_qbz5n2kfra8p0\\localcache\\local-packages\\python310\\site-packages)\n",
            "WARNING: Ignoring invalid distribution -orch (c:\\users\\shrey\\appdata\\local\\packages\\pythonsoftwarefoundation.python.3.10_qbz5n2kfra8p0\\localcache\\local-packages\\python310\\site-packages)\n",
            "WARNING: Ignoring invalid distribution -orch (c:\\users\\shrey\\appdata\\local\\packages\\pythonsoftwarefoundation.python.3.10_qbz5n2kfra8p0\\localcache\\local-packages\\python310\\site-packages)\n",
            "WARNING: Ignoring invalid distribution -orch (c:\\users\\shrey\\appdata\\local\\packages\\pythonsoftwarefoundation.python.3.10_qbz5n2kfra8p0\\localcache\\local-packages\\python310\\site-packages)\n",
            "WARNING: Ignoring invalid distribution -orch (c:\\users\\shrey\\appdata\\local\\packages\\pythonsoftwarefoundation.python.3.10_qbz5n2kfra8p0\\localcache\\local-packages\\python310\\site-packages)\n",
            "\n",
            "[notice] A new release of pip is available: 23.0.1 -> 23.3.1\n",
            "[notice] To update, run: C:\\Users\\shrey\\AppData\\Local\\Microsoft\\WindowsApps\\PythonSoftwareFoundation.Python.3.10_qbz5n2kfra8p0\\python.exe -m pip install --upgrade pip\n"
          ]
        }
      ],
      "source": [
        "pip install nltk"
      ]
    },
    {
      "cell_type": "code",
      "execution_count": 6,
      "metadata": {
        "id": "tVVFjxR64C68"
      },
      "outputs": [],
      "source": [
        "import os\n",
        "from tensorflow import keras\n",
        "import pandas as pd\n",
        "import numpy as np\n",
        "from seqeval.metrics import f1_score, classification_report\n",
        "\n",
        "from tensorflow.keras import Model, Input\n",
        "from tensorflow.keras.layers import LSTM, Dense\n",
        "from tensorflow.keras.layers import TimeDistributed"
      ]
    },
    {
      "cell_type": "markdown",
      "metadata": {
        "id": "OzVxAHAN4HC8"
      },
      "source": [
        "**Question 1.1**  \n",
        "Based on word2vec embeddings you have downloaded, use cosine similarity to find the most similar\n",
        "word to each of these words: (a) “student”; (b) “Apple”; (c) “apple”. Report the most similar word\n",
        "and its cosine similarity.\n"
      ]
    },
    {
      "cell_type": "code",
      "execution_count": 7,
      "metadata": {
        "colab": {
          "base_uri": "https://localhost:8080/"
        },
        "id": "tl_V9Fi-GSNt",
        "outputId": "0d4e9c98-8be8-4012-da21-1249149cf914"
      },
      "outputs": [
        {
          "name": "stdout",
          "output_type": "stream",
          "text": [
            "(a): ('students', 0.7294867038726807)\n",
            "(b): ('Apple_AAPL', 0.7456986308097839)\n",
            "(c): ('apples', 0.720359742641449)\n"
          ]
        }
      ],
      "source": [
        "print(\"(a):\", w2v.most_similar('student')[0])\n",
        "print(\"(b):\", w2v.most_similar('Apple')[0])\n",
        "print(\"(c):\", w2v.most_similar('apple')[0])"
      ]
    },
    {
      "cell_type": "markdown",
      "metadata": {
        "id": "51unsnX14fR1"
      },
      "source": [
        "**Question 1.2**  \n",
        "(a) Describe the size (number of sentences) of the training, development and test file for CoNLL2003.\n",
        "Specify the complete set of all possible word labels based on the tagging scheme (IO, BIO,\n",
        "etc.) you chose."
      ]
    },
    {
      "cell_type": "code",
      "execution_count": 8,
      "metadata": {
        "id": "vHkk5-aeIGxx"
      },
      "outputs": [],
      "source": [
        "testaPath = keras.utils.get_file(\n",
        "    fname=\"eng.testa\",\n",
        "    origin=\"https://github.com/TheAnig/NER-LSTM-CNN-Pytorch/raw/master/data/eng.testa\",\n",
        "    extract=True,\n",
        ")\n",
        "testbPath =  keras.utils.get_file(\n",
        "    fname=\"eng.testb\",\n",
        "    origin=\"https://github.com/TheAnig/NER-LSTM-CNN-Pytorch/raw/master/data/eng.testb\",\n",
        "    extract=True,\n",
        ")\n",
        "trainPath =  keras.utils.get_file(\n",
        "    fname=\"eng.train\",\n",
        "    origin=\"https://github.com/TheAnig/NER-LSTM-CNN-Pytorch/raw/master/data/eng.train\",\n",
        "    extract=True,\n",
        ")"
      ]
    },
    {
      "cell_type": "code",
      "execution_count": 9,
      "metadata": {
        "id": "mT_UMAqePGH1"
      },
      "outputs": [],
      "source": [
        "def getData(path):\n",
        "  with open(path, 'r') as file:\n",
        "    dataset = file.read()\n",
        "  lines = dataset.split('\\n')\n",
        "  split_lines = [line.split() for line in lines]\n",
        "  max_words = max(len(line) for line in split_lines)\n",
        "  split_lines = [line + [''] * (max_words - len(line)) for line in split_lines]\n",
        "  dataset = pd.DataFrame(split_lines)\n",
        "  dataset.columns = [f'col{i}' for i in range(max_words)]\n",
        "  dataset = dataset.drop(columns=['col1', 'col2'])\n",
        "  dataset.rename(columns={'col0': 'word', 'col3': 'label'}, inplace=True)\n",
        "  return dataset\n",
        "\n",
        "lastRow = {'word': '', 'label': ''}\n",
        "lastRow_df = pd.DataFrame([lastRow])\n",
        "\n",
        "train = getData(trainPath)\n",
        "development = getData(testaPath)\n",
        "development = pd.concat([development, lastRow_df], ignore_index=True)\n",
        "test = getData(testbPath)\n",
        "\n",
        "category_mapping = {'': 0,'I-LOC': 1, 'B-ORG': 2, 'I-ORG': 3, 'I-PER': 4, 'B-LOC': 5, 'I-MISC': 6, 'B-MISC': 7, 'O': 8}\n",
        "train[\"encoded_label\"] = train[\"label\"].map(category_mapping)\n",
        "development[\"encoded_label\"] = development[\"label\"].map(category_mapping)\n",
        "test[\"encoded_label\"] = test[\"label\"].map(category_mapping)"
      ]
    },
    {
      "cell_type": "code",
      "execution_count": 10,
      "metadata": {
        "colab": {
          "base_uri": "https://localhost:8080/"
        },
        "id": "zeXEeeT5UxJB",
        "outputId": "8a26d3be-01da-4057-973a-592eace854f7"
      },
      "outputs": [
        {
          "name": "stdout",
          "output_type": "stream",
          "text": [
            "              word  label  encoded_label\n",
            "219549     Lincoln  I-ORG              3\n",
            "219550           2      O              8\n",
            "219551                                 0\n",
            "219552  -DOCSTART-      O              8\n",
            "219553                                 0\n",
            "               word  label  encoded_label\n",
            "55039      Newsroom  I-ORG              3\n",
            "55040  880-2-506363      O              8\n",
            "55041                                   0\n",
            "55042    -DOCSTART-      O              8\n",
            "55043                                   0\n",
            "             word  label  encoded_label\n",
            "50345       Bobby  I-PER              4\n",
            "50346           .      O              8\n",
            "50347                                 0\n",
            "50348  -DOCSTART-      O              8\n",
            "50349                                 0\n"
          ]
        }
      ],
      "source": [
        "print(train.tail())\n",
        "print(development.tail())\n",
        "print(test.tail())"
      ]
    },
    {
      "cell_type": "code",
      "execution_count": 11,
      "metadata": {
        "colab": {
          "base_uri": "https://localhost:8080/"
        },
        "id": "xf8UjKmKPYBL",
        "outputId": "27a6b2d8-a937-46b9-9cb2-cc7dd914af8e"
      },
      "outputs": [
        {
          "name": "stdout",
          "output_type": "stream",
          "text": [
            "Size of training file:  14987\n",
            "Size of development file:  3466\n",
            "Size of test file:  3684\n",
            "Complete Set of all word labels (IOB1): ['', 'B-ORG', 'I-LOC', 'I-PER', 'I-MISC', 'B-MISC', 'B-LOC', 'I-ORG', 'O']\n"
          ]
        }
      ],
      "source": [
        "def countSize(df):\n",
        "  return (df.applymap(lambda x: x == '').any(axis=1)).sum()\n",
        "\n",
        "def getCompleteLabelSet(train, development, test):\n",
        "    label_set = set(train[\"label\"].unique()) | set(development[\"label\"].unique()) | set(test[\"label\"].unique())\n",
        "    return list(label_set)\n",
        "\n",
        "print(\"Size of training file: \", countSize(train))\n",
        "print(\"Size of development file: \", countSize(development))\n",
        "print(\"Size of test file: \", countSize(test))\n",
        "\n",
        "print(\"Complete Set of all word labels (IOB1):\", getCompleteLabelSet(train, development, test))"
      ]
    },
    {
      "cell_type": "markdown",
      "metadata": {
        "id": "44dep6uV9q5o"
      },
      "source": [
        "(b) Choose an example sentence from the training set of CoNLL2003 that has at least two named\n",
        "entities with more than one word. Explain how to form complete named entities from the label\n",
        "for each word, and list all the named entities in this sentence.\n"
      ]
    },
    {
      "cell_type": "code",
      "execution_count": 12,
      "metadata": {
        "id": "yN77PfCY9e3m"
      },
      "outputs": [],
      "source": [
        "def getNamedEntitiesForEachSentence(df, namedEntitylabels = ['I-LOC', 'B-ORG', 'I-ORG', 'I-PER', 'B-LOC', 'I-MISC', 'B-MISC']):\n",
        "  targetSentences = []\n",
        "  sentenceArray = []\n",
        "  NECount = 0\n",
        "  MWNECount = 0\n",
        "  NEWordCount = 0\n",
        "  NEArray = []\n",
        "  NE = \"\"\n",
        "  previousNELabel = None\n",
        "\n",
        "  for index,row in df.iterrows():\n",
        "    # if word is a period, it symbolises the end of a sentence\n",
        "    if row[\"word\"] == \"\":\n",
        "      # evaluate the previous named entity if present\n",
        "      if NEWordCount > 1:\n",
        "        MWNECount += 1\n",
        "        NECount += 1\n",
        "        NEArray.append(NE)\n",
        "\n",
        "      # save other single word named entities\n",
        "      elif NEWordCount == 1 :\n",
        "        NECount += 1\n",
        "        NEArray.append(NE)\n",
        "      sentenceArray.append([row[\"word\"], row[\"label\"]])\n",
        "\n",
        "      # for each Sentence, check if the number of Multi-Word Named Entities is >= 2\n",
        "      if NECount >= 2:\n",
        "        # if yes, append to targetSentences\n",
        "        targetSentences.append([sentenceArray,NEArray,NECount, MWNECount])\n",
        "      # set all variables to process the next sentence\n",
        "      sentenceArray = []\n",
        "      NECount = 0\n",
        "      MWNECount = 0\n",
        "      NEWordCount = 0\n",
        "      NEArray = []\n",
        "      NE = \"\"\n",
        "      previousLabel = None\n",
        "      continue\n",
        "\n",
        "    # if word belongs has a named entity label\n",
        "    elif row[\"label\"] in namedEntitylabels:\n",
        "      # get the label type and the position\n",
        "      position, label = row[\"label\"].split(\"-\")\n",
        "      # if a word with the same label has appeared before\n",
        "      # and the current word is not beginning word\n",
        "      # the previous and current words can be grouped togther as 1 named entity\n",
        "      if previousNELabel is not None and previousNELabel == label and position != \"B\":\n",
        "        NEWordCount += 1\n",
        "        NE += row[\"word\"] + \" \"\n",
        "\n",
        "      else:\n",
        "        # if the current word is the start of a new named entity\n",
        "        # evaluate the previous named entity\n",
        "        if NEWordCount > 1:\n",
        "          NECount += 1\n",
        "          MWNECount += 1\n",
        "          NEArray.append(NE)\n",
        "\n",
        "        # save other single word named entities\n",
        "        elif NEWordCount == 1 :\n",
        "          NECount += 1\n",
        "          NEArray.append(NE)\n",
        "\n",
        "        #and track the current new named entity\n",
        "        previousNELabel = label\n",
        "        NEWordCount = 1\n",
        "        NE = \"\"\n",
        "        NE += row[\"word\"]+\" \"\n",
        "\n",
        "    # if word does not have a named entity label\n",
        "    else:\n",
        "      # if there was a named enitity before current word,\n",
        "      # evaluate it\n",
        "      if NEWordCount > 1:\n",
        "        MWNECount += 1\n",
        "        NECount += 1\n",
        "        NEArray.append(NE)\n",
        "      elif NEWordCount == 1:\n",
        "        NECount += 1\n",
        "        NEArray.append(NE)\n",
        "\n",
        "      #reset values\n",
        "      NE = \"\"\n",
        "      NEWordCount = 0\n",
        "\n",
        "    sentenceArray.append([row[\"word\"],row[\"label\"]])\n",
        "\n",
        "  return targetSentences\n",
        "\n",
        "def getSentenceFromRowArray(array):\n",
        "  sentence = \"\"\n",
        "  for word, label in array:\n",
        "    sentence += word\n",
        "    sentence += \" \"\n",
        "  return sentence"
      ]
    },
    {
      "cell_type": "code",
      "execution_count": 13,
      "metadata": {
        "id": "J65VFlf0Fo1D"
      },
      "outputs": [],
      "source": [
        "sentences = getNamedEntitiesForEachSentence(train)\n",
        "sentences = sorted(sentences, key=lambda x: x[3])"
      ]
    },
    {
      "cell_type": "code",
      "execution_count": 14,
      "metadata": {
        "colab": {
          "base_uri": "https://localhost:8080/"
        },
        "id": "2A66bIRxGcTf",
        "outputId": "654fb0e3-0d4b-464f-d176-8a35e57dfad0"
      },
      "outputs": [
        {
          "data": {
            "text/plain": [
              "6136"
            ]
          },
          "execution_count": 14,
          "metadata": {},
          "output_type": "execute_result"
        }
      ],
      "source": [
        "len(sentences)"
      ]
    },
    {
      "cell_type": "code",
      "execution_count": null,
      "metadata": {
        "id": "PDtj352r33vZ"
      },
      "outputs": [],
      "source": [
        "# a = []\n",
        "# for i in range(0,len(sentences)):\n",
        "#   for j in sentences[i][0]:\n",
        "#     if j[1].split(\"-\")[0] == \"B\" and sentences[i][3] > 0:\n",
        "#       a.append(i)\n",
        "# a = list(set(a))\n",
        "\n",
        "# for i in a:\n",
        "#   print(i)\n",
        "#   print(\"Example Sentence:\", getSentenceFromRowArray(sentences[i][0]))\n",
        "#   print(\"All named entities:\",sentences[i][1])"
      ]
    },
    {
      "cell_type": "code",
      "execution_count": 15,
      "metadata": {
        "colab": {
          "base_uri": "https://localhost:8080/"
        },
        "id": "xZ4Mn8mPse-S",
        "outputId": "c20411ca-f51f-49c1-8084-c099e8556c13"
      },
      "outputs": [
        {
          "name": "stdout",
          "output_type": "stream",
          "text": [
            "Example Sentence: Sosa , a leading candidate for National League Most Valuable Player honours , was injured August 20th when he was hit by a Mark Hutton pitch in the first inning of an 8-1 victory over the Florida Marlins .  \n",
            "All named entities: ['Sosa ', 'National League ', 'Most Valuable Player ', 'Mark Hutton ', 'Florida Marlins ']\n",
            "\n",
            "Consecutive entity labels with the same class (e.g PER) can be grouped together to get a named entity. B tags in the label can be used to split a chunk of entity words into meaningful groups.\n",
            "\n",
            "Labels (for reference): [['Sosa', 'I-PER'], [',', 'O'], ['a', 'O'], ['leading', 'O'], ['candidate', 'O'], ['for', 'O'], ['National', 'I-MISC'], ['League', 'I-MISC'], ['Most', 'B-MISC'], ['Valuable', 'I-MISC'], ['Player', 'I-MISC'], ['honours', 'O'], [',', 'O'], ['was', 'O'], ['injured', 'O'], ['August', 'O'], ['20th', 'O'], ['when', 'O'], ['he', 'O'], ['was', 'O'], ['hit', 'O'], ['by', 'O'], ['a', 'O'], ['Mark', 'I-PER'], ['Hutton', 'I-PER'], ['pitch', 'O'], ['in', 'O'], ['the', 'O'], ['first', 'O'], ['inning', 'O'], ['of', 'O'], ['an', 'O'], ['8-1', 'O'], ['victory', 'O'], ['over', 'O'], ['the', 'O'], ['Florida', 'I-ORG'], ['Marlins', 'I-ORG'], ['.', 'O'], ['', '']] \n",
            "\n"
          ]
        }
      ],
      "source": [
        "random = 6041\n",
        "print(\"Example Sentence:\", getSentenceFromRowArray(sentences[random][0]))\n",
        "print(\"All named entities:\",sentences[random][1])\n",
        "\n",
        "print(\"\\nConsecutive entity labels with the same class (e.g PER) can be grouped together to get a named entity. B tags in the label can be used to split a chunk of entity words into meaningful groups.\\n\")\n",
        "\n",
        "print(\"Labels (for reference):\",sentences[random][0], \"\\n\")"
      ]
    },
    {
      "cell_type": "markdown",
      "metadata": {
        "id": "iUdBkL8KA1Dx"
      },
      "source": [
        "**Question 1.3**  \n",
        "(a) Discuss how you deal with new words in the training set which are not found in the pretrained\n",
        "dictionary. Likewise, how do you deal with new words in the test set which are not found in\n",
        "either the pretrained dictionary or the training set? Show the corresponding code snippet.\n",
        "\n"
      ]
    },
    {
      "cell_type": "code",
      "execution_count": 16,
      "metadata": {
        "id": "9YPLq2_s439q"
      },
      "outputs": [],
      "source": [
        "def getSentenceAndVocab(df):\n",
        "  allSentences = []\n",
        "  sentenceArray = []\n",
        "  newVocab = {}\n",
        "  keyValue = 0\n",
        "\n",
        "  for index,row in df.iterrows():\n",
        "    if row[\"word\"] == \"\":\n",
        "      sentenceArray.append([row[\"word\"], row[\"encoded_label\"]])\n",
        "      allSentences.append(sentenceArray)\n",
        "      sentenceArray = []\n",
        "      continue\n",
        "    else:\n",
        "      try:\n",
        "        w2v[row[\"word\"]]\n",
        "      except:\n",
        "          try:\n",
        "              newVocab[row[\"word\"]]\n",
        "          except:\n",
        "              newVocab[row[\"word\"]] = keyValue\n",
        "              keyValue += 1\n",
        "\n",
        "    sentenceArray.append([row[\"word\"],row[\"encoded_label\"]])\n",
        "\n",
        "  return allSentences, newVocab"
      ]
    },
    {
      "cell_type": "code",
      "execution_count": 17,
      "metadata": {
        "id": "73qd8CuU4575"
      },
      "outputs": [],
      "source": [
        "trainSentences, trainVocab = getSentenceAndVocab(train)\n",
        "developmentSentences, developmentVocab = getSentenceAndVocab(development)\n",
        "testSentences, testVocab = getSentenceAndVocab(test)"
      ]
    },
    {
      "cell_type": "code",
      "execution_count": 18,
      "metadata": {
        "id": "HvNOdqmQ5CKE"
      },
      "outputs": [],
      "source": [
        "from nltk.util import ngrams\n",
        "import numpy as np\n",
        "# set random seed for random vector generation\n",
        "np.random.seed(seed = 42)\n",
        "\n",
        "def getNgrams(dataset):\n",
        "  # function to get the 2,3 ngrams of each word in a dataset, provided that the word is in word2vec\n",
        "  ngramsDict = {}\n",
        "  for idx, row in dataset.iterrows():\n",
        "    # check if word in w2v, continue if not\n",
        "    try:\n",
        "      w2v[row[\"word\"]]\n",
        "    except:\n",
        "      continue\n",
        "    # if it is the first time encountering a word, get the 2,3 ngrams and add it to ngramsDict \n",
        "    if row[\"word\"] not in ngramsDict:\n",
        "      ngramsDict[row[\"word\"]] = list(ngrams(row[\"word\"], 3)) + list(ngrams(row[\"word\"], 2))\n",
        "  return ngramsDict\n",
        "\n",
        "def getMostSimilarKeys(OOVWord, ngramsDict):\n",
        "  # given an Out Of Vocab Word, compare the word against the ngrams in ngramsDict to get the most similar words\n",
        "  OOVNgrams = list(ngrams(OOVWord, 3)) + list(ngrams(OOVWord, 2))\n",
        "  similarKeys = []\n",
        "  keyCount = []\n",
        "\n",
        "  # for each word in the ngramsDict, get the number of overlapping ngrams it has with the OOVWord, and the total number of ngrams the word has\n",
        "  for n in ngramsDict.keys():\n",
        "    currentCount = len(set(OOVNgrams).intersection(set(ngramsDict[n])))\n",
        "    # negative length is used, so that it can be discouraged during sorting\n",
        "    keyCount.append([n,currentCount, -len(ngramsDict[n])])\n",
        "\n",
        "  # sort all the words in keycount such that the shortest word with the most overlaps is first \n",
        "  keyCount = sorted(keyCount, key = lambda x: (x[1], x[2]))\n",
        "\n",
        "  # take the top 3 words, and append them to the similarKeys array\n",
        "  for value in keyCount[-3:]:\n",
        "    similarKeys.append(value[0])\n",
        "  return similarKeys\n",
        "\n",
        "def getOOVVector(similarKeys, vectorDim = 300):\n",
        "  # get a vector output for an OOVWord, based on similarkeys\n",
        "  # get 300 random values between 0-1\n",
        "  random_vectors = []\n",
        "  \n",
        "  # get a vector of size 300\n",
        "  random_vectors.append((np.random.rand(vectorDim) * 2.0) - 1.0)\n",
        "\n",
        "  # take the mean value and normalise the random vector \n",
        "  random_vector = np.mean(random_vectors, axis=0)\n",
        "  random_vector = random_vector / np.linalg.norm(random_vector)\n",
        "\n",
        "  # take the sum of the w2v vectors of the 3 most similar words\n",
        "  sum_vector = 0\n",
        "  for word in similarKeys:\n",
        "    sum_vector += w2v[word]\n",
        "  \n",
        "  # get the mean of all 3 w2v vectors\n",
        "  mean_vector =  np.divide(sum_vector, len(similarKeys))\n",
        "  # add it to the random vector with weights\n",
        "  final_vector = (random_vector * 0.3 + mean_vector * 0.7)\n",
        "  # normalise the final vector\n",
        "  final_vector = final_vector / np.linalg.norm(final_vector)\n",
        "\n",
        "  return final_vector\n",
        "\n",
        "def embedUnknownVocab(trainVocab, developmentVocab, testVocab, ngramsDict):\n",
        "  # get the vectors of all the unknown words in the train, test and development sets \n",
        "  # all vectors are based off of w2v in the train dataset\n",
        "  allUnknownVocab = list(set(list(trainVocab.keys())+ list(developmentVocab.keys()) + list(testVocab.keys())))\n",
        "  unknownVocabDict = {}\n",
        "\n",
        "  # for all unknown words \n",
        "  for unknownVocab in allUnknownVocab:\n",
        "    # get similar keys \n",
        "    similarKeys = getMostSimilarKeys(unknownVocab, ngramsDict)\n",
        "    # and use them to get an OOVVector \n",
        "    unknownVocabDict[unknownVocab] = getOOVVector(similarKeys)\n",
        "  return unknownVocabDict \n",
        "\n",
        "def embedNewWordsNgrams(Vocab, unknownVocab):\n",
        "  # use the unknownvocab dict to populate the trainVocab, testVocab and developmentVocab\n",
        "  for key in Vocab.keys():\n",
        "    Vocab[key] = unknownVocab[key]\n",
        "\n",
        "# get ngrams for train dataset\n",
        "ngramsDictTrain = getNgrams(train)\n",
        "# embed all unknown vocab with ngrams from train\n",
        "unknownVocabDict = embedUnknownVocab(trainVocab, developmentVocab, testVocab, ngramsDictTrain)\n",
        "\n",
        "# populate all the vocabs \n",
        "embedNewWordsNgrams(trainVocab, unknownVocabDict)\n",
        "embedNewWordsNgrams(developmentVocab, unknownVocabDict)\n",
        "embedNewWordsNgrams(testVocab, unknownVocabDict)"
      ]
    },
    {
      "cell_type": "code",
      "execution_count": 19,
      "metadata": {
        "colab": {
          "base_uri": "https://localhost:8080/"
        },
        "id": "AuPmoIiP5SVp",
        "outputId": "b967b0c4-33d4-4f44-a195-2000b804de0d"
      },
      "outputs": [
        {
          "name": "stdout",
          "output_type": "stream",
          "text": [
            "125\n"
          ]
        }
      ],
      "source": [
        "maxLen = max(max([len(s) for s in trainSentences]),\n",
        "                  max([len(s) for s in developmentSentences]),\n",
        "                  max([len(s) for s in testSentences]))\n",
        "print(maxLen)"
      ]
    },
    {
      "cell_type": "code",
      "execution_count": 20,
      "metadata": {
        "id": "KgZxOPn05T0z"
      },
      "outputs": [],
      "source": [
        "# 300 is the size of vector embedding\n",
        "xTrainArray = np.zeros((len(trainSentences), maxLen, 300))\n",
        "xDevelopmentArray = np.zeros((len(developmentSentences), maxLen, 300))\n",
        "xTestArray = np.zeros((len(testSentences), maxLen, 300))\n",
        "yTrainArray = np.zeros((len(trainSentences), maxLen))\n",
        "yDevelopmentArray = np.zeros((len(developmentSentences), maxLen))\n",
        "yTestArray = np.zeros((len(testSentences), maxLen))"
      ]
    },
    {
      "cell_type": "code",
      "execution_count": 21,
      "metadata": {},
      "outputs": [
        {
          "data": {
            "text/plain": [
              "125"
            ]
          },
          "execution_count": 21,
          "metadata": {},
          "output_type": "execute_result"
        }
      ],
      "source": [
        "len(yTrainArray[0])"
      ]
    },
    {
      "cell_type": "code",
      "execution_count": 22,
      "metadata": {
        "id": "dtpQrDry5Usl"
      },
      "outputs": [],
      "source": [
        "def createXArray(sentences, array, vocab):\n",
        "  for sentence_idx, sentence in enumerate(sentences):\n",
        "      arrayPos = 0  # Initialize the array position for each sentence\n",
        "      for word in sentence:\n",
        "          if arrayPos >= maxLen: # truncate\n",
        "              break  # If the sentence exceeds the maximum length, exit the loop\n",
        "          if word[0] == \"\":\n",
        "              for i in range(arrayPos, maxLen): # padding\n",
        "                  array[sentence_idx][i] = 0\n",
        "          else:\n",
        "              try: # check whether it is in pretrained word2vec\n",
        "                  array[sentence_idx][arrayPos] = w2v[word[0]]\n",
        "              except: # check whether it is in vocab\n",
        "                  array[sentence_idx][arrayPos] = vocab[word[0]]\n",
        "          arrayPos += 1"
      ]
    },
    {
      "cell_type": "code",
      "execution_count": 23,
      "metadata": {
        "id": "fzsIY7Pl5XdE"
      },
      "outputs": [],
      "source": [
        "def createYArray(sentences, array):\n",
        "    for sentence_idx, sentence in enumerate(sentences):\n",
        "        arrayPos = 0  # Initialize the array position for each sentence\n",
        "        for word in sentence:\n",
        "            if arrayPos >= maxLen:\n",
        "                break  # If the sentence exceeds the maximum length, exit the loop\n",
        "            if word[0] == \"\":\n",
        "                for i in range(arrayPos, maxLen):\n",
        "                    array[sentence_idx][i] = 0\n",
        "            else:\n",
        "                array[sentence_idx][arrayPos] = word[1]\n",
        "            arrayPos += 1"
      ]
    },
    {
      "cell_type": "code",
      "execution_count": 24,
      "metadata": {
        "id": "_kdruf2X5XCZ"
      },
      "outputs": [],
      "source": [
        "createXArray(trainSentences, xTrainArray, trainVocab)\n",
        "createYArray(trainSentences, yTrainArray)\n",
        "\n",
        "createXArray(developmentSentences, xDevelopmentArray, developmentVocab)\n",
        "createYArray(developmentSentences, yDevelopmentArray)\n",
        "\n",
        "createXArray(testSentences, xTestArray, testVocab)\n",
        "createYArray(testSentences, yTestArray)"
      ]
    },
    {
      "cell_type": "code",
      "execution_count": 25,
      "metadata": {},
      "outputs": [],
      "source": [
        "import keras.utils\n",
        "yTrainArray = keras.utils.to_categorical(yTrainArray)"
      ]
    },
    {
      "cell_type": "code",
      "execution_count": null,
      "metadata": {
        "colab": {
          "base_uri": "https://localhost:8080/"
        },
        "id": "NIW8ZsiC5gnh",
        "outputId": "81d909ad-eeb4-4ced-9447-7ef8e04ee3a4"
      },
      "outputs": [],
      "source": [
        "# input = Input(shape=(maxLen, 300))\n",
        "# model = LSTM(units=300,return_sequences=True)(input)\n",
        "# output = TimeDistributed(Dense(9, activation=\"softmax\"))(model)\n",
        "# model = Model(input,output)\n",
        "# model.summary()"
      ]
    },
    {
      "cell_type": "code",
      "execution_count": 30,
      "metadata": {
        "id": "f5zsLA6cyZVO"
      },
      "outputs": [
        {
          "name": "stdout",
          "output_type": "stream",
          "text": [
            "Model: \"model_1\"\n",
            "_________________________________________________________________\n",
            " Layer (type)                Output Shape              Param #   \n",
            "=================================================================\n",
            " input_2 (InputLayer)        [(None, 125, 300)]        0         \n",
            "                                                                 \n",
            " spatial_dropout1d_1 (Spatia  (None, 125, 300)         0         \n",
            " lDropout1D)                                                     \n",
            "                                                                 \n",
            " bidirectional_1 (Bidirectio  (None, 125, 300)         541200    \n",
            " nal)                                                            \n",
            "                                                                 \n",
            " time_distributed_1 (TimeDis  (None, 125, 9)           2709      \n",
            " tributed)                                                       \n",
            "                                                                 \n",
            "=================================================================\n",
            "Total params: 543,909\n",
            "Trainable params: 543,909\n",
            "Non-trainable params: 0\n",
            "_________________________________________________________________\n"
          ]
        }
      ],
      "source": [
        "# Do yall want to try bidirectional? Should have better perf. Not sure if it will work\n",
        "# https://www.kaggle.com/code/rahulkumarpatro/named-entity-recognition-using-lstm\n",
        "from tensorflow.keras.layers import SpatialDropout1D, Bidirectional\n",
        "input = Input(shape=(maxLen, 300))\n",
        "model = SpatialDropout1D(0.2)(input)\n",
        "model = Bidirectional(LSTM(units=150,return_sequences=True, recurrent_dropout=0.2))(model)\n",
        "output = TimeDistributed(Dense(9, activation=\"softmax\"))(model)\n",
        "model = Model(input,output)\n",
        "model.summary()"
      ]
    },
    {
      "cell_type": "markdown",
      "metadata": {
        "id": "yyu2_IrbTKBu"
      },
      "source": [
        "(b) Describe what neural network you used to produce the final vector representation of each\n",
        "word and what are the mathematical functions used for the forward computation (i.e., from\n",
        "the pretrained word vectors to the final label of each word). Give the detailed setting of the\n",
        "network including which parameters are being updated, what are their sizes, and what is the\n",
        "length of the final vector representation of each word to be fed to the softmax classifier."
      ]
    },
    {
      "cell_type": "code",
      "execution_count": 31,
      "metadata": {
        "id": "JpAMsRnXntrs"
      },
      "outputs": [],
      "source": [
        "# units=300\n",
        "# W = model.layers[1].get_weights()[0]\n",
        "# U = model.layers[1].get_weights()[1]\n",
        "# b = model.layers[1].get_weights()[2]\n",
        "\n",
        "# W_i = W[:, :units]\n",
        "# W_f = W[:, units: units * 2]\n",
        "# W_c = W[:, units * 2: units * 3]\n",
        "# W_o = W[:, units * 3:]\n",
        "\n",
        "# U_i = U[:, :units]\n",
        "# U_f = U[:, units: units * 2]\n",
        "# U_c = U[:, units * 2: units * 3]\n",
        "# U_o = U[:, units * 3:]\n",
        "\n",
        "# b_i = b[:units]\n",
        "# b_f = b[units: units * 2]\n",
        "# b_c = b[units * 2: units * 3]\n",
        "# b_o = b[units * 3:]"
      ]
    },
    {
      "cell_type": "code",
      "execution_count": null,
      "metadata": {
        "colab": {
          "base_uri": "https://localhost:8080/"
        },
        "id": "Ekc3gjkksaaB",
        "outputId": "94c030a9-ebb9-4817-a3b1-1df80d759599"
      },
      "outputs": [],
      "source": [
        "# print(\"Weights for the forget gate:\")\n",
        "# print(\"W_f: \", W_f.shape)\n",
        "# print(\"U_f: \", U_f.shape)\n",
        "# print(\"b_f: \", b_f.shape)\n",
        "# print(\"Weights for the input gate:\")\n",
        "# print(\"W_i: \", W_i.shape)\n",
        "# print(\"U_i: \", U_i.shape)\n",
        "# print(\"b_i: \", b_i.shape)\n",
        "# print(\"Weights for the output gate:\")\n",
        "# print(\"W_o: \", W_o.shape)\n",
        "# print(\"U_o: \", U_o.shape)\n",
        "# print(\"b_o: \", b_o.shape)\n",
        "# print(\"Weights for the candidate cell gate:\")\n",
        "# print(\"W_c: \", W_c.shape)\n",
        "# print(\"U_c: \", U_c.shape)\n",
        "# print(\"b_c: \", b_c.shape)"
      ]
    },
    {
      "cell_type": "markdown",
      "metadata": {
        "id": "xP-AWfSoTNIZ"
      },
      "source": [
        "(c) Report how many epochs you used for training, as well as the running time.\n",
        "\n",
        "Used 3 epochs"
      ]
    },
    {
      "cell_type": "markdown",
      "metadata": {
        "id": "Y5i2W8KHTZ3n"
      },
      "source": [
        "(d) Report the f1 score on the test set, as well as the f1 score on the development set for each\n",
        "epoch during training.\n"
      ]
    },
    {
      "cell_type": "code",
      "execution_count": 32,
      "metadata": {},
      "outputs": [],
      "source": [
        "import time\n",
        "import tensorflow as tf\n",
        "\n",
        "class F1Callback(tf.keras.callbacks.Callback):\n",
        "\n",
        "    def on_epoch_begin(self, epoch, logs=None):\n",
        "        self.start_time = time.time()\n",
        "\n",
        "    def __init__(self, x_dev, y_dev, id2label, pad_value=0):\n",
        "        \"\"\"\n",
        "        Args:\n",
        "            id2label (dict): id to label mapping.\n",
        "            (e.g. {1: 'B-LOC', 2: 'I-LOC'})\n",
        "            pad_value (int): padding value.\n",
        "        \"\"\"\n",
        "        super(F1Callback, self).__init__()\n",
        "        self.id2label = id2label\n",
        "        self.pad_value = pad_value\n",
        "        self.x_dev = x_dev\n",
        "        self.y_dev = y_dev\n",
        "        self.prev_f1 = 0\n",
        "        \n",
        "    def find_pad_index(self, array):\n",
        "        \"\"\"Find padding index.\n",
        "        Args:\n",
        "            array (list): integer list.\n",
        "        Returns:\n",
        "            idx: padding index.\n",
        "        Examples:\n",
        "             >>> array = [1, 2, 0]\n",
        "             >>> self.find_pad_index(array)\n",
        "             2\n",
        "        \"\"\"\n",
        "        try:\n",
        "            return list(array).index(self.pad_value)\n",
        "        except ValueError:\n",
        "            return len(array)\n",
        "    def get_length(self, y):\n",
        "        \"\"\"Get true length of y.\n",
        "        Args:\n",
        "            y (list): padded list.\n",
        "        Returns:\n",
        "            lens: true length of y.\n",
        "        Examples:\n",
        "            >>> y = [[1, 0, 0], [1, 1, 0], [1, 1, 1]]\n",
        "            >>> self.get_length(y)\n",
        "            [1, 2, 3]\n",
        "        \"\"\"\n",
        "        lens = [self.find_pad_index(row) for row in y]\n",
        "        return lens\n",
        "\n",
        "    def convert_idx_to_name(self, y, lens):\n",
        "        \"\"\"Convert label index to name.\n",
        "        Args:\n",
        "            y (list): label index list.\n",
        "            lens (list): true length of y.\n",
        "        Returns:\n",
        "            y: label name list.\n",
        "        Examples:\n",
        "            >>> # assumes that id2label = {1: 'B-LOC', 2: 'I-LOC'}\n",
        "            >>> y = [[1, 0, 0], [1, 2, 0], [1, 1, 1]]\n",
        "            >>> lens = [1, 2, 3]\n",
        "            >>> self.convert_idx_to_name(y, lens)\n",
        "            [['B-LOC'], ['B-LOC', 'I-LOC'], ['B-LOC', 'B-LOC', 'B-LOC']]\n",
        "        \"\"\"\n",
        "        y = [[self.id2label[idx] for idx in row[0:l-1]]\n",
        "             for row, l in zip(y, lens)]\n",
        "        return y\n",
        "    def predict(self, X, y):\n",
        "        \"\"\"Predict sequences.\n",
        "        Args:\n",
        "            X (list): input data.\n",
        "            y (list): tags.\n",
        "        Returns:\n",
        "            y_true: true sequences.\n",
        "            y_pred: predicted sequences.\n",
        "        \"\"\"\n",
        "        y_pred = self.model.predict(X)\n",
        "\n",
        "        # reduce dimension.\n",
        "        y_true = np.argmax(y, -1)\n",
        "        y_pred = np.argmax(y_pred, -1)\n",
        "\n",
        "        lens = self.get_length(y_true)\n",
        "\n",
        "        y_true = self.convert_idx_to_name(y_true, lens)\n",
        "        y_pred = self.convert_idx_to_name(y_pred, lens)\n",
        "\n",
        "        return y_true, y_pred\n",
        "    def on_epoch_end(self, epoch, logs=None):\n",
        "        # Predict on the development set\n",
        "        y_pred = self.model.predict(xDevelopmentArray)\n",
        "\n",
        "        # Convert one-hot encoded labels to class indices\n",
        "        y_true = self.y_dev\n",
        "        y_pred = np.argmax(y_pred, axis=-1)\n",
        "\n",
        "        lens = self.get_length(y_true)\n",
        "        print(lens)\n",
        "        y_true = self.convert_idx_to_name(y_true, lens)\n",
        "        y_pred = self.convert_idx_to_name(y_pred, lens)\n",
        "\n",
        "        score = f1_score(y_true, y_pred)\n",
        "\n",
        "        print(' - f1: {:04.2f}'.format(score * 100))\n",
        "        print(classification_report(y_true, y_pred, digits=4))\n",
        "\n",
        "        epoch_duration = time.time() - self.start_time\n",
        "        print(f\"Epoch {epoch + 1} took {epoch_duration} seconds\")\n",
        "\n",
        "        if score <= self.prev_f1:\n",
        "            print(f'Early stopping at epoch {epoch}')\n",
        "            self.model.stop_training = True\n",
        "            print(\"Training Completed!\")\n",
        "        self.prev_f1 = score\n",
        "\n",
        "\n",
        "labels = {0:'Pd',1:'I-LOC', 2:'B-ORG', 3:'I-ORG', 4:'I-PER', 5:'B-LOC', 6:'I-MISC', 7:'B-MISC', 8:'O'}\n",
        "f1score = F1Callback(x_dev = xDevelopmentArray, y_dev = yDevelopmentArray,id2label= labels )"
      ]
    },
    {
      "cell_type": "code",
      "execution_count": 33,
      "metadata": {
        "id": "SYHzzA8I5kRd"
      },
      "outputs": [],
      "source": [
        "model.compile(optimizer='adam',loss='categorical_crossentropy',metrics=['accuracy'])"
      ]
    },
    {
      "cell_type": "code",
      "execution_count": 34,
      "metadata": {
        "id": "524K3zHp5lHl"
      },
      "outputs": [
        {
          "name": "stdout",
          "output_type": "stream",
          "text": [
            "Epoch 1/100\n",
            "109/109 [==============================] - 36s 322ms/step\n",
            "[11, 2, 35, 37, 38, 24, 30, 34, 39, 41, 25, 34, 31, 28, 22, 9, 1, 7, 2, 14, 12, 13, 7, 30, 18, 35, 25, 25, 27, 26, 1, 6, 2, 6, 9, 13, 4, 8, 11, 8, 9, 10, 2, 3, 1, 5, 6, 12, 4, 4, 4, 9, 2, 10, 2, 12, 10, 2, 11, 1, 11, 12, 8, 9, 12, 8, 1, 11, 6, 4, 8, 8, 8, 1, 8, 11, 8, 12, 1, 8, 2, 17, 40, 20, 34, 26, 28, 20, 28, 18, 14, 1, 6, 2, 4, 5, 13, 2, 1, 9, 2, 17, 2, 13, 7, 3, 1, 10, 2, 38, 29, 20, 17, 29, 1, 12, 3, 26, 23, 37, 7, 7, 4, 10, 39, 16, 28, 31, 19, 1, 8, 3, 32, 15, 19, 18, 1, 9, 2, 5, 5, 8, 8, 10, 15, 10, 7, 7, 7, 7, 7, 7, 7, 7, 7, 1, 9, 2, 4, 7, 4, 4, 4, 4, 4, 4, 13, 9, 14, 5, 6, 7, 6, 7, 6, 7, 6, 7, 1, 10, 3, 21, 6, 14, 6, 20, 14, 16, 17, 16, 6, 20, 16, 6, 15, 16, 17, 45, 37, 42, 20, 1, 7, 11, 7, 13, 1, 11, 8, 7, 13, 2, 1, 43, 1, 10, 3, 3, 11, 9, 2, 2, 4, 6, 5, 6, 6, 6, 2, 5, 5, 6, 5, 6, 2, 5, 5, 6, 6, 5, 4, 3, 3, 3, 4, 3, 3, 2, 2, 4, 5, 5, 5, 6, 5, 2, 5, 7, 5, 5, 5, 2, 6, 6, 5, 6, 5, 3, 3, 4, 4, 3, 5, 4, 1, 7, 3, 4, 12, 2, 5, 4, 5, 4, 2, 6, 4, 4, 4, 5, 5, 1, 12, 2, 3, 28, 36, 23, 11, 34, 8, 32, 32, 36, 27, 22, 37, 31, 19, 18, 13, 46, 21, 14, 12, 21, 12, 16, 18, 20, 8, 13, 8, 7, 8, 6, 10, 8, 14, 13, 10, 29, 14, 12, 14, 1, 6, 2, 31, 11, 15, 26, 34, 21, 33, 21, 9, 1, 9, 4, 3, 11, 10, 9, 3, 3, 12, 14, 13, 11, 14, 12, 2, 1, 13, 4, 35, 21, 22, 19, 19, 9, 15, 6, 8, 22, 16, 11, 15, 11, 13, 35, 45, 12, 9, 39, 14, 25, 29, 1, 13, 2, 44, 29, 12, 1, 11, 2, 2, 33, 41, 34, 14, 27, 12, 20, 15, 34, 16, 34, 1, 7, 2, 5, 7, 5, 8, 7, 7, 7, 7, 7, 7, 4, 10, 7, 7, 7, 7, 7, 7, 7, 5, 8, 7, 7, 7, 7, 7, 7, 7, 4, 8, 7, 7, 7, 7, 7, 7, 7, 4, 8, 7, 7, 7, 7, 3, 10, 7, 7, 7, 7, 7, 7, 7, 3, 8, 7, 7, 7, 7, 7, 7, 7, 4, 8, 7, 7, 7, 7, 7, 7, 7, 4, 10, 7, 7, 7, 7, 7, 7, 7, 5, 8, 7, 7, 7, 7, 7, 7, 7, 4, 8, 7, 7, 7, 7, 7, 7, 7, 4, 7, 7, 7, 7, 7, 7, 7, 4, 7, 7, 7, 7, 7, 7, 7, 7, 4, 7, 7, 7, 7, 7, 7, 7, 7, 4, 7, 8, 7, 7, 7, 7, 7, 7, 4, 10, 7, 7, 8, 7, 7, 7, 7, 4, 8, 7, 7, 7, 7, 7, 7, 7, 3, 8, 7, 7, 7, 7, 7, 7, 7, 8, 14, 12, 15, 10, 14, 11, 1, 11, 2, 26, 24, 17, 43, 13, 14, 1, 10, 3, 29, 43, 45, 47, 1, 7, 4, 21, 33, 25, 1, 9, 2, 40, 14, 37, 30, 29, 1, 10, 2, 26, 15, 1, 8, 2, 5, 10, 2, 1, 7, 5, 7, 7, 5, 5, 7, 7, 7, 7, 5, 6, 9, 11, 3, 10, 9, 2, 2, 7, 6, 5, 5, 6, 6, 5, 5, 7, 9, 11, 10, 12, 11, 5, 8, 11, 1, 11, 2, 29, 1, 10, 2, 5, 11, 10, 2, 2, 12, 12, 12, 2, 12, 10, 9, 9, 1, 8, 2, 24, 30, 30, 26, 34, 23, 18, 27, 11, 37, 8, 1, 8, 2, 5, 11, 3, 7, 1, 8, 2, 24, 10, 6, 7, 6, 6, 7, 7, 5, 7, 4, 6, 6, 4, 4, 4, 11, 8, 1, 5, 3, 29, 9, 22, 6, 1, 9, 3, 30, 29, 13, 12, 12, 9, 25, 34, 11, 31, 10, 11, 1, 11, 2, 44, 27, 28, 29, 37, 20, 11, 27, 37, 21, 18, 37, 41, 29, 28, 20, 18, 55, 1, 8, 5, 1, 42, 13, 30, 31, 37, 27, 9, 31, 32, 35, 25, 21, 17, 16, 33, 1, 11, 2, 27, 25, 44, 10, 1, 9, 2, 37, 33, 43, 39, 20, 20, 20, 1, 5, 2, 16, 30, 29, 17, 39, 20, 18, 22, 27, 19, 34, 24, 10, 29, 53, 29, 15, 17, 10, 17, 1, 7, 2, 22, 24, 41, 25, 42, 32, 21, 27, 14, 18, 28, 1, 9, 2, 21, 23, 11, 6, 22, 7, 1, 9, 2, 30, 24, 28, 25, 11, 5, 1, 9, 2, 31, 18, 6, 30, 7, 1, 7, 2, 35, 28, 25, 11, 17, 16, 1, 9, 2, 36, 18, 7, 12, 33, 30, 28, 29, 12, 31, 17, 10, 30, 1, 8, 4, 32, 37, 6, 19, 22, 34, 26, 19, 22, 20, 1, 7, 2, 36, 36, 19, 17, 11, 32, 30, 42, 1, 7, 2, 32, 35, 26, 30, 24, 9, 1, 6, 2, 2, 23, 38, 40, 30, 10, 29, 17, 35, 31, 27, 18, 25, 24, 23, 19, 1, 7, 2, 4, 31, 36, 31, 22, 18, 14, 28, 32, 26, 20, 14, 18, 20, 29, 22, 13, 33, 16, 21, 1, 7, 2, 36, 36, 19, 16, 17, 38, 15, 1, 9, 2, 24, 9, 36, 23, 24, 40, 19, 25, 1, 7, 4, 29, 37, 11, 1, 10, 2, 34, 43, 13, 7, 16, 1, 6, 2, 2, 30, 34, 42, 22, 22, 20, 25, 28, 17, 21, 21, 37, 44, 26, 11, 32, 9, 1, 10, 2, 37, 28, 41, 9, 5, 1, 7, 4, 32, 44, 26, 21, 17, 16, 28, 1, 7, 4, 22, 47, 23, 18, 14, 30, 1, 6, 3, 22, 39, 45, 13, 13, 33, 20, 1, 9, 2, 3, 28, 42, 35, 41, 23, 23, 22, 30, 30, 45, 41, 40, 17, 1, 7, 2, 2, 25, 46, 33, 19, 41, 9, 36, 24, 21, 14, 32, 22, 1, 11, 2, 3, 24, 43, 34, 21, 53, 28, 59, 33, 30, 31, 40, 34, 17, 30, 24, 46, 14, 17, 27, 23, 36, 23, 26, 41, 10, 62, 14, 10, 12, 10, 23, 20, 1, 7, 2, 2, 32, 30, 32, 33, 9, 24, 43, 39, 43, 31, 16, 36, 28, 27, 20, 42, 39, 9, 6, 28, 30, 23, 29, 17, 27, 21, 56, 21, 27, 14, 1, 7, 2, 2, 40, 32, 21, 16, 19, 26, 20, 38, 28, 30, 29, 20, 49, 29, 30, 35, 26, 17, 19, 1, 8, 2, 36, 39, 18, 27, 33, 49, 14, 21, 7, 13, 20, 22, 34, 32, 31, 49, 16, 12, 36, 23, 43, 1, 8, 2, 2, 38, 33, 20, 34, 33, 24, 11, 4, 16, 11, 36, 26, 10, 13, 24, 21, 23, 25, 36, 15, 18, 49, 1, 9, 2, 35, 27, 22, 23, 41, 21, 42, 12, 1, 11, 3, 27, 22, 34, 24, 6, 1, 9, 4, 38, 27, 44, 8, 8, 10, 5, 25, 56, 1, 6, 3, 33, 55, 40, 28, 32, 7, 28, 1, 7, 2, 26, 25, 11, 20, 9, 30, 46, 21, 24, 22, 28, 26, 19, 17, 1, 9, 2, 35, 42, 28, 14, 37, 40, 9, 26, 7, 30, 20, 1, 10, 2, 28, 20, 18, 20, 22, 1, 9, 4, 35, 18, 22, 15, 7, 11, 14, 22, 20, 21, 20, 18, 1, 10, 2, 26, 16, 25, 18, 19, 7, 5, 1, 10, 2, 6, 6, 6, 4, 9, 5, 1, 10, 2, 28, 35, 18, 11, 21, 30, 12, 27, 42, 16, 32, 22, 20, 11, 23, 17, 11, 1, 8, 3, 2, 7, 5, 3, 4, 2, 7, 5, 3, 4, 10, 6, 1, 7, 2, 5, 4, 6, 8, 7, 7, 7, 5, 26, 18, 7, 8, 9, 1, 6, 2, 21, 38, 29, 22, 19, 18, 32, 25, 34, 38, 15, 1, 8, 2, 25, 24, 22, 9, 10, 32, 1, 7, 2, 5, 8, 23, 4, 16, 44, 8, 32, 27, 15, 9, 6, 20, 15, 21, 33, 4, 11, 16, 14, 16, 20, 9, 31, 1, 9, 13, 9, 15, 15, 7, 7, 6, 4, 9, 7, 8, 9, 8, 4, 7, 2, 2, 2, 2, 2, 2, 2, 2, 2, 2, 2, 2, 2, 2, 2, 2, 8, 1, 9, 2, 2, 27, 23, 27, 23, 21, 21, 28, 25, 23, 14, 32, 25, 11, 28, 17, 27, 39, 30, 38, 20, 1, 8, 3, 3, 3, 7, 10, 6, 10, 6, 5, 2, 9, 27, 17, 29, 26, 45, 27, 17, 14, 9, 5, 20, 18, 5, 8, 20, 36, 29, 35, 24, 51, 19, 18, 13, 9, 21, 43, 41, 39, 21, 1, 8, 2, 2, 29, 44, 40, 32, 40, 34, 23, 18, 37, 39, 41, 36, 29, 11, 1, 8, 2, 37, 39, 7, 27, 36, 21, 12, 13, 1, 8, 2, 37, 35, 7, 27, 15, 34, 26, 28, 46, 44, 18, 19, 1, 11, 3, 37, 37, 36, 13, 29, 13, 1, 9, 2, 34, 36, 30, 13, 24, 20, 31, 33, 38, 1, 9, 2, 4, 27, 15, 31, 10, 16, 29, 21, 15, 24, 29, 20, 19, 12, 7, 28, 37, 8, 16, 14, 12, 33, 19, 24, 12, 18, 12, 6, 18, 27, 31, 12, 33, 8, 1, 9, 2, 30, 19, 34, 13, 5, 1, 10, 2, 31, 54, 30, 40, 27, 23, 6, 1, 9, 21, 13, 7, 7, 4, 1, 23, 4, 2, 32, 50, 4, 2, 27, 34, 4, 1, 39, 16, 1, 8, 2, 7, 8, 3, 6, 4, 7, 7, 11, 1, 7, 2, 7, 8, 3, 6, 4, 4, 7, 13, 1, 11, 2, 31, 33, 33, 20, 11, 13, 6, 1, 6, 2, 23, 30, 50, 22, 1, 9, 5, 21, 21, 52, 14, 22, 29, 1, 7, 3, 28, 37, 40, 22, 46, 32, 38, 31, 17, 1, 11, 5, 33, 24, 32, 27, 29, 28, 38, 36, 30, 1, 10, 4, 11, 5, 1, 10, 4, 11, 23, 4, 1, 10, 4, 30, 36, 25, 41, 1, 11, 2, 23, 28, 3, 1, 7, 4, 20, 29, 10, 11, 7, 10, 20, 51, 41, 32, 1, 10, 5, 23, 2, 10, 13, 4, 1, 12, 4, 21, 23, 1, 10, 4, 3, 12, 7, 13, 10, 9, 9, 8, 9, 8, 8, 7, 10, 9, 8, 10, 3, 8, 8, 3, 4, 9, 3, 3, 1, 8, 4, 14, 1, 9, 6, 7, 6, 5, 5, 5, 5, 6, 5, 7, 10, 11, 7, 10, 9, 6, 1, 7, 7, 6, 5, 6, 7, 7, 5, 5, 6, 6, 6, 6, 12, 2, 9, 11, 1, 7, 4, 4, 6, 8, 8, 11, 7, 7, 7, 7, 7, 7, 7, 7, 7, 33, 31, 10, 9, 7, 7, 7, 7, 7, 7, 7, 7, 8, 7, 7, 7, 7, 8, 31, 9, 2, 12, 12, 12, 13, 8, 2, 12, 5, 9, 4, 8, 5, 10, 4, 1, 12, 4, 22, 27, 25, 2, 38, 36, 1, 10, 4, 28, 21, 18, 31, 17, 21, 9, 33, 28, 27, 11, 9, 17, 12, 32, 22, 20, 9, 11, 15, 29, 14, 17, 14, 21, 45, 12, 7, 18, 35, 11, 8, 22, 12, 34, 22, 14, 11, 32, 9, 20, 23, 19, 1, 12, 2, 35, 32, 32, 38, 44, 20, 14, 1, 9, 2, 5, 11, 7, 6, 4, 7, 4, 7, 7, 4, 7, 4, 4, 7, 8, 7, 7, 8, 8, 4, 8, 4, 4, 1, 10, 2, 6, 7, 4, 4, 5, 5, 4, 4, 4, 3, 4, 5, 4, 4, 4, 5, 4, 6, 4, 5, 1, 11, 2, 21, 31, 3, 1, 11, 2, 21, 8, 3, 1, 11, 2, 32, 43, 26, 30, 16, 49, 1, 6, 2, 4, 15, 8, 2, 9, 8, 9, 9, 8, 8, 8, 8, 8, 9, 2, 8, 10, 8, 8, 8, 8, 8, 8, 8, 8, 2, 8, 8, 8, 8, 8, 10, 8, 9, 9, 9, 1, 6, 2, 4, 15, 9, 2, 8, 8, 8, 8, 8, 10, 8, 8, 8, 8, 8, 9, 9, 8, 8, 8, 8, 9, 9, 8, 9, 8, 8, 8, 2, 8, 8, 8, 8, 8, 8, 8, 8, 8, 8, 8, 9, 8, 8, 8, 8, 9, 9, 8, 8, 8, 8, 8, 8, 2, 8, 8, 8, 8, 8, 8, 8, 8, 8, 8, 8, 8, 8, 9, 8, 8, 8, 9, 8, 8, 8, 8, 8, 8, 1, 6, 2, 4, 4, 2, 5, 5, 4, 10, 2, 2, 4, 6, 4, 4, 4, 2, 4, 5, 5, 5, 6, 1, 6, 2, 5, 3, 2, 4, 4, 5, 4, 4, 5, 4, 4, 10, 8, 2, 4, 4, 5, 5, 4, 4, 4, 4, 5, 3, 5, 2, 4, 5, 4, 4, 4, 4, 5, 4, 4, 4, 4, 1, 7, 2, 13, 10, 19, 7, 10, 10, 7, 10, 25, 7, 17, 38, 7, 29, 13, 31, 18, 1, 10, 2, 6, 9, 13, 5, 13, 5, 12, 11, 11, 11, 11, 12, 11, 12, 12, 1, 11, 2, 23, 2, 21, 9, 3, 1, 10, 2, 2, 34, 32, 37, 40, 27, 36, 23, 34, 32, 46, 36, 23, 44, 13, 35, 109, 93, 1, 10, 2, 25, 2, 16, 5, 12, 14, 8, 4, 7, 1, 10, 2, 34, 36, 24, 1, 11, 2, 20, 6, 1, 8, 2, 4, 6, 2, 7, 7, 7, 4, 5, 4, 14, 5, 9, 8, 11, 8, 8, 8, 8, 8, 11, 8, 11, 8, 2, 7, 8, 5, 7, 4, 13, 2, 8, 9, 8, 8, 9, 11, 8, 8, 11, 11, 8, 11, 1, 10, 4, 33, 28, 32, 17, 15, 1, 7, 2, 6, 6, 3, 14, 3, 14, 1, 7, 2, 6, 6, 3, 14, 3, 14, 1, 10, 2, 20, 2, 20, 3, 1, 12, 2, 17, 3, 1, 10, 2, 21, 2, 5, 3, 1, 7, 2, 28, 1, 10, 2, 18, 12, 3, 1, 10, 2, 20, 7, 3, 1, 9, 2, 20, 14, 3, 1, 10, 3, 27, 23, 28, 37, 17, 26, 23, 17, 21, 25, 13, 18, 19, 18, 18, 20, 20, 29, 22, 8, 16, 1, 8, 3, 52, 1, 11, 4, 29, 19, 26, 26, 18, 27, 39, 22, 26, 29, 17, 11, 7, 19, 15, 30, 15, 6, 16, 7, 11, 16, 14, 30, 32, 14, 1, 14, 2, 3, 40, 19, 19, 13, 36, 41, 7, 28, 22, 22, 17, 34, 10, 22, 19, 29, 24, 1, 10, 3, 21, 52, 22, 1, 12, 3, 21, 10, 4, 4, 3, 3, 10, 10, 3, 4, 4, 4, 1, 8, 3, 19, 2, 19, 8, 3, 1, 10, 3, 3, 11, 9, 2, 2, 4, 6, 5, 6, 6, 6, 2, 5, 5, 6, 5, 6, 2, 5, 5, 6, 6, 5, 4, 3, 3, 3, 3, 3, 4, 2, 2, 4, 5, 6, 6, 7, 6, 2, 5, 7, 6, 5, 5, 2, 6, 6, 5, 6, 5, 3, 3, 5, 3, 4, 4, 4, 1, 7, 3, 4, 12, 2, 5, 4, 8, 4, 5, 4, 4, 2, 8, 8, 4, 5, 9, 4, 6, 5, 1, 11, 2, 35, 33, 11, 20, 25, 22, 24, 26, 15, 12, 42, 36, 11, 22, 12, 18, 10, 11, 37, 18, 43, 12, 30, 37, 16, 22, 16, 10, 10, 34, 37, 21, 26, 27, 30, 18, 18, 24, 12, 32, 13, 24, 1, 8, 2, 3, 39, 45, 7, 30, 29, 25, 14, 7, 32, 42, 17, 7, 10, 25, 15, 19, 16, 31, 22, 12, 20, 14, 12, 1, 9, 2, 29, 1, 10, 2, 2, 36, 20, 34, 27, 24, 26, 15, 25, 29, 14, 6, 18, 17, 2, 46, 40, 1, 8, 2, 24, 1, 12, 2, 27, 40, 37, 19, 21, 45, 36, 37, 2, 91, 105, 1, 9, 2, 16, 14, 3, 1, 10, 2, 2, 30, 25, 9, 31, 41, 36, 49, 42, 32, 28, 24, 2, 83, 79, 18, 11, 18, 19, 1, 9, 2, 31, 3, 3, 1, 8, 2, 6, 6, 6, 1, 11, 2, 4, 13, 2, 2, 13, 7, 3, 1, 12, 2, 17, 3, 1, 8, 2, 33, 44, 26, 38, 1, 11, 2, 5, 12, 2, 12, 5, 12, 1, 8, 2, 26, 1, 8, 2, 5, 12, 8, 11, 8, 7, 8, 10, 5, 8, 1, 10, 2, 18, 38, 25, 25, 13, 10, 26, 1, 8, 2, 6, 4, 5, 6, 9, 1, 9, 2, 17, 2, 13, 7, 3, 1, 8, 2, 35, 43, 22, 25, 8, 19, 34, 35, 31, 1, 7, 2, 16, 7, 18, 21, 33, 24, 16, 25, 7, 19, 9, 12, 22, 22, 25, 15, 9, 23, 7, 11, 32, 8, 19, 8, 16, 22, 10, 20, 16, 16, 12, 19, 16, 13, 33, 32, 35, 1, 5, 2, 27, 34, 27, 29, 16, 10, 29, 1, 7, 4, 35, 26, 37, 27, 27, 29, 1, 8, 2, 26, 6, 18, 30, 37, 12, 18, 8, 1, 6, 2, 26, 33, 9, 21, 19, 16, 21, 25, 18, 1, 9, 2, 30, 43, 40, 21, 18, 34, 43, 1, 9, 2, 24, 32, 31, 1, 7, 2, 10, 4, 4, 23, 5, 6, 6, 6, 6, 7, 7, 6, 6, 1, 8, 3, 34, 26, 19, 30, 44, 21, 6, 33, 37, 1, 9, 2, 28, 40, 35, 32, 34, 23, 43, 22, 11, 10, 39, 1, 8, 4, 35, 15, 23, 31, 11, 20, 13, 21, 29, 1, 8, 2, 4, 31, 45, 13, 33, 1, 37, 39, 29, 19, 15, 16, 31, 42, 20, 24, 26, 15, 5, 6, 42, 1, 36, 19, 12, 1, 11, 2, 36, 39, 30, 42, 42, 33, 20, 29, 26, 29, 20, 20, 43, 7, 1, 8, 2, 24, 23, 14, 29, 1, 9, 2, 27, 28, 36, 75, 20, 25, 12, 11, 21, 19, 1, 7, 2, 35, 35, 20, 19, 29, 9, 1, 9, 3, 30, 37, 28, 19, 14, 36, 1, 9, 2, 36, 44, 44, 10, 31, 39, 21, 12, 15, 35, 24, 21, 24, 1, 10, 2, 33, 27, 13, 21, 14, 24, 19, 1, 10, 2, 2, 37, 46, 29, 34, 10, 29, 34, 34, 16, 10, 31, 12, 38, 25, 29, 20, 25, 15, 11, 18, 38, 24, 33, 24, 30, 6, 9, 1, 7, 2, 32, 14, 9, 19, 20, 30, 6, 1, 10, 2, 30, 39, 12, 14, 25, 16, 36, 8, 27, 1, 6, 2, 22, 37, 29, 36, 14, 23, 37, 27, 35, 36, 1, 7, 2, 21, 25, 22, 11, 37, 27, 36, 1, 7, 3, 34, 30, 21, 48, 9, 1, 8, 2, 27, 30, 5, 26, 16, 27, 13, 6, 1, 9, 2, 28, 6, 16, 26, 41, 11, 12, 34, 22, 27, 10, 15, 15, 1, 8, 2, 33, 48, 28, 13, 28, 28, 31, 19, 1, 7, 2, 41, 18, 27, 1, 7, 2, 16, 31, 16, 7, 1, 10, 2, 28, 26, 28, 52, 56, 30, 1, 10, 2, 33, 14, 5, 6, 25, 1, 8, 2, 12, 14, 2, 21, 15, 2, 10, 23, 7, 1, 10, 2, 39, 31, 28, 51, 17, 29, 40, 35, 23, 25, 29, 10, 1, 10, 4, 6, 19, 14, 30, 24, 19, 8, 19, 1, 10, 2, 31, 52, 10, 17, 23, 1, 10, 2, 2, 36, 55, 39, 9, 33, 21, 31, 22, 28, 19, 28, 56, 19, 35, 15, 29, 1, 7, 2, 17, 12, 12, 21, 40, 37, 1, 8, 2, 22, 31, 18, 32, 28, 10, 41, 36, 1, 10, 2, 32, 36, 36, 17, 34, 19, 13, 24, 36, 23, 30, 21, 20, 22, 1, 8, 2, 24, 43, 41, 8, 24, 6, 42, 21, 30, 1, 8, 2, 21, 16, 30, 1, 7, 2, 24, 30, 9, 25, 1, 9, 2, 24, 21, 45, 28, 7, 35, 1, 8, 2, 4, 38, 35, 29, 32, 32, 9, 4, 35, 31, 14, 18, 34, 24, 21, 12, 27, 26, 21, 8, 39, 36, 26, 1, 10, 2, 44, 9, 15, 13, 16, 20, 22, 25, 4, 1]\n",
            " - f1: 76.47\n"
          ]
        },
        {
          "name": "stderr",
          "output_type": "stream",
          "text": [
            "C:\\Users\\shrey\\AppData\\Local\\Packages\\PythonSoftwareFoundation.Python.3.10_qbz5n2kfra8p0\\LocalCache\\local-packages\\Python310\\site-packages\\seqeval\\metrics\\sequence_labeling.py:171: UserWarning: Pd seems not to be NE tag.\n",
            "  warnings.warn('{} seems not to be NE tag.'.format(chunk))\n",
            "C:\\Users\\shrey\\AppData\\Local\\Packages\\PythonSoftwareFoundation.Python.3.10_qbz5n2kfra8p0\\LocalCache\\local-packages\\Python310\\site-packages\\seqeval\\metrics\\v1.py:57: UndefinedMetricWarning: Recall and F-score are ill-defined and being set to 0.0 in labels with no true samples. Use `zero_division` parameter to control this behavior.\n",
            "  _warn_prf(average, modifier, msg_start, len(result))\n"
          ]
        },
        {
          "name": "stdout",
          "output_type": "stream",
          "text": [
            "              precision    recall  f1-score   support\n",
            "\n",
            "         LOC     0.8433    0.8016    0.8219      1799\n",
            "        MISC     0.7172    0.6587    0.6867       920\n",
            "         ORG     0.6500    0.6349    0.6423      1331\n",
            "         PER     0.8063    0.8632    0.8338      1828\n",
            "           d     0.0000    0.0000    0.0000         0\n",
            "\n",
            "   micro avg     0.7687    0.7606    0.7647      5878\n",
            "   macro avg     0.6034    0.5917    0.5969      5878\n",
            "weighted avg     0.7683    0.7606    0.7638      5878\n",
            "\n",
            "Epoch 1 took 352.72383093833923 seconds\n",
            "469/469 [==============================] - 353s 741ms/step - loss: 0.0782 - accuracy: 0.9873\n",
            "Epoch 2/100\n",
            "109/109 [==============================] - 34s 314ms/step\n",
            "[11, 2, 35, 37, 38, 24, 30, 34, 39, 41, 25, 34, 31, 28, 22, 9, 1, 7, 2, 14, 12, 13, 7, 30, 18, 35, 25, 25, 27, 26, 1, 6, 2, 6, 9, 13, 4, 8, 11, 8, 9, 10, 2, 3, 1, 5, 6, 12, 4, 4, 4, 9, 2, 10, 2, 12, 10, 2, 11, 1, 11, 12, 8, 9, 12, 8, 1, 11, 6, 4, 8, 8, 8, 1, 8, 11, 8, 12, 1, 8, 2, 17, 40, 20, 34, 26, 28, 20, 28, 18, 14, 1, 6, 2, 4, 5, 13, 2, 1, 9, 2, 17, 2, 13, 7, 3, 1, 10, 2, 38, 29, 20, 17, 29, 1, 12, 3, 26, 23, 37, 7, 7, 4, 10, 39, 16, 28, 31, 19, 1, 8, 3, 32, 15, 19, 18, 1, 9, 2, 5, 5, 8, 8, 10, 15, 10, 7, 7, 7, 7, 7, 7, 7, 7, 7, 1, 9, 2, 4, 7, 4, 4, 4, 4, 4, 4, 13, 9, 14, 5, 6, 7, 6, 7, 6, 7, 6, 7, 1, 10, 3, 21, 6, 14, 6, 20, 14, 16, 17, 16, 6, 20, 16, 6, 15, 16, 17, 45, 37, 42, 20, 1, 7, 11, 7, 13, 1, 11, 8, 7, 13, 2, 1, 43, 1, 10, 3, 3, 11, 9, 2, 2, 4, 6, 5, 6, 6, 6, 2, 5, 5, 6, 5, 6, 2, 5, 5, 6, 6, 5, 4, 3, 3, 3, 4, 3, 3, 2, 2, 4, 5, 5, 5, 6, 5, 2, 5, 7, 5, 5, 5, 2, 6, 6, 5, 6, 5, 3, 3, 4, 4, 3, 5, 4, 1, 7, 3, 4, 12, 2, 5, 4, 5, 4, 2, 6, 4, 4, 4, 5, 5, 1, 12, 2, 3, 28, 36, 23, 11, 34, 8, 32, 32, 36, 27, 22, 37, 31, 19, 18, 13, 46, 21, 14, 12, 21, 12, 16, 18, 20, 8, 13, 8, 7, 8, 6, 10, 8, 14, 13, 10, 29, 14, 12, 14, 1, 6, 2, 31, 11, 15, 26, 34, 21, 33, 21, 9, 1, 9, 4, 3, 11, 10, 9, 3, 3, 12, 14, 13, 11, 14, 12, 2, 1, 13, 4, 35, 21, 22, 19, 19, 9, 15, 6, 8, 22, 16, 11, 15, 11, 13, 35, 45, 12, 9, 39, 14, 25, 29, 1, 13, 2, 44, 29, 12, 1, 11, 2, 2, 33, 41, 34, 14, 27, 12, 20, 15, 34, 16, 34, 1, 7, 2, 5, 7, 5, 8, 7, 7, 7, 7, 7, 7, 4, 10, 7, 7, 7, 7, 7, 7, 7, 5, 8, 7, 7, 7, 7, 7, 7, 7, 4, 8, 7, 7, 7, 7, 7, 7, 7, 4, 8, 7, 7, 7, 7, 3, 10, 7, 7, 7, 7, 7, 7, 7, 3, 8, 7, 7, 7, 7, 7, 7, 7, 4, 8, 7, 7, 7, 7, 7, 7, 7, 4, 10, 7, 7, 7, 7, 7, 7, 7, 5, 8, 7, 7, 7, 7, 7, 7, 7, 4, 8, 7, 7, 7, 7, 7, 7, 7, 4, 7, 7, 7, 7, 7, 7, 7, 4, 7, 7, 7, 7, 7, 7, 7, 7, 4, 7, 7, 7, 7, 7, 7, 7, 7, 4, 7, 8, 7, 7, 7, 7, 7, 7, 4, 10, 7, 7, 8, 7, 7, 7, 7, 4, 8, 7, 7, 7, 7, 7, 7, 7, 3, 8, 7, 7, 7, 7, 7, 7, 7, 8, 14, 12, 15, 10, 14, 11, 1, 11, 2, 26, 24, 17, 43, 13, 14, 1, 10, 3, 29, 43, 45, 47, 1, 7, 4, 21, 33, 25, 1, 9, 2, 40, 14, 37, 30, 29, 1, 10, 2, 26, 15, 1, 8, 2, 5, 10, 2, 1, 7, 5, 7, 7, 5, 5, 7, 7, 7, 7, 5, 6, 9, 11, 3, 10, 9, 2, 2, 7, 6, 5, 5, 6, 6, 5, 5, 7, 9, 11, 10, 12, 11, 5, 8, 11, 1, 11, 2, 29, 1, 10, 2, 5, 11, 10, 2, 2, 12, 12, 12, 2, 12, 10, 9, 9, 1, 8, 2, 24, 30, 30, 26, 34, 23, 18, 27, 11, 37, 8, 1, 8, 2, 5, 11, 3, 7, 1, 8, 2, 24, 10, 6, 7, 6, 6, 7, 7, 5, 7, 4, 6, 6, 4, 4, 4, 11, 8, 1, 5, 3, 29, 9, 22, 6, 1, 9, 3, 30, 29, 13, 12, 12, 9, 25, 34, 11, 31, 10, 11, 1, 11, 2, 44, 27, 28, 29, 37, 20, 11, 27, 37, 21, 18, 37, 41, 29, 28, 20, 18, 55, 1, 8, 5, 1, 42, 13, 30, 31, 37, 27, 9, 31, 32, 35, 25, 21, 17, 16, 33, 1, 11, 2, 27, 25, 44, 10, 1, 9, 2, 37, 33, 43, 39, 20, 20, 20, 1, 5, 2, 16, 30, 29, 17, 39, 20, 18, 22, 27, 19, 34, 24, 10, 29, 53, 29, 15, 17, 10, 17, 1, 7, 2, 22, 24, 41, 25, 42, 32, 21, 27, 14, 18, 28, 1, 9, 2, 21, 23, 11, 6, 22, 7, 1, 9, 2, 30, 24, 28, 25, 11, 5, 1, 9, 2, 31, 18, 6, 30, 7, 1, 7, 2, 35, 28, 25, 11, 17, 16, 1, 9, 2, 36, 18, 7, 12, 33, 30, 28, 29, 12, 31, 17, 10, 30, 1, 8, 4, 32, 37, 6, 19, 22, 34, 26, 19, 22, 20, 1, 7, 2, 36, 36, 19, 17, 11, 32, 30, 42, 1, 7, 2, 32, 35, 26, 30, 24, 9, 1, 6, 2, 2, 23, 38, 40, 30, 10, 29, 17, 35, 31, 27, 18, 25, 24, 23, 19, 1, 7, 2, 4, 31, 36, 31, 22, 18, 14, 28, 32, 26, 20, 14, 18, 20, 29, 22, 13, 33, 16, 21, 1, 7, 2, 36, 36, 19, 16, 17, 38, 15, 1, 9, 2, 24, 9, 36, 23, 24, 40, 19, 25, 1, 7, 4, 29, 37, 11, 1, 10, 2, 34, 43, 13, 7, 16, 1, 6, 2, 2, 30, 34, 42, 22, 22, 20, 25, 28, 17, 21, 21, 37, 44, 26, 11, 32, 9, 1, 10, 2, 37, 28, 41, 9, 5, 1, 7, 4, 32, 44, 26, 21, 17, 16, 28, 1, 7, 4, 22, 47, 23, 18, 14, 30, 1, 6, 3, 22, 39, 45, 13, 13, 33, 20, 1, 9, 2, 3, 28, 42, 35, 41, 23, 23, 22, 30, 30, 45, 41, 40, 17, 1, 7, 2, 2, 25, 46, 33, 19, 41, 9, 36, 24, 21, 14, 32, 22, 1, 11, 2, 3, 24, 43, 34, 21, 53, 28, 59, 33, 30, 31, 40, 34, 17, 30, 24, 46, 14, 17, 27, 23, 36, 23, 26, 41, 10, 62, 14, 10, 12, 10, 23, 20, 1, 7, 2, 2, 32, 30, 32, 33, 9, 24, 43, 39, 43, 31, 16, 36, 28, 27, 20, 42, 39, 9, 6, 28, 30, 23, 29, 17, 27, 21, 56, 21, 27, 14, 1, 7, 2, 2, 40, 32, 21, 16, 19, 26, 20, 38, 28, 30, 29, 20, 49, 29, 30, 35, 26, 17, 19, 1, 8, 2, 36, 39, 18, 27, 33, 49, 14, 21, 7, 13, 20, 22, 34, 32, 31, 49, 16, 12, 36, 23, 43, 1, 8, 2, 2, 38, 33, 20, 34, 33, 24, 11, 4, 16, 11, 36, 26, 10, 13, 24, 21, 23, 25, 36, 15, 18, 49, 1, 9, 2, 35, 27, 22, 23, 41, 21, 42, 12, 1, 11, 3, 27, 22, 34, 24, 6, 1, 9, 4, 38, 27, 44, 8, 8, 10, 5, 25, 56, 1, 6, 3, 33, 55, 40, 28, 32, 7, 28, 1, 7, 2, 26, 25, 11, 20, 9, 30, 46, 21, 24, 22, 28, 26, 19, 17, 1, 9, 2, 35, 42, 28, 14, 37, 40, 9, 26, 7, 30, 20, 1, 10, 2, 28, 20, 18, 20, 22, 1, 9, 4, 35, 18, 22, 15, 7, 11, 14, 22, 20, 21, 20, 18, 1, 10, 2, 26, 16, 25, 18, 19, 7, 5, 1, 10, 2, 6, 6, 6, 4, 9, 5, 1, 10, 2, 28, 35, 18, 11, 21, 30, 12, 27, 42, 16, 32, 22, 20, 11, 23, 17, 11, 1, 8, 3, 2, 7, 5, 3, 4, 2, 7, 5, 3, 4, 10, 6, 1, 7, 2, 5, 4, 6, 8, 7, 7, 7, 5, 26, 18, 7, 8, 9, 1, 6, 2, 21, 38, 29, 22, 19, 18, 32, 25, 34, 38, 15, 1, 8, 2, 25, 24, 22, 9, 10, 32, 1, 7, 2, 5, 8, 23, 4, 16, 44, 8, 32, 27, 15, 9, 6, 20, 15, 21, 33, 4, 11, 16, 14, 16, 20, 9, 31, 1, 9, 13, 9, 15, 15, 7, 7, 6, 4, 9, 7, 8, 9, 8, 4, 7, 2, 2, 2, 2, 2, 2, 2, 2, 2, 2, 2, 2, 2, 2, 2, 2, 8, 1, 9, 2, 2, 27, 23, 27, 23, 21, 21, 28, 25, 23, 14, 32, 25, 11, 28, 17, 27, 39, 30, 38, 20, 1, 8, 3, 3, 3, 7, 10, 6, 10, 6, 5, 2, 9, 27, 17, 29, 26, 45, 27, 17, 14, 9, 5, 20, 18, 5, 8, 20, 36, 29, 35, 24, 51, 19, 18, 13, 9, 21, 43, 41, 39, 21, 1, 8, 2, 2, 29, 44, 40, 32, 40, 34, 23, 18, 37, 39, 41, 36, 29, 11, 1, 8, 2, 37, 39, 7, 27, 36, 21, 12, 13, 1, 8, 2, 37, 35, 7, 27, 15, 34, 26, 28, 46, 44, 18, 19, 1, 11, 3, 37, 37, 36, 13, 29, 13, 1, 9, 2, 34, 36, 30, 13, 24, 20, 31, 33, 38, 1, 9, 2, 4, 27, 15, 31, 10, 16, 29, 21, 15, 24, 29, 20, 19, 12, 7, 28, 37, 8, 16, 14, 12, 33, 19, 24, 12, 18, 12, 6, 18, 27, 31, 12, 33, 8, 1, 9, 2, 30, 19, 34, 13, 5, 1, 10, 2, 31, 54, 30, 40, 27, 23, 6, 1, 9, 21, 13, 7, 7, 4, 1, 23, 4, 2, 32, 50, 4, 2, 27, 34, 4, 1, 39, 16, 1, 8, 2, 7, 8, 3, 6, 4, 7, 7, 11, 1, 7, 2, 7, 8, 3, 6, 4, 4, 7, 13, 1, 11, 2, 31, 33, 33, 20, 11, 13, 6, 1, 6, 2, 23, 30, 50, 22, 1, 9, 5, 21, 21, 52, 14, 22, 29, 1, 7, 3, 28, 37, 40, 22, 46, 32, 38, 31, 17, 1, 11, 5, 33, 24, 32, 27, 29, 28, 38, 36, 30, 1, 10, 4, 11, 5, 1, 10, 4, 11, 23, 4, 1, 10, 4, 30, 36, 25, 41, 1, 11, 2, 23, 28, 3, 1, 7, 4, 20, 29, 10, 11, 7, 10, 20, 51, 41, 32, 1, 10, 5, 23, 2, 10, 13, 4, 1, 12, 4, 21, 23, 1, 10, 4, 3, 12, 7, 13, 10, 9, 9, 8, 9, 8, 8, 7, 10, 9, 8, 10, 3, 8, 8, 3, 4, 9, 3, 3, 1, 8, 4, 14, 1, 9, 6, 7, 6, 5, 5, 5, 5, 6, 5, 7, 10, 11, 7, 10, 9, 6, 1, 7, 7, 6, 5, 6, 7, 7, 5, 5, 6, 6, 6, 6, 12, 2, 9, 11, 1, 7, 4, 4, 6, 8, 8, 11, 7, 7, 7, 7, 7, 7, 7, 7, 7, 33, 31, 10, 9, 7, 7, 7, 7, 7, 7, 7, 7, 8, 7, 7, 7, 7, 8, 31, 9, 2, 12, 12, 12, 13, 8, 2, 12, 5, 9, 4, 8, 5, 10, 4, 1, 12, 4, 22, 27, 25, 2, 38, 36, 1, 10, 4, 28, 21, 18, 31, 17, 21, 9, 33, 28, 27, 11, 9, 17, 12, 32, 22, 20, 9, 11, 15, 29, 14, 17, 14, 21, 45, 12, 7, 18, 35, 11, 8, 22, 12, 34, 22, 14, 11, 32, 9, 20, 23, 19, 1, 12, 2, 35, 32, 32, 38, 44, 20, 14, 1, 9, 2, 5, 11, 7, 6, 4, 7, 4, 7, 7, 4, 7, 4, 4, 7, 8, 7, 7, 8, 8, 4, 8, 4, 4, 1, 10, 2, 6, 7, 4, 4, 5, 5, 4, 4, 4, 3, 4, 5, 4, 4, 4, 5, 4, 6, 4, 5, 1, 11, 2, 21, 31, 3, 1, 11, 2, 21, 8, 3, 1, 11, 2, 32, 43, 26, 30, 16, 49, 1, 6, 2, 4, 15, 8, 2, 9, 8, 9, 9, 8, 8, 8, 8, 8, 9, 2, 8, 10, 8, 8, 8, 8, 8, 8, 8, 8, 2, 8, 8, 8, 8, 8, 10, 8, 9, 9, 9, 1, 6, 2, 4, 15, 9, 2, 8, 8, 8, 8, 8, 10, 8, 8, 8, 8, 8, 9, 9, 8, 8, 8, 8, 9, 9, 8, 9, 8, 8, 8, 2, 8, 8, 8, 8, 8, 8, 8, 8, 8, 8, 8, 9, 8, 8, 8, 8, 9, 9, 8, 8, 8, 8, 8, 8, 2, 8, 8, 8, 8, 8, 8, 8, 8, 8, 8, 8, 8, 8, 9, 8, 8, 8, 9, 8, 8, 8, 8, 8, 8, 1, 6, 2, 4, 4, 2, 5, 5, 4, 10, 2, 2, 4, 6, 4, 4, 4, 2, 4, 5, 5, 5, 6, 1, 6, 2, 5, 3, 2, 4, 4, 5, 4, 4, 5, 4, 4, 10, 8, 2, 4, 4, 5, 5, 4, 4, 4, 4, 5, 3, 5, 2, 4, 5, 4, 4, 4, 4, 5, 4, 4, 4, 4, 1, 7, 2, 13, 10, 19, 7, 10, 10, 7, 10, 25, 7, 17, 38, 7, 29, 13, 31, 18, 1, 10, 2, 6, 9, 13, 5, 13, 5, 12, 11, 11, 11, 11, 12, 11, 12, 12, 1, 11, 2, 23, 2, 21, 9, 3, 1, 10, 2, 2, 34, 32, 37, 40, 27, 36, 23, 34, 32, 46, 36, 23, 44, 13, 35, 109, 93, 1, 10, 2, 25, 2, 16, 5, 12, 14, 8, 4, 7, 1, 10, 2, 34, 36, 24, 1, 11, 2, 20, 6, 1, 8, 2, 4, 6, 2, 7, 7, 7, 4, 5, 4, 14, 5, 9, 8, 11, 8, 8, 8, 8, 8, 11, 8, 11, 8, 2, 7, 8, 5, 7, 4, 13, 2, 8, 9, 8, 8, 9, 11, 8, 8, 11, 11, 8, 11, 1, 10, 4, 33, 28, 32, 17, 15, 1, 7, 2, 6, 6, 3, 14, 3, 14, 1, 7, 2, 6, 6, 3, 14, 3, 14, 1, 10, 2, 20, 2, 20, 3, 1, 12, 2, 17, 3, 1, 10, 2, 21, 2, 5, 3, 1, 7, 2, 28, 1, 10, 2, 18, 12, 3, 1, 10, 2, 20, 7, 3, 1, 9, 2, 20, 14, 3, 1, 10, 3, 27, 23, 28, 37, 17, 26, 23, 17, 21, 25, 13, 18, 19, 18, 18, 20, 20, 29, 22, 8, 16, 1, 8, 3, 52, 1, 11, 4, 29, 19, 26, 26, 18, 27, 39, 22, 26, 29, 17, 11, 7, 19, 15, 30, 15, 6, 16, 7, 11, 16, 14, 30, 32, 14, 1, 14, 2, 3, 40, 19, 19, 13, 36, 41, 7, 28, 22, 22, 17, 34, 10, 22, 19, 29, 24, 1, 10, 3, 21, 52, 22, 1, 12, 3, 21, 10, 4, 4, 3, 3, 10, 10, 3, 4, 4, 4, 1, 8, 3, 19, 2, 19, 8, 3, 1, 10, 3, 3, 11, 9, 2, 2, 4, 6, 5, 6, 6, 6, 2, 5, 5, 6, 5, 6, 2, 5, 5, 6, 6, 5, 4, 3, 3, 3, 3, 3, 4, 2, 2, 4, 5, 6, 6, 7, 6, 2, 5, 7, 6, 5, 5, 2, 6, 6, 5, 6, 5, 3, 3, 5, 3, 4, 4, 4, 1, 7, 3, 4, 12, 2, 5, 4, 8, 4, 5, 4, 4, 2, 8, 8, 4, 5, 9, 4, 6, 5, 1, 11, 2, 35, 33, 11, 20, 25, 22, 24, 26, 15, 12, 42, 36, 11, 22, 12, 18, 10, 11, 37, 18, 43, 12, 30, 37, 16, 22, 16, 10, 10, 34, 37, 21, 26, 27, 30, 18, 18, 24, 12, 32, 13, 24, 1, 8, 2, 3, 39, 45, 7, 30, 29, 25, 14, 7, 32, 42, 17, 7, 10, 25, 15, 19, 16, 31, 22, 12, 20, 14, 12, 1, 9, 2, 29, 1, 10, 2, 2, 36, 20, 34, 27, 24, 26, 15, 25, 29, 14, 6, 18, 17, 2, 46, 40, 1, 8, 2, 24, 1, 12, 2, 27, 40, 37, 19, 21, 45, 36, 37, 2, 91, 105, 1, 9, 2, 16, 14, 3, 1, 10, 2, 2, 30, 25, 9, 31, 41, 36, 49, 42, 32, 28, 24, 2, 83, 79, 18, 11, 18, 19, 1, 9, 2, 31, 3, 3, 1, 8, 2, 6, 6, 6, 1, 11, 2, 4, 13, 2, 2, 13, 7, 3, 1, 12, 2, 17, 3, 1, 8, 2, 33, 44, 26, 38, 1, 11, 2, 5, 12, 2, 12, 5, 12, 1, 8, 2, 26, 1, 8, 2, 5, 12, 8, 11, 8, 7, 8, 10, 5, 8, 1, 10, 2, 18, 38, 25, 25, 13, 10, 26, 1, 8, 2, 6, 4, 5, 6, 9, 1, 9, 2, 17, 2, 13, 7, 3, 1, 8, 2, 35, 43, 22, 25, 8, 19, 34, 35, 31, 1, 7, 2, 16, 7, 18, 21, 33, 24, 16, 25, 7, 19, 9, 12, 22, 22, 25, 15, 9, 23, 7, 11, 32, 8, 19, 8, 16, 22, 10, 20, 16, 16, 12, 19, 16, 13, 33, 32, 35, 1, 5, 2, 27, 34, 27, 29, 16, 10, 29, 1, 7, 4, 35, 26, 37, 27, 27, 29, 1, 8, 2, 26, 6, 18, 30, 37, 12, 18, 8, 1, 6, 2, 26, 33, 9, 21, 19, 16, 21, 25, 18, 1, 9, 2, 30, 43, 40, 21, 18, 34, 43, 1, 9, 2, 24, 32, 31, 1, 7, 2, 10, 4, 4, 23, 5, 6, 6, 6, 6, 7, 7, 6, 6, 1, 8, 3, 34, 26, 19, 30, 44, 21, 6, 33, 37, 1, 9, 2, 28, 40, 35, 32, 34, 23, 43, 22, 11, 10, 39, 1, 8, 4, 35, 15, 23, 31, 11, 20, 13, 21, 29, 1, 8, 2, 4, 31, 45, 13, 33, 1, 37, 39, 29, 19, 15, 16, 31, 42, 20, 24, 26, 15, 5, 6, 42, 1, 36, 19, 12, 1, 11, 2, 36, 39, 30, 42, 42, 33, 20, 29, 26, 29, 20, 20, 43, 7, 1, 8, 2, 24, 23, 14, 29, 1, 9, 2, 27, 28, 36, 75, 20, 25, 12, 11, 21, 19, 1, 7, 2, 35, 35, 20, 19, 29, 9, 1, 9, 3, 30, 37, 28, 19, 14, 36, 1, 9, 2, 36, 44, 44, 10, 31, 39, 21, 12, 15, 35, 24, 21, 24, 1, 10, 2, 33, 27, 13, 21, 14, 24, 19, 1, 10, 2, 2, 37, 46, 29, 34, 10, 29, 34, 34, 16, 10, 31, 12, 38, 25, 29, 20, 25, 15, 11, 18, 38, 24, 33, 24, 30, 6, 9, 1, 7, 2, 32, 14, 9, 19, 20, 30, 6, 1, 10, 2, 30, 39, 12, 14, 25, 16, 36, 8, 27, 1, 6, 2, 22, 37, 29, 36, 14, 23, 37, 27, 35, 36, 1, 7, 2, 21, 25, 22, 11, 37, 27, 36, 1, 7, 3, 34, 30, 21, 48, 9, 1, 8, 2, 27, 30, 5, 26, 16, 27, 13, 6, 1, 9, 2, 28, 6, 16, 26, 41, 11, 12, 34, 22, 27, 10, 15, 15, 1, 8, 2, 33, 48, 28, 13, 28, 28, 31, 19, 1, 7, 2, 41, 18, 27, 1, 7, 2, 16, 31, 16, 7, 1, 10, 2, 28, 26, 28, 52, 56, 30, 1, 10, 2, 33, 14, 5, 6, 25, 1, 8, 2, 12, 14, 2, 21, 15, 2, 10, 23, 7, 1, 10, 2, 39, 31, 28, 51, 17, 29, 40, 35, 23, 25, 29, 10, 1, 10, 4, 6, 19, 14, 30, 24, 19, 8, 19, 1, 10, 2, 31, 52, 10, 17, 23, 1, 10, 2, 2, 36, 55, 39, 9, 33, 21, 31, 22, 28, 19, 28, 56, 19, 35, 15, 29, 1, 7, 2, 17, 12, 12, 21, 40, 37, 1, 8, 2, 22, 31, 18, 32, 28, 10, 41, 36, 1, 10, 2, 32, 36, 36, 17, 34, 19, 13, 24, 36, 23, 30, 21, 20, 22, 1, 8, 2, 24, 43, 41, 8, 24, 6, 42, 21, 30, 1, 8, 2, 21, 16, 30, 1, 7, 2, 24, 30, 9, 25, 1, 9, 2, 24, 21, 45, 28, 7, 35, 1, 8, 2, 4, 38, 35, 29, 32, 32, 9, 4, 35, 31, 14, 18, 34, 24, 21, 12, 27, 26, 21, 8, 39, 36, 26, 1, 10, 2, 44, 9, 15, 13, 16, 20, 22, 25, 4, 1]\n",
            " - f1: 81.69\n",
            "              precision    recall  f1-score   support\n",
            "\n",
            "         LOC     0.8549    0.8744    0.8645      1799\n",
            "        MISC     0.7433    0.7272    0.7352       920\n",
            "         ORG     0.6960    0.7190    0.7073      1331\n",
            "         PER     0.8671    0.9136    0.8897      1828\n",
            "           d     0.0000    0.0000    0.0000         0\n",
            "\n",
            "   micro avg     0.8057    0.8283    0.8169      5878\n",
            "   macro avg     0.6323    0.6468    0.6393      5878\n",
            "weighted avg     0.8052    0.8283    0.8165      5878\n",
            "\n",
            "Epoch 2 took 385.47058153152466 seconds\n",
            "469/469 [==============================] - 385s 822ms/step - loss: 0.0143 - accuracy: 0.9958\n",
            "Epoch 3/100\n",
            "109/109 [==============================] - 33s 305ms/step\n",
            "[11, 2, 35, 37, 38, 24, 30, 34, 39, 41, 25, 34, 31, 28, 22, 9, 1, 7, 2, 14, 12, 13, 7, 30, 18, 35, 25, 25, 27, 26, 1, 6, 2, 6, 9, 13, 4, 8, 11, 8, 9, 10, 2, 3, 1, 5, 6, 12, 4, 4, 4, 9, 2, 10, 2, 12, 10, 2, 11, 1, 11, 12, 8, 9, 12, 8, 1, 11, 6, 4, 8, 8, 8, 1, 8, 11, 8, 12, 1, 8, 2, 17, 40, 20, 34, 26, 28, 20, 28, 18, 14, 1, 6, 2, 4, 5, 13, 2, 1, 9, 2, 17, 2, 13, 7, 3, 1, 10, 2, 38, 29, 20, 17, 29, 1, 12, 3, 26, 23, 37, 7, 7, 4, 10, 39, 16, 28, 31, 19, 1, 8, 3, 32, 15, 19, 18, 1, 9, 2, 5, 5, 8, 8, 10, 15, 10, 7, 7, 7, 7, 7, 7, 7, 7, 7, 1, 9, 2, 4, 7, 4, 4, 4, 4, 4, 4, 13, 9, 14, 5, 6, 7, 6, 7, 6, 7, 6, 7, 1, 10, 3, 21, 6, 14, 6, 20, 14, 16, 17, 16, 6, 20, 16, 6, 15, 16, 17, 45, 37, 42, 20, 1, 7, 11, 7, 13, 1, 11, 8, 7, 13, 2, 1, 43, 1, 10, 3, 3, 11, 9, 2, 2, 4, 6, 5, 6, 6, 6, 2, 5, 5, 6, 5, 6, 2, 5, 5, 6, 6, 5, 4, 3, 3, 3, 4, 3, 3, 2, 2, 4, 5, 5, 5, 6, 5, 2, 5, 7, 5, 5, 5, 2, 6, 6, 5, 6, 5, 3, 3, 4, 4, 3, 5, 4, 1, 7, 3, 4, 12, 2, 5, 4, 5, 4, 2, 6, 4, 4, 4, 5, 5, 1, 12, 2, 3, 28, 36, 23, 11, 34, 8, 32, 32, 36, 27, 22, 37, 31, 19, 18, 13, 46, 21, 14, 12, 21, 12, 16, 18, 20, 8, 13, 8, 7, 8, 6, 10, 8, 14, 13, 10, 29, 14, 12, 14, 1, 6, 2, 31, 11, 15, 26, 34, 21, 33, 21, 9, 1, 9, 4, 3, 11, 10, 9, 3, 3, 12, 14, 13, 11, 14, 12, 2, 1, 13, 4, 35, 21, 22, 19, 19, 9, 15, 6, 8, 22, 16, 11, 15, 11, 13, 35, 45, 12, 9, 39, 14, 25, 29, 1, 13, 2, 44, 29, 12, 1, 11, 2, 2, 33, 41, 34, 14, 27, 12, 20, 15, 34, 16, 34, 1, 7, 2, 5, 7, 5, 8, 7, 7, 7, 7, 7, 7, 4, 10, 7, 7, 7, 7, 7, 7, 7, 5, 8, 7, 7, 7, 7, 7, 7, 7, 4, 8, 7, 7, 7, 7, 7, 7, 7, 4, 8, 7, 7, 7, 7, 3, 10, 7, 7, 7, 7, 7, 7, 7, 3, 8, 7, 7, 7, 7, 7, 7, 7, 4, 8, 7, 7, 7, 7, 7, 7, 7, 4, 10, 7, 7, 7, 7, 7, 7, 7, 5, 8, 7, 7, 7, 7, 7, 7, 7, 4, 8, 7, 7, 7, 7, 7, 7, 7, 4, 7, 7, 7, 7, 7, 7, 7, 4, 7, 7, 7, 7, 7, 7, 7, 7, 4, 7, 7, 7, 7, 7, 7, 7, 7, 4, 7, 8, 7, 7, 7, 7, 7, 7, 4, 10, 7, 7, 8, 7, 7, 7, 7, 4, 8, 7, 7, 7, 7, 7, 7, 7, 3, 8, 7, 7, 7, 7, 7, 7, 7, 8, 14, 12, 15, 10, 14, 11, 1, 11, 2, 26, 24, 17, 43, 13, 14, 1, 10, 3, 29, 43, 45, 47, 1, 7, 4, 21, 33, 25, 1, 9, 2, 40, 14, 37, 30, 29, 1, 10, 2, 26, 15, 1, 8, 2, 5, 10, 2, 1, 7, 5, 7, 7, 5, 5, 7, 7, 7, 7, 5, 6, 9, 11, 3, 10, 9, 2, 2, 7, 6, 5, 5, 6, 6, 5, 5, 7, 9, 11, 10, 12, 11, 5, 8, 11, 1, 11, 2, 29, 1, 10, 2, 5, 11, 10, 2, 2, 12, 12, 12, 2, 12, 10, 9, 9, 1, 8, 2, 24, 30, 30, 26, 34, 23, 18, 27, 11, 37, 8, 1, 8, 2, 5, 11, 3, 7, 1, 8, 2, 24, 10, 6, 7, 6, 6, 7, 7, 5, 7, 4, 6, 6, 4, 4, 4, 11, 8, 1, 5, 3, 29, 9, 22, 6, 1, 9, 3, 30, 29, 13, 12, 12, 9, 25, 34, 11, 31, 10, 11, 1, 11, 2, 44, 27, 28, 29, 37, 20, 11, 27, 37, 21, 18, 37, 41, 29, 28, 20, 18, 55, 1, 8, 5, 1, 42, 13, 30, 31, 37, 27, 9, 31, 32, 35, 25, 21, 17, 16, 33, 1, 11, 2, 27, 25, 44, 10, 1, 9, 2, 37, 33, 43, 39, 20, 20, 20, 1, 5, 2, 16, 30, 29, 17, 39, 20, 18, 22, 27, 19, 34, 24, 10, 29, 53, 29, 15, 17, 10, 17, 1, 7, 2, 22, 24, 41, 25, 42, 32, 21, 27, 14, 18, 28, 1, 9, 2, 21, 23, 11, 6, 22, 7, 1, 9, 2, 30, 24, 28, 25, 11, 5, 1, 9, 2, 31, 18, 6, 30, 7, 1, 7, 2, 35, 28, 25, 11, 17, 16, 1, 9, 2, 36, 18, 7, 12, 33, 30, 28, 29, 12, 31, 17, 10, 30, 1, 8, 4, 32, 37, 6, 19, 22, 34, 26, 19, 22, 20, 1, 7, 2, 36, 36, 19, 17, 11, 32, 30, 42, 1, 7, 2, 32, 35, 26, 30, 24, 9, 1, 6, 2, 2, 23, 38, 40, 30, 10, 29, 17, 35, 31, 27, 18, 25, 24, 23, 19, 1, 7, 2, 4, 31, 36, 31, 22, 18, 14, 28, 32, 26, 20, 14, 18, 20, 29, 22, 13, 33, 16, 21, 1, 7, 2, 36, 36, 19, 16, 17, 38, 15, 1, 9, 2, 24, 9, 36, 23, 24, 40, 19, 25, 1, 7, 4, 29, 37, 11, 1, 10, 2, 34, 43, 13, 7, 16, 1, 6, 2, 2, 30, 34, 42, 22, 22, 20, 25, 28, 17, 21, 21, 37, 44, 26, 11, 32, 9, 1, 10, 2, 37, 28, 41, 9, 5, 1, 7, 4, 32, 44, 26, 21, 17, 16, 28, 1, 7, 4, 22, 47, 23, 18, 14, 30, 1, 6, 3, 22, 39, 45, 13, 13, 33, 20, 1, 9, 2, 3, 28, 42, 35, 41, 23, 23, 22, 30, 30, 45, 41, 40, 17, 1, 7, 2, 2, 25, 46, 33, 19, 41, 9, 36, 24, 21, 14, 32, 22, 1, 11, 2, 3, 24, 43, 34, 21, 53, 28, 59, 33, 30, 31, 40, 34, 17, 30, 24, 46, 14, 17, 27, 23, 36, 23, 26, 41, 10, 62, 14, 10, 12, 10, 23, 20, 1, 7, 2, 2, 32, 30, 32, 33, 9, 24, 43, 39, 43, 31, 16, 36, 28, 27, 20, 42, 39, 9, 6, 28, 30, 23, 29, 17, 27, 21, 56, 21, 27, 14, 1, 7, 2, 2, 40, 32, 21, 16, 19, 26, 20, 38, 28, 30, 29, 20, 49, 29, 30, 35, 26, 17, 19, 1, 8, 2, 36, 39, 18, 27, 33, 49, 14, 21, 7, 13, 20, 22, 34, 32, 31, 49, 16, 12, 36, 23, 43, 1, 8, 2, 2, 38, 33, 20, 34, 33, 24, 11, 4, 16, 11, 36, 26, 10, 13, 24, 21, 23, 25, 36, 15, 18, 49, 1, 9, 2, 35, 27, 22, 23, 41, 21, 42, 12, 1, 11, 3, 27, 22, 34, 24, 6, 1, 9, 4, 38, 27, 44, 8, 8, 10, 5, 25, 56, 1, 6, 3, 33, 55, 40, 28, 32, 7, 28, 1, 7, 2, 26, 25, 11, 20, 9, 30, 46, 21, 24, 22, 28, 26, 19, 17, 1, 9, 2, 35, 42, 28, 14, 37, 40, 9, 26, 7, 30, 20, 1, 10, 2, 28, 20, 18, 20, 22, 1, 9, 4, 35, 18, 22, 15, 7, 11, 14, 22, 20, 21, 20, 18, 1, 10, 2, 26, 16, 25, 18, 19, 7, 5, 1, 10, 2, 6, 6, 6, 4, 9, 5, 1, 10, 2, 28, 35, 18, 11, 21, 30, 12, 27, 42, 16, 32, 22, 20, 11, 23, 17, 11, 1, 8, 3, 2, 7, 5, 3, 4, 2, 7, 5, 3, 4, 10, 6, 1, 7, 2, 5, 4, 6, 8, 7, 7, 7, 5, 26, 18, 7, 8, 9, 1, 6, 2, 21, 38, 29, 22, 19, 18, 32, 25, 34, 38, 15, 1, 8, 2, 25, 24, 22, 9, 10, 32, 1, 7, 2, 5, 8, 23, 4, 16, 44, 8, 32, 27, 15, 9, 6, 20, 15, 21, 33, 4, 11, 16, 14, 16, 20, 9, 31, 1, 9, 13, 9, 15, 15, 7, 7, 6, 4, 9, 7, 8, 9, 8, 4, 7, 2, 2, 2, 2, 2, 2, 2, 2, 2, 2, 2, 2, 2, 2, 2, 2, 8, 1, 9, 2, 2, 27, 23, 27, 23, 21, 21, 28, 25, 23, 14, 32, 25, 11, 28, 17, 27, 39, 30, 38, 20, 1, 8, 3, 3, 3, 7, 10, 6, 10, 6, 5, 2, 9, 27, 17, 29, 26, 45, 27, 17, 14, 9, 5, 20, 18, 5, 8, 20, 36, 29, 35, 24, 51, 19, 18, 13, 9, 21, 43, 41, 39, 21, 1, 8, 2, 2, 29, 44, 40, 32, 40, 34, 23, 18, 37, 39, 41, 36, 29, 11, 1, 8, 2, 37, 39, 7, 27, 36, 21, 12, 13, 1, 8, 2, 37, 35, 7, 27, 15, 34, 26, 28, 46, 44, 18, 19, 1, 11, 3, 37, 37, 36, 13, 29, 13, 1, 9, 2, 34, 36, 30, 13, 24, 20, 31, 33, 38, 1, 9, 2, 4, 27, 15, 31, 10, 16, 29, 21, 15, 24, 29, 20, 19, 12, 7, 28, 37, 8, 16, 14, 12, 33, 19, 24, 12, 18, 12, 6, 18, 27, 31, 12, 33, 8, 1, 9, 2, 30, 19, 34, 13, 5, 1, 10, 2, 31, 54, 30, 40, 27, 23, 6, 1, 9, 21, 13, 7, 7, 4, 1, 23, 4, 2, 32, 50, 4, 2, 27, 34, 4, 1, 39, 16, 1, 8, 2, 7, 8, 3, 6, 4, 7, 7, 11, 1, 7, 2, 7, 8, 3, 6, 4, 4, 7, 13, 1, 11, 2, 31, 33, 33, 20, 11, 13, 6, 1, 6, 2, 23, 30, 50, 22, 1, 9, 5, 21, 21, 52, 14, 22, 29, 1, 7, 3, 28, 37, 40, 22, 46, 32, 38, 31, 17, 1, 11, 5, 33, 24, 32, 27, 29, 28, 38, 36, 30, 1, 10, 4, 11, 5, 1, 10, 4, 11, 23, 4, 1, 10, 4, 30, 36, 25, 41, 1, 11, 2, 23, 28, 3, 1, 7, 4, 20, 29, 10, 11, 7, 10, 20, 51, 41, 32, 1, 10, 5, 23, 2, 10, 13, 4, 1, 12, 4, 21, 23, 1, 10, 4, 3, 12, 7, 13, 10, 9, 9, 8, 9, 8, 8, 7, 10, 9, 8, 10, 3, 8, 8, 3, 4, 9, 3, 3, 1, 8, 4, 14, 1, 9, 6, 7, 6, 5, 5, 5, 5, 6, 5, 7, 10, 11, 7, 10, 9, 6, 1, 7, 7, 6, 5, 6, 7, 7, 5, 5, 6, 6, 6, 6, 12, 2, 9, 11, 1, 7, 4, 4, 6, 8, 8, 11, 7, 7, 7, 7, 7, 7, 7, 7, 7, 33, 31, 10, 9, 7, 7, 7, 7, 7, 7, 7, 7, 8, 7, 7, 7, 7, 8, 31, 9, 2, 12, 12, 12, 13, 8, 2, 12, 5, 9, 4, 8, 5, 10, 4, 1, 12, 4, 22, 27, 25, 2, 38, 36, 1, 10, 4, 28, 21, 18, 31, 17, 21, 9, 33, 28, 27, 11, 9, 17, 12, 32, 22, 20, 9, 11, 15, 29, 14, 17, 14, 21, 45, 12, 7, 18, 35, 11, 8, 22, 12, 34, 22, 14, 11, 32, 9, 20, 23, 19, 1, 12, 2, 35, 32, 32, 38, 44, 20, 14, 1, 9, 2, 5, 11, 7, 6, 4, 7, 4, 7, 7, 4, 7, 4, 4, 7, 8, 7, 7, 8, 8, 4, 8, 4, 4, 1, 10, 2, 6, 7, 4, 4, 5, 5, 4, 4, 4, 3, 4, 5, 4, 4, 4, 5, 4, 6, 4, 5, 1, 11, 2, 21, 31, 3, 1, 11, 2, 21, 8, 3, 1, 11, 2, 32, 43, 26, 30, 16, 49, 1, 6, 2, 4, 15, 8, 2, 9, 8, 9, 9, 8, 8, 8, 8, 8, 9, 2, 8, 10, 8, 8, 8, 8, 8, 8, 8, 8, 2, 8, 8, 8, 8, 8, 10, 8, 9, 9, 9, 1, 6, 2, 4, 15, 9, 2, 8, 8, 8, 8, 8, 10, 8, 8, 8, 8, 8, 9, 9, 8, 8, 8, 8, 9, 9, 8, 9, 8, 8, 8, 2, 8, 8, 8, 8, 8, 8, 8, 8, 8, 8, 8, 9, 8, 8, 8, 8, 9, 9, 8, 8, 8, 8, 8, 8, 2, 8, 8, 8, 8, 8, 8, 8, 8, 8, 8, 8, 8, 8, 9, 8, 8, 8, 9, 8, 8, 8, 8, 8, 8, 1, 6, 2, 4, 4, 2, 5, 5, 4, 10, 2, 2, 4, 6, 4, 4, 4, 2, 4, 5, 5, 5, 6, 1, 6, 2, 5, 3, 2, 4, 4, 5, 4, 4, 5, 4, 4, 10, 8, 2, 4, 4, 5, 5, 4, 4, 4, 4, 5, 3, 5, 2, 4, 5, 4, 4, 4, 4, 5, 4, 4, 4, 4, 1, 7, 2, 13, 10, 19, 7, 10, 10, 7, 10, 25, 7, 17, 38, 7, 29, 13, 31, 18, 1, 10, 2, 6, 9, 13, 5, 13, 5, 12, 11, 11, 11, 11, 12, 11, 12, 12, 1, 11, 2, 23, 2, 21, 9, 3, 1, 10, 2, 2, 34, 32, 37, 40, 27, 36, 23, 34, 32, 46, 36, 23, 44, 13, 35, 109, 93, 1, 10, 2, 25, 2, 16, 5, 12, 14, 8, 4, 7, 1, 10, 2, 34, 36, 24, 1, 11, 2, 20, 6, 1, 8, 2, 4, 6, 2, 7, 7, 7, 4, 5, 4, 14, 5, 9, 8, 11, 8, 8, 8, 8, 8, 11, 8, 11, 8, 2, 7, 8, 5, 7, 4, 13, 2, 8, 9, 8, 8, 9, 11, 8, 8, 11, 11, 8, 11, 1, 10, 4, 33, 28, 32, 17, 15, 1, 7, 2, 6, 6, 3, 14, 3, 14, 1, 7, 2, 6, 6, 3, 14, 3, 14, 1, 10, 2, 20, 2, 20, 3, 1, 12, 2, 17, 3, 1, 10, 2, 21, 2, 5, 3, 1, 7, 2, 28, 1, 10, 2, 18, 12, 3, 1, 10, 2, 20, 7, 3, 1, 9, 2, 20, 14, 3, 1, 10, 3, 27, 23, 28, 37, 17, 26, 23, 17, 21, 25, 13, 18, 19, 18, 18, 20, 20, 29, 22, 8, 16, 1, 8, 3, 52, 1, 11, 4, 29, 19, 26, 26, 18, 27, 39, 22, 26, 29, 17, 11, 7, 19, 15, 30, 15, 6, 16, 7, 11, 16, 14, 30, 32, 14, 1, 14, 2, 3, 40, 19, 19, 13, 36, 41, 7, 28, 22, 22, 17, 34, 10, 22, 19, 29, 24, 1, 10, 3, 21, 52, 22, 1, 12, 3, 21, 10, 4, 4, 3, 3, 10, 10, 3, 4, 4, 4, 1, 8, 3, 19, 2, 19, 8, 3, 1, 10, 3, 3, 11, 9, 2, 2, 4, 6, 5, 6, 6, 6, 2, 5, 5, 6, 5, 6, 2, 5, 5, 6, 6, 5, 4, 3, 3, 3, 3, 3, 4, 2, 2, 4, 5, 6, 6, 7, 6, 2, 5, 7, 6, 5, 5, 2, 6, 6, 5, 6, 5, 3, 3, 5, 3, 4, 4, 4, 1, 7, 3, 4, 12, 2, 5, 4, 8, 4, 5, 4, 4, 2, 8, 8, 4, 5, 9, 4, 6, 5, 1, 11, 2, 35, 33, 11, 20, 25, 22, 24, 26, 15, 12, 42, 36, 11, 22, 12, 18, 10, 11, 37, 18, 43, 12, 30, 37, 16, 22, 16, 10, 10, 34, 37, 21, 26, 27, 30, 18, 18, 24, 12, 32, 13, 24, 1, 8, 2, 3, 39, 45, 7, 30, 29, 25, 14, 7, 32, 42, 17, 7, 10, 25, 15, 19, 16, 31, 22, 12, 20, 14, 12, 1, 9, 2, 29, 1, 10, 2, 2, 36, 20, 34, 27, 24, 26, 15, 25, 29, 14, 6, 18, 17, 2, 46, 40, 1, 8, 2, 24, 1, 12, 2, 27, 40, 37, 19, 21, 45, 36, 37, 2, 91, 105, 1, 9, 2, 16, 14, 3, 1, 10, 2, 2, 30, 25, 9, 31, 41, 36, 49, 42, 32, 28, 24, 2, 83, 79, 18, 11, 18, 19, 1, 9, 2, 31, 3, 3, 1, 8, 2, 6, 6, 6, 1, 11, 2, 4, 13, 2, 2, 13, 7, 3, 1, 12, 2, 17, 3, 1, 8, 2, 33, 44, 26, 38, 1, 11, 2, 5, 12, 2, 12, 5, 12, 1, 8, 2, 26, 1, 8, 2, 5, 12, 8, 11, 8, 7, 8, 10, 5, 8, 1, 10, 2, 18, 38, 25, 25, 13, 10, 26, 1, 8, 2, 6, 4, 5, 6, 9, 1, 9, 2, 17, 2, 13, 7, 3, 1, 8, 2, 35, 43, 22, 25, 8, 19, 34, 35, 31, 1, 7, 2, 16, 7, 18, 21, 33, 24, 16, 25, 7, 19, 9, 12, 22, 22, 25, 15, 9, 23, 7, 11, 32, 8, 19, 8, 16, 22, 10, 20, 16, 16, 12, 19, 16, 13, 33, 32, 35, 1, 5, 2, 27, 34, 27, 29, 16, 10, 29, 1, 7, 4, 35, 26, 37, 27, 27, 29, 1, 8, 2, 26, 6, 18, 30, 37, 12, 18, 8, 1, 6, 2, 26, 33, 9, 21, 19, 16, 21, 25, 18, 1, 9, 2, 30, 43, 40, 21, 18, 34, 43, 1, 9, 2, 24, 32, 31, 1, 7, 2, 10, 4, 4, 23, 5, 6, 6, 6, 6, 7, 7, 6, 6, 1, 8, 3, 34, 26, 19, 30, 44, 21, 6, 33, 37, 1, 9, 2, 28, 40, 35, 32, 34, 23, 43, 22, 11, 10, 39, 1, 8, 4, 35, 15, 23, 31, 11, 20, 13, 21, 29, 1, 8, 2, 4, 31, 45, 13, 33, 1, 37, 39, 29, 19, 15, 16, 31, 42, 20, 24, 26, 15, 5, 6, 42, 1, 36, 19, 12, 1, 11, 2, 36, 39, 30, 42, 42, 33, 20, 29, 26, 29, 20, 20, 43, 7, 1, 8, 2, 24, 23, 14, 29, 1, 9, 2, 27, 28, 36, 75, 20, 25, 12, 11, 21, 19, 1, 7, 2, 35, 35, 20, 19, 29, 9, 1, 9, 3, 30, 37, 28, 19, 14, 36, 1, 9, 2, 36, 44, 44, 10, 31, 39, 21, 12, 15, 35, 24, 21, 24, 1, 10, 2, 33, 27, 13, 21, 14, 24, 19, 1, 10, 2, 2, 37, 46, 29, 34, 10, 29, 34, 34, 16, 10, 31, 12, 38, 25, 29, 20, 25, 15, 11, 18, 38, 24, 33, 24, 30, 6, 9, 1, 7, 2, 32, 14, 9, 19, 20, 30, 6, 1, 10, 2, 30, 39, 12, 14, 25, 16, 36, 8, 27, 1, 6, 2, 22, 37, 29, 36, 14, 23, 37, 27, 35, 36, 1, 7, 2, 21, 25, 22, 11, 37, 27, 36, 1, 7, 3, 34, 30, 21, 48, 9, 1, 8, 2, 27, 30, 5, 26, 16, 27, 13, 6, 1, 9, 2, 28, 6, 16, 26, 41, 11, 12, 34, 22, 27, 10, 15, 15, 1, 8, 2, 33, 48, 28, 13, 28, 28, 31, 19, 1, 7, 2, 41, 18, 27, 1, 7, 2, 16, 31, 16, 7, 1, 10, 2, 28, 26, 28, 52, 56, 30, 1, 10, 2, 33, 14, 5, 6, 25, 1, 8, 2, 12, 14, 2, 21, 15, 2, 10, 23, 7, 1, 10, 2, 39, 31, 28, 51, 17, 29, 40, 35, 23, 25, 29, 10, 1, 10, 4, 6, 19, 14, 30, 24, 19, 8, 19, 1, 10, 2, 31, 52, 10, 17, 23, 1, 10, 2, 2, 36, 55, 39, 9, 33, 21, 31, 22, 28, 19, 28, 56, 19, 35, 15, 29, 1, 7, 2, 17, 12, 12, 21, 40, 37, 1, 8, 2, 22, 31, 18, 32, 28, 10, 41, 36, 1, 10, 2, 32, 36, 36, 17, 34, 19, 13, 24, 36, 23, 30, 21, 20, 22, 1, 8, 2, 24, 43, 41, 8, 24, 6, 42, 21, 30, 1, 8, 2, 21, 16, 30, 1, 7, 2, 24, 30, 9, 25, 1, 9, 2, 24, 21, 45, 28, 7, 35, 1, 8, 2, 4, 38, 35, 29, 32, 32, 9, 4, 35, 31, 14, 18, 34, 24, 21, 12, 27, 26, 21, 8, 39, 36, 26, 1, 10, 2, 44, 9, 15, 13, 16, 20, 22, 25, 4, 1]\n",
            " - f1: 84.17\n",
            "              precision    recall  f1-score   support\n",
            "\n",
            "         LOC     0.8912    0.8788    0.8850      1799\n",
            "        MISC     0.7815    0.7424    0.7614       920\n",
            "         ORG     0.7378    0.7693    0.7532      1331\n",
            "         PER     0.8928    0.9158    0.9041      1828\n",
            "           d     0.0000    0.0000    0.0000         0\n",
            "\n",
            "   micro avg     0.8392    0.8442    0.8417      5878\n",
            "   macro avg     0.6606    0.6613    0.6607      5878\n",
            "weighted avg     0.8398    0.8442    0.8418      5878\n",
            "\n",
            "Epoch 3 took 383.0364649295807 seconds\n",
            "469/469 [==============================] - 383s 817ms/step - loss: 0.0116 - accuracy: 0.9966\n",
            "Epoch 4/100\n",
            "109/109 [==============================] - 26s 242ms/step\n",
            "[11, 2, 35, 37, 38, 24, 30, 34, 39, 41, 25, 34, 31, 28, 22, 9, 1, 7, 2, 14, 12, 13, 7, 30, 18, 35, 25, 25, 27, 26, 1, 6, 2, 6, 9, 13, 4, 8, 11, 8, 9, 10, 2, 3, 1, 5, 6, 12, 4, 4, 4, 9, 2, 10, 2, 12, 10, 2, 11, 1, 11, 12, 8, 9, 12, 8, 1, 11, 6, 4, 8, 8, 8, 1, 8, 11, 8, 12, 1, 8, 2, 17, 40, 20, 34, 26, 28, 20, 28, 18, 14, 1, 6, 2, 4, 5, 13, 2, 1, 9, 2, 17, 2, 13, 7, 3, 1, 10, 2, 38, 29, 20, 17, 29, 1, 12, 3, 26, 23, 37, 7, 7, 4, 10, 39, 16, 28, 31, 19, 1, 8, 3, 32, 15, 19, 18, 1, 9, 2, 5, 5, 8, 8, 10, 15, 10, 7, 7, 7, 7, 7, 7, 7, 7, 7, 1, 9, 2, 4, 7, 4, 4, 4, 4, 4, 4, 13, 9, 14, 5, 6, 7, 6, 7, 6, 7, 6, 7, 1, 10, 3, 21, 6, 14, 6, 20, 14, 16, 17, 16, 6, 20, 16, 6, 15, 16, 17, 45, 37, 42, 20, 1, 7, 11, 7, 13, 1, 11, 8, 7, 13, 2, 1, 43, 1, 10, 3, 3, 11, 9, 2, 2, 4, 6, 5, 6, 6, 6, 2, 5, 5, 6, 5, 6, 2, 5, 5, 6, 6, 5, 4, 3, 3, 3, 4, 3, 3, 2, 2, 4, 5, 5, 5, 6, 5, 2, 5, 7, 5, 5, 5, 2, 6, 6, 5, 6, 5, 3, 3, 4, 4, 3, 5, 4, 1, 7, 3, 4, 12, 2, 5, 4, 5, 4, 2, 6, 4, 4, 4, 5, 5, 1, 12, 2, 3, 28, 36, 23, 11, 34, 8, 32, 32, 36, 27, 22, 37, 31, 19, 18, 13, 46, 21, 14, 12, 21, 12, 16, 18, 20, 8, 13, 8, 7, 8, 6, 10, 8, 14, 13, 10, 29, 14, 12, 14, 1, 6, 2, 31, 11, 15, 26, 34, 21, 33, 21, 9, 1, 9, 4, 3, 11, 10, 9, 3, 3, 12, 14, 13, 11, 14, 12, 2, 1, 13, 4, 35, 21, 22, 19, 19, 9, 15, 6, 8, 22, 16, 11, 15, 11, 13, 35, 45, 12, 9, 39, 14, 25, 29, 1, 13, 2, 44, 29, 12, 1, 11, 2, 2, 33, 41, 34, 14, 27, 12, 20, 15, 34, 16, 34, 1, 7, 2, 5, 7, 5, 8, 7, 7, 7, 7, 7, 7, 4, 10, 7, 7, 7, 7, 7, 7, 7, 5, 8, 7, 7, 7, 7, 7, 7, 7, 4, 8, 7, 7, 7, 7, 7, 7, 7, 4, 8, 7, 7, 7, 7, 3, 10, 7, 7, 7, 7, 7, 7, 7, 3, 8, 7, 7, 7, 7, 7, 7, 7, 4, 8, 7, 7, 7, 7, 7, 7, 7, 4, 10, 7, 7, 7, 7, 7, 7, 7, 5, 8, 7, 7, 7, 7, 7, 7, 7, 4, 8, 7, 7, 7, 7, 7, 7, 7, 4, 7, 7, 7, 7, 7, 7, 7, 4, 7, 7, 7, 7, 7, 7, 7, 7, 4, 7, 7, 7, 7, 7, 7, 7, 7, 4, 7, 8, 7, 7, 7, 7, 7, 7, 4, 10, 7, 7, 8, 7, 7, 7, 7, 4, 8, 7, 7, 7, 7, 7, 7, 7, 3, 8, 7, 7, 7, 7, 7, 7, 7, 8, 14, 12, 15, 10, 14, 11, 1, 11, 2, 26, 24, 17, 43, 13, 14, 1, 10, 3, 29, 43, 45, 47, 1, 7, 4, 21, 33, 25, 1, 9, 2, 40, 14, 37, 30, 29, 1, 10, 2, 26, 15, 1, 8, 2, 5, 10, 2, 1, 7, 5, 7, 7, 5, 5, 7, 7, 7, 7, 5, 6, 9, 11, 3, 10, 9, 2, 2, 7, 6, 5, 5, 6, 6, 5, 5, 7, 9, 11, 10, 12, 11, 5, 8, 11, 1, 11, 2, 29, 1, 10, 2, 5, 11, 10, 2, 2, 12, 12, 12, 2, 12, 10, 9, 9, 1, 8, 2, 24, 30, 30, 26, 34, 23, 18, 27, 11, 37, 8, 1, 8, 2, 5, 11, 3, 7, 1, 8, 2, 24, 10, 6, 7, 6, 6, 7, 7, 5, 7, 4, 6, 6, 4, 4, 4, 11, 8, 1, 5, 3, 29, 9, 22, 6, 1, 9, 3, 30, 29, 13, 12, 12, 9, 25, 34, 11, 31, 10, 11, 1, 11, 2, 44, 27, 28, 29, 37, 20, 11, 27, 37, 21, 18, 37, 41, 29, 28, 20, 18, 55, 1, 8, 5, 1, 42, 13, 30, 31, 37, 27, 9, 31, 32, 35, 25, 21, 17, 16, 33, 1, 11, 2, 27, 25, 44, 10, 1, 9, 2, 37, 33, 43, 39, 20, 20, 20, 1, 5, 2, 16, 30, 29, 17, 39, 20, 18, 22, 27, 19, 34, 24, 10, 29, 53, 29, 15, 17, 10, 17, 1, 7, 2, 22, 24, 41, 25, 42, 32, 21, 27, 14, 18, 28, 1, 9, 2, 21, 23, 11, 6, 22, 7, 1, 9, 2, 30, 24, 28, 25, 11, 5, 1, 9, 2, 31, 18, 6, 30, 7, 1, 7, 2, 35, 28, 25, 11, 17, 16, 1, 9, 2, 36, 18, 7, 12, 33, 30, 28, 29, 12, 31, 17, 10, 30, 1, 8, 4, 32, 37, 6, 19, 22, 34, 26, 19, 22, 20, 1, 7, 2, 36, 36, 19, 17, 11, 32, 30, 42, 1, 7, 2, 32, 35, 26, 30, 24, 9, 1, 6, 2, 2, 23, 38, 40, 30, 10, 29, 17, 35, 31, 27, 18, 25, 24, 23, 19, 1, 7, 2, 4, 31, 36, 31, 22, 18, 14, 28, 32, 26, 20, 14, 18, 20, 29, 22, 13, 33, 16, 21, 1, 7, 2, 36, 36, 19, 16, 17, 38, 15, 1, 9, 2, 24, 9, 36, 23, 24, 40, 19, 25, 1, 7, 4, 29, 37, 11, 1, 10, 2, 34, 43, 13, 7, 16, 1, 6, 2, 2, 30, 34, 42, 22, 22, 20, 25, 28, 17, 21, 21, 37, 44, 26, 11, 32, 9, 1, 10, 2, 37, 28, 41, 9, 5, 1, 7, 4, 32, 44, 26, 21, 17, 16, 28, 1, 7, 4, 22, 47, 23, 18, 14, 30, 1, 6, 3, 22, 39, 45, 13, 13, 33, 20, 1, 9, 2, 3, 28, 42, 35, 41, 23, 23, 22, 30, 30, 45, 41, 40, 17, 1, 7, 2, 2, 25, 46, 33, 19, 41, 9, 36, 24, 21, 14, 32, 22, 1, 11, 2, 3, 24, 43, 34, 21, 53, 28, 59, 33, 30, 31, 40, 34, 17, 30, 24, 46, 14, 17, 27, 23, 36, 23, 26, 41, 10, 62, 14, 10, 12, 10, 23, 20, 1, 7, 2, 2, 32, 30, 32, 33, 9, 24, 43, 39, 43, 31, 16, 36, 28, 27, 20, 42, 39, 9, 6, 28, 30, 23, 29, 17, 27, 21, 56, 21, 27, 14, 1, 7, 2, 2, 40, 32, 21, 16, 19, 26, 20, 38, 28, 30, 29, 20, 49, 29, 30, 35, 26, 17, 19, 1, 8, 2, 36, 39, 18, 27, 33, 49, 14, 21, 7, 13, 20, 22, 34, 32, 31, 49, 16, 12, 36, 23, 43, 1, 8, 2, 2, 38, 33, 20, 34, 33, 24, 11, 4, 16, 11, 36, 26, 10, 13, 24, 21, 23, 25, 36, 15, 18, 49, 1, 9, 2, 35, 27, 22, 23, 41, 21, 42, 12, 1, 11, 3, 27, 22, 34, 24, 6, 1, 9, 4, 38, 27, 44, 8, 8, 10, 5, 25, 56, 1, 6, 3, 33, 55, 40, 28, 32, 7, 28, 1, 7, 2, 26, 25, 11, 20, 9, 30, 46, 21, 24, 22, 28, 26, 19, 17, 1, 9, 2, 35, 42, 28, 14, 37, 40, 9, 26, 7, 30, 20, 1, 10, 2, 28, 20, 18, 20, 22, 1, 9, 4, 35, 18, 22, 15, 7, 11, 14, 22, 20, 21, 20, 18, 1, 10, 2, 26, 16, 25, 18, 19, 7, 5, 1, 10, 2, 6, 6, 6, 4, 9, 5, 1, 10, 2, 28, 35, 18, 11, 21, 30, 12, 27, 42, 16, 32, 22, 20, 11, 23, 17, 11, 1, 8, 3, 2, 7, 5, 3, 4, 2, 7, 5, 3, 4, 10, 6, 1, 7, 2, 5, 4, 6, 8, 7, 7, 7, 5, 26, 18, 7, 8, 9, 1, 6, 2, 21, 38, 29, 22, 19, 18, 32, 25, 34, 38, 15, 1, 8, 2, 25, 24, 22, 9, 10, 32, 1, 7, 2, 5, 8, 23, 4, 16, 44, 8, 32, 27, 15, 9, 6, 20, 15, 21, 33, 4, 11, 16, 14, 16, 20, 9, 31, 1, 9, 13, 9, 15, 15, 7, 7, 6, 4, 9, 7, 8, 9, 8, 4, 7, 2, 2, 2, 2, 2, 2, 2, 2, 2, 2, 2, 2, 2, 2, 2, 2, 8, 1, 9, 2, 2, 27, 23, 27, 23, 21, 21, 28, 25, 23, 14, 32, 25, 11, 28, 17, 27, 39, 30, 38, 20, 1, 8, 3, 3, 3, 7, 10, 6, 10, 6, 5, 2, 9, 27, 17, 29, 26, 45, 27, 17, 14, 9, 5, 20, 18, 5, 8, 20, 36, 29, 35, 24, 51, 19, 18, 13, 9, 21, 43, 41, 39, 21, 1, 8, 2, 2, 29, 44, 40, 32, 40, 34, 23, 18, 37, 39, 41, 36, 29, 11, 1, 8, 2, 37, 39, 7, 27, 36, 21, 12, 13, 1, 8, 2, 37, 35, 7, 27, 15, 34, 26, 28, 46, 44, 18, 19, 1, 11, 3, 37, 37, 36, 13, 29, 13, 1, 9, 2, 34, 36, 30, 13, 24, 20, 31, 33, 38, 1, 9, 2, 4, 27, 15, 31, 10, 16, 29, 21, 15, 24, 29, 20, 19, 12, 7, 28, 37, 8, 16, 14, 12, 33, 19, 24, 12, 18, 12, 6, 18, 27, 31, 12, 33, 8, 1, 9, 2, 30, 19, 34, 13, 5, 1, 10, 2, 31, 54, 30, 40, 27, 23, 6, 1, 9, 21, 13, 7, 7, 4, 1, 23, 4, 2, 32, 50, 4, 2, 27, 34, 4, 1, 39, 16, 1, 8, 2, 7, 8, 3, 6, 4, 7, 7, 11, 1, 7, 2, 7, 8, 3, 6, 4, 4, 7, 13, 1, 11, 2, 31, 33, 33, 20, 11, 13, 6, 1, 6, 2, 23, 30, 50, 22, 1, 9, 5, 21, 21, 52, 14, 22, 29, 1, 7, 3, 28, 37, 40, 22, 46, 32, 38, 31, 17, 1, 11, 5, 33, 24, 32, 27, 29, 28, 38, 36, 30, 1, 10, 4, 11, 5, 1, 10, 4, 11, 23, 4, 1, 10, 4, 30, 36, 25, 41, 1, 11, 2, 23, 28, 3, 1, 7, 4, 20, 29, 10, 11, 7, 10, 20, 51, 41, 32, 1, 10, 5, 23, 2, 10, 13, 4, 1, 12, 4, 21, 23, 1, 10, 4, 3, 12, 7, 13, 10, 9, 9, 8, 9, 8, 8, 7, 10, 9, 8, 10, 3, 8, 8, 3, 4, 9, 3, 3, 1, 8, 4, 14, 1, 9, 6, 7, 6, 5, 5, 5, 5, 6, 5, 7, 10, 11, 7, 10, 9, 6, 1, 7, 7, 6, 5, 6, 7, 7, 5, 5, 6, 6, 6, 6, 12, 2, 9, 11, 1, 7, 4, 4, 6, 8, 8, 11, 7, 7, 7, 7, 7, 7, 7, 7, 7, 33, 31, 10, 9, 7, 7, 7, 7, 7, 7, 7, 7, 8, 7, 7, 7, 7, 8, 31, 9, 2, 12, 12, 12, 13, 8, 2, 12, 5, 9, 4, 8, 5, 10, 4, 1, 12, 4, 22, 27, 25, 2, 38, 36, 1, 10, 4, 28, 21, 18, 31, 17, 21, 9, 33, 28, 27, 11, 9, 17, 12, 32, 22, 20, 9, 11, 15, 29, 14, 17, 14, 21, 45, 12, 7, 18, 35, 11, 8, 22, 12, 34, 22, 14, 11, 32, 9, 20, 23, 19, 1, 12, 2, 35, 32, 32, 38, 44, 20, 14, 1, 9, 2, 5, 11, 7, 6, 4, 7, 4, 7, 7, 4, 7, 4, 4, 7, 8, 7, 7, 8, 8, 4, 8, 4, 4, 1, 10, 2, 6, 7, 4, 4, 5, 5, 4, 4, 4, 3, 4, 5, 4, 4, 4, 5, 4, 6, 4, 5, 1, 11, 2, 21, 31, 3, 1, 11, 2, 21, 8, 3, 1, 11, 2, 32, 43, 26, 30, 16, 49, 1, 6, 2, 4, 15, 8, 2, 9, 8, 9, 9, 8, 8, 8, 8, 8, 9, 2, 8, 10, 8, 8, 8, 8, 8, 8, 8, 8, 2, 8, 8, 8, 8, 8, 10, 8, 9, 9, 9, 1, 6, 2, 4, 15, 9, 2, 8, 8, 8, 8, 8, 10, 8, 8, 8, 8, 8, 9, 9, 8, 8, 8, 8, 9, 9, 8, 9, 8, 8, 8, 2, 8, 8, 8, 8, 8, 8, 8, 8, 8, 8, 8, 9, 8, 8, 8, 8, 9, 9, 8, 8, 8, 8, 8, 8, 2, 8, 8, 8, 8, 8, 8, 8, 8, 8, 8, 8, 8, 8, 9, 8, 8, 8, 9, 8, 8, 8, 8, 8, 8, 1, 6, 2, 4, 4, 2, 5, 5, 4, 10, 2, 2, 4, 6, 4, 4, 4, 2, 4, 5, 5, 5, 6, 1, 6, 2, 5, 3, 2, 4, 4, 5, 4, 4, 5, 4, 4, 10, 8, 2, 4, 4, 5, 5, 4, 4, 4, 4, 5, 3, 5, 2, 4, 5, 4, 4, 4, 4, 5, 4, 4, 4, 4, 1, 7, 2, 13, 10, 19, 7, 10, 10, 7, 10, 25, 7, 17, 38, 7, 29, 13, 31, 18, 1, 10, 2, 6, 9, 13, 5, 13, 5, 12, 11, 11, 11, 11, 12, 11, 12, 12, 1, 11, 2, 23, 2, 21, 9, 3, 1, 10, 2, 2, 34, 32, 37, 40, 27, 36, 23, 34, 32, 46, 36, 23, 44, 13, 35, 109, 93, 1, 10, 2, 25, 2, 16, 5, 12, 14, 8, 4, 7, 1, 10, 2, 34, 36, 24, 1, 11, 2, 20, 6, 1, 8, 2, 4, 6, 2, 7, 7, 7, 4, 5, 4, 14, 5, 9, 8, 11, 8, 8, 8, 8, 8, 11, 8, 11, 8, 2, 7, 8, 5, 7, 4, 13, 2, 8, 9, 8, 8, 9, 11, 8, 8, 11, 11, 8, 11, 1, 10, 4, 33, 28, 32, 17, 15, 1, 7, 2, 6, 6, 3, 14, 3, 14, 1, 7, 2, 6, 6, 3, 14, 3, 14, 1, 10, 2, 20, 2, 20, 3, 1, 12, 2, 17, 3, 1, 10, 2, 21, 2, 5, 3, 1, 7, 2, 28, 1, 10, 2, 18, 12, 3, 1, 10, 2, 20, 7, 3, 1, 9, 2, 20, 14, 3, 1, 10, 3, 27, 23, 28, 37, 17, 26, 23, 17, 21, 25, 13, 18, 19, 18, 18, 20, 20, 29, 22, 8, 16, 1, 8, 3, 52, 1, 11, 4, 29, 19, 26, 26, 18, 27, 39, 22, 26, 29, 17, 11, 7, 19, 15, 30, 15, 6, 16, 7, 11, 16, 14, 30, 32, 14, 1, 14, 2, 3, 40, 19, 19, 13, 36, 41, 7, 28, 22, 22, 17, 34, 10, 22, 19, 29, 24, 1, 10, 3, 21, 52, 22, 1, 12, 3, 21, 10, 4, 4, 3, 3, 10, 10, 3, 4, 4, 4, 1, 8, 3, 19, 2, 19, 8, 3, 1, 10, 3, 3, 11, 9, 2, 2, 4, 6, 5, 6, 6, 6, 2, 5, 5, 6, 5, 6, 2, 5, 5, 6, 6, 5, 4, 3, 3, 3, 3, 3, 4, 2, 2, 4, 5, 6, 6, 7, 6, 2, 5, 7, 6, 5, 5, 2, 6, 6, 5, 6, 5, 3, 3, 5, 3, 4, 4, 4, 1, 7, 3, 4, 12, 2, 5, 4, 8, 4, 5, 4, 4, 2, 8, 8, 4, 5, 9, 4, 6, 5, 1, 11, 2, 35, 33, 11, 20, 25, 22, 24, 26, 15, 12, 42, 36, 11, 22, 12, 18, 10, 11, 37, 18, 43, 12, 30, 37, 16, 22, 16, 10, 10, 34, 37, 21, 26, 27, 30, 18, 18, 24, 12, 32, 13, 24, 1, 8, 2, 3, 39, 45, 7, 30, 29, 25, 14, 7, 32, 42, 17, 7, 10, 25, 15, 19, 16, 31, 22, 12, 20, 14, 12, 1, 9, 2, 29, 1, 10, 2, 2, 36, 20, 34, 27, 24, 26, 15, 25, 29, 14, 6, 18, 17, 2, 46, 40, 1, 8, 2, 24, 1, 12, 2, 27, 40, 37, 19, 21, 45, 36, 37, 2, 91, 105, 1, 9, 2, 16, 14, 3, 1, 10, 2, 2, 30, 25, 9, 31, 41, 36, 49, 42, 32, 28, 24, 2, 83, 79, 18, 11, 18, 19, 1, 9, 2, 31, 3, 3, 1, 8, 2, 6, 6, 6, 1, 11, 2, 4, 13, 2, 2, 13, 7, 3, 1, 12, 2, 17, 3, 1, 8, 2, 33, 44, 26, 38, 1, 11, 2, 5, 12, 2, 12, 5, 12, 1, 8, 2, 26, 1, 8, 2, 5, 12, 8, 11, 8, 7, 8, 10, 5, 8, 1, 10, 2, 18, 38, 25, 25, 13, 10, 26, 1, 8, 2, 6, 4, 5, 6, 9, 1, 9, 2, 17, 2, 13, 7, 3, 1, 8, 2, 35, 43, 22, 25, 8, 19, 34, 35, 31, 1, 7, 2, 16, 7, 18, 21, 33, 24, 16, 25, 7, 19, 9, 12, 22, 22, 25, 15, 9, 23, 7, 11, 32, 8, 19, 8, 16, 22, 10, 20, 16, 16, 12, 19, 16, 13, 33, 32, 35, 1, 5, 2, 27, 34, 27, 29, 16, 10, 29, 1, 7, 4, 35, 26, 37, 27, 27, 29, 1, 8, 2, 26, 6, 18, 30, 37, 12, 18, 8, 1, 6, 2, 26, 33, 9, 21, 19, 16, 21, 25, 18, 1, 9, 2, 30, 43, 40, 21, 18, 34, 43, 1, 9, 2, 24, 32, 31, 1, 7, 2, 10, 4, 4, 23, 5, 6, 6, 6, 6, 7, 7, 6, 6, 1, 8, 3, 34, 26, 19, 30, 44, 21, 6, 33, 37, 1, 9, 2, 28, 40, 35, 32, 34, 23, 43, 22, 11, 10, 39, 1, 8, 4, 35, 15, 23, 31, 11, 20, 13, 21, 29, 1, 8, 2, 4, 31, 45, 13, 33, 1, 37, 39, 29, 19, 15, 16, 31, 42, 20, 24, 26, 15, 5, 6, 42, 1, 36, 19, 12, 1, 11, 2, 36, 39, 30, 42, 42, 33, 20, 29, 26, 29, 20, 20, 43, 7, 1, 8, 2, 24, 23, 14, 29, 1, 9, 2, 27, 28, 36, 75, 20, 25, 12, 11, 21, 19, 1, 7, 2, 35, 35, 20, 19, 29, 9, 1, 9, 3, 30, 37, 28, 19, 14, 36, 1, 9, 2, 36, 44, 44, 10, 31, 39, 21, 12, 15, 35, 24, 21, 24, 1, 10, 2, 33, 27, 13, 21, 14, 24, 19, 1, 10, 2, 2, 37, 46, 29, 34, 10, 29, 34, 34, 16, 10, 31, 12, 38, 25, 29, 20, 25, 15, 11, 18, 38, 24, 33, 24, 30, 6, 9, 1, 7, 2, 32, 14, 9, 19, 20, 30, 6, 1, 10, 2, 30, 39, 12, 14, 25, 16, 36, 8, 27, 1, 6, 2, 22, 37, 29, 36, 14, 23, 37, 27, 35, 36, 1, 7, 2, 21, 25, 22, 11, 37, 27, 36, 1, 7, 3, 34, 30, 21, 48, 9, 1, 8, 2, 27, 30, 5, 26, 16, 27, 13, 6, 1, 9, 2, 28, 6, 16, 26, 41, 11, 12, 34, 22, 27, 10, 15, 15, 1, 8, 2, 33, 48, 28, 13, 28, 28, 31, 19, 1, 7, 2, 41, 18, 27, 1, 7, 2, 16, 31, 16, 7, 1, 10, 2, 28, 26, 28, 52, 56, 30, 1, 10, 2, 33, 14, 5, 6, 25, 1, 8, 2, 12, 14, 2, 21, 15, 2, 10, 23, 7, 1, 10, 2, 39, 31, 28, 51, 17, 29, 40, 35, 23, 25, 29, 10, 1, 10, 4, 6, 19, 14, 30, 24, 19, 8, 19, 1, 10, 2, 31, 52, 10, 17, 23, 1, 10, 2, 2, 36, 55, 39, 9, 33, 21, 31, 22, 28, 19, 28, 56, 19, 35, 15, 29, 1, 7, 2, 17, 12, 12, 21, 40, 37, 1, 8, 2, 22, 31, 18, 32, 28, 10, 41, 36, 1, 10, 2, 32, 36, 36, 17, 34, 19, 13, 24, 36, 23, 30, 21, 20, 22, 1, 8, 2, 24, 43, 41, 8, 24, 6, 42, 21, 30, 1, 8, 2, 21, 16, 30, 1, 7, 2, 24, 30, 9, 25, 1, 9, 2, 24, 21, 45, 28, 7, 35, 1, 8, 2, 4, 38, 35, 29, 32, 32, 9, 4, 35, 31, 14, 18, 34, 24, 21, 12, 27, 26, 21, 8, 39, 36, 26, 1, 10, 2, 44, 9, 15, 13, 16, 20, 22, 25, 4, 1]\n",
            " - f1: 85.79\n",
            "              precision    recall  f1-score   support\n",
            "\n",
            "         LOC     0.8950    0.9144    0.9046      1799\n",
            "        MISC     0.8232    0.7641    0.7926       920\n",
            "         ORG     0.7478    0.7618    0.7547      1331\n",
            "         PER     0.8988    0.9376    0.9178      1828\n",
            "           d     0.0000    0.0000    0.0000         0\n",
            "\n",
            "   micro avg     0.8522    0.8636    0.8579      5878\n",
            "   macro avg     0.6730    0.6756    0.6739      5878\n",
            "weighted avg     0.8516    0.8636    0.8572      5878\n",
            "\n",
            "Epoch 4 took 354.6407985687256 seconds\n",
            "469/469 [==============================] - 355s 756ms/step - loss: 0.0099 - accuracy: 0.9971\n",
            "Epoch 5/100\n",
            "109/109 [==============================] - 34s 315ms/step\n",
            "[11, 2, 35, 37, 38, 24, 30, 34, 39, 41, 25, 34, 31, 28, 22, 9, 1, 7, 2, 14, 12, 13, 7, 30, 18, 35, 25, 25, 27, 26, 1, 6, 2, 6, 9, 13, 4, 8, 11, 8, 9, 10, 2, 3, 1, 5, 6, 12, 4, 4, 4, 9, 2, 10, 2, 12, 10, 2, 11, 1, 11, 12, 8, 9, 12, 8, 1, 11, 6, 4, 8, 8, 8, 1, 8, 11, 8, 12, 1, 8, 2, 17, 40, 20, 34, 26, 28, 20, 28, 18, 14, 1, 6, 2, 4, 5, 13, 2, 1, 9, 2, 17, 2, 13, 7, 3, 1, 10, 2, 38, 29, 20, 17, 29, 1, 12, 3, 26, 23, 37, 7, 7, 4, 10, 39, 16, 28, 31, 19, 1, 8, 3, 32, 15, 19, 18, 1, 9, 2, 5, 5, 8, 8, 10, 15, 10, 7, 7, 7, 7, 7, 7, 7, 7, 7, 1, 9, 2, 4, 7, 4, 4, 4, 4, 4, 4, 13, 9, 14, 5, 6, 7, 6, 7, 6, 7, 6, 7, 1, 10, 3, 21, 6, 14, 6, 20, 14, 16, 17, 16, 6, 20, 16, 6, 15, 16, 17, 45, 37, 42, 20, 1, 7, 11, 7, 13, 1, 11, 8, 7, 13, 2, 1, 43, 1, 10, 3, 3, 11, 9, 2, 2, 4, 6, 5, 6, 6, 6, 2, 5, 5, 6, 5, 6, 2, 5, 5, 6, 6, 5, 4, 3, 3, 3, 4, 3, 3, 2, 2, 4, 5, 5, 5, 6, 5, 2, 5, 7, 5, 5, 5, 2, 6, 6, 5, 6, 5, 3, 3, 4, 4, 3, 5, 4, 1, 7, 3, 4, 12, 2, 5, 4, 5, 4, 2, 6, 4, 4, 4, 5, 5, 1, 12, 2, 3, 28, 36, 23, 11, 34, 8, 32, 32, 36, 27, 22, 37, 31, 19, 18, 13, 46, 21, 14, 12, 21, 12, 16, 18, 20, 8, 13, 8, 7, 8, 6, 10, 8, 14, 13, 10, 29, 14, 12, 14, 1, 6, 2, 31, 11, 15, 26, 34, 21, 33, 21, 9, 1, 9, 4, 3, 11, 10, 9, 3, 3, 12, 14, 13, 11, 14, 12, 2, 1, 13, 4, 35, 21, 22, 19, 19, 9, 15, 6, 8, 22, 16, 11, 15, 11, 13, 35, 45, 12, 9, 39, 14, 25, 29, 1, 13, 2, 44, 29, 12, 1, 11, 2, 2, 33, 41, 34, 14, 27, 12, 20, 15, 34, 16, 34, 1, 7, 2, 5, 7, 5, 8, 7, 7, 7, 7, 7, 7, 4, 10, 7, 7, 7, 7, 7, 7, 7, 5, 8, 7, 7, 7, 7, 7, 7, 7, 4, 8, 7, 7, 7, 7, 7, 7, 7, 4, 8, 7, 7, 7, 7, 3, 10, 7, 7, 7, 7, 7, 7, 7, 3, 8, 7, 7, 7, 7, 7, 7, 7, 4, 8, 7, 7, 7, 7, 7, 7, 7, 4, 10, 7, 7, 7, 7, 7, 7, 7, 5, 8, 7, 7, 7, 7, 7, 7, 7, 4, 8, 7, 7, 7, 7, 7, 7, 7, 4, 7, 7, 7, 7, 7, 7, 7, 4, 7, 7, 7, 7, 7, 7, 7, 7, 4, 7, 7, 7, 7, 7, 7, 7, 7, 4, 7, 8, 7, 7, 7, 7, 7, 7, 4, 10, 7, 7, 8, 7, 7, 7, 7, 4, 8, 7, 7, 7, 7, 7, 7, 7, 3, 8, 7, 7, 7, 7, 7, 7, 7, 8, 14, 12, 15, 10, 14, 11, 1, 11, 2, 26, 24, 17, 43, 13, 14, 1, 10, 3, 29, 43, 45, 47, 1, 7, 4, 21, 33, 25, 1, 9, 2, 40, 14, 37, 30, 29, 1, 10, 2, 26, 15, 1, 8, 2, 5, 10, 2, 1, 7, 5, 7, 7, 5, 5, 7, 7, 7, 7, 5, 6, 9, 11, 3, 10, 9, 2, 2, 7, 6, 5, 5, 6, 6, 5, 5, 7, 9, 11, 10, 12, 11, 5, 8, 11, 1, 11, 2, 29, 1, 10, 2, 5, 11, 10, 2, 2, 12, 12, 12, 2, 12, 10, 9, 9, 1, 8, 2, 24, 30, 30, 26, 34, 23, 18, 27, 11, 37, 8, 1, 8, 2, 5, 11, 3, 7, 1, 8, 2, 24, 10, 6, 7, 6, 6, 7, 7, 5, 7, 4, 6, 6, 4, 4, 4, 11, 8, 1, 5, 3, 29, 9, 22, 6, 1, 9, 3, 30, 29, 13, 12, 12, 9, 25, 34, 11, 31, 10, 11, 1, 11, 2, 44, 27, 28, 29, 37, 20, 11, 27, 37, 21, 18, 37, 41, 29, 28, 20, 18, 55, 1, 8, 5, 1, 42, 13, 30, 31, 37, 27, 9, 31, 32, 35, 25, 21, 17, 16, 33, 1, 11, 2, 27, 25, 44, 10, 1, 9, 2, 37, 33, 43, 39, 20, 20, 20, 1, 5, 2, 16, 30, 29, 17, 39, 20, 18, 22, 27, 19, 34, 24, 10, 29, 53, 29, 15, 17, 10, 17, 1, 7, 2, 22, 24, 41, 25, 42, 32, 21, 27, 14, 18, 28, 1, 9, 2, 21, 23, 11, 6, 22, 7, 1, 9, 2, 30, 24, 28, 25, 11, 5, 1, 9, 2, 31, 18, 6, 30, 7, 1, 7, 2, 35, 28, 25, 11, 17, 16, 1, 9, 2, 36, 18, 7, 12, 33, 30, 28, 29, 12, 31, 17, 10, 30, 1, 8, 4, 32, 37, 6, 19, 22, 34, 26, 19, 22, 20, 1, 7, 2, 36, 36, 19, 17, 11, 32, 30, 42, 1, 7, 2, 32, 35, 26, 30, 24, 9, 1, 6, 2, 2, 23, 38, 40, 30, 10, 29, 17, 35, 31, 27, 18, 25, 24, 23, 19, 1, 7, 2, 4, 31, 36, 31, 22, 18, 14, 28, 32, 26, 20, 14, 18, 20, 29, 22, 13, 33, 16, 21, 1, 7, 2, 36, 36, 19, 16, 17, 38, 15, 1, 9, 2, 24, 9, 36, 23, 24, 40, 19, 25, 1, 7, 4, 29, 37, 11, 1, 10, 2, 34, 43, 13, 7, 16, 1, 6, 2, 2, 30, 34, 42, 22, 22, 20, 25, 28, 17, 21, 21, 37, 44, 26, 11, 32, 9, 1, 10, 2, 37, 28, 41, 9, 5, 1, 7, 4, 32, 44, 26, 21, 17, 16, 28, 1, 7, 4, 22, 47, 23, 18, 14, 30, 1, 6, 3, 22, 39, 45, 13, 13, 33, 20, 1, 9, 2, 3, 28, 42, 35, 41, 23, 23, 22, 30, 30, 45, 41, 40, 17, 1, 7, 2, 2, 25, 46, 33, 19, 41, 9, 36, 24, 21, 14, 32, 22, 1, 11, 2, 3, 24, 43, 34, 21, 53, 28, 59, 33, 30, 31, 40, 34, 17, 30, 24, 46, 14, 17, 27, 23, 36, 23, 26, 41, 10, 62, 14, 10, 12, 10, 23, 20, 1, 7, 2, 2, 32, 30, 32, 33, 9, 24, 43, 39, 43, 31, 16, 36, 28, 27, 20, 42, 39, 9, 6, 28, 30, 23, 29, 17, 27, 21, 56, 21, 27, 14, 1, 7, 2, 2, 40, 32, 21, 16, 19, 26, 20, 38, 28, 30, 29, 20, 49, 29, 30, 35, 26, 17, 19, 1, 8, 2, 36, 39, 18, 27, 33, 49, 14, 21, 7, 13, 20, 22, 34, 32, 31, 49, 16, 12, 36, 23, 43, 1, 8, 2, 2, 38, 33, 20, 34, 33, 24, 11, 4, 16, 11, 36, 26, 10, 13, 24, 21, 23, 25, 36, 15, 18, 49, 1, 9, 2, 35, 27, 22, 23, 41, 21, 42, 12, 1, 11, 3, 27, 22, 34, 24, 6, 1, 9, 4, 38, 27, 44, 8, 8, 10, 5, 25, 56, 1, 6, 3, 33, 55, 40, 28, 32, 7, 28, 1, 7, 2, 26, 25, 11, 20, 9, 30, 46, 21, 24, 22, 28, 26, 19, 17, 1, 9, 2, 35, 42, 28, 14, 37, 40, 9, 26, 7, 30, 20, 1, 10, 2, 28, 20, 18, 20, 22, 1, 9, 4, 35, 18, 22, 15, 7, 11, 14, 22, 20, 21, 20, 18, 1, 10, 2, 26, 16, 25, 18, 19, 7, 5, 1, 10, 2, 6, 6, 6, 4, 9, 5, 1, 10, 2, 28, 35, 18, 11, 21, 30, 12, 27, 42, 16, 32, 22, 20, 11, 23, 17, 11, 1, 8, 3, 2, 7, 5, 3, 4, 2, 7, 5, 3, 4, 10, 6, 1, 7, 2, 5, 4, 6, 8, 7, 7, 7, 5, 26, 18, 7, 8, 9, 1, 6, 2, 21, 38, 29, 22, 19, 18, 32, 25, 34, 38, 15, 1, 8, 2, 25, 24, 22, 9, 10, 32, 1, 7, 2, 5, 8, 23, 4, 16, 44, 8, 32, 27, 15, 9, 6, 20, 15, 21, 33, 4, 11, 16, 14, 16, 20, 9, 31, 1, 9, 13, 9, 15, 15, 7, 7, 6, 4, 9, 7, 8, 9, 8, 4, 7, 2, 2, 2, 2, 2, 2, 2, 2, 2, 2, 2, 2, 2, 2, 2, 2, 8, 1, 9, 2, 2, 27, 23, 27, 23, 21, 21, 28, 25, 23, 14, 32, 25, 11, 28, 17, 27, 39, 30, 38, 20, 1, 8, 3, 3, 3, 7, 10, 6, 10, 6, 5, 2, 9, 27, 17, 29, 26, 45, 27, 17, 14, 9, 5, 20, 18, 5, 8, 20, 36, 29, 35, 24, 51, 19, 18, 13, 9, 21, 43, 41, 39, 21, 1, 8, 2, 2, 29, 44, 40, 32, 40, 34, 23, 18, 37, 39, 41, 36, 29, 11, 1, 8, 2, 37, 39, 7, 27, 36, 21, 12, 13, 1, 8, 2, 37, 35, 7, 27, 15, 34, 26, 28, 46, 44, 18, 19, 1, 11, 3, 37, 37, 36, 13, 29, 13, 1, 9, 2, 34, 36, 30, 13, 24, 20, 31, 33, 38, 1, 9, 2, 4, 27, 15, 31, 10, 16, 29, 21, 15, 24, 29, 20, 19, 12, 7, 28, 37, 8, 16, 14, 12, 33, 19, 24, 12, 18, 12, 6, 18, 27, 31, 12, 33, 8, 1, 9, 2, 30, 19, 34, 13, 5, 1, 10, 2, 31, 54, 30, 40, 27, 23, 6, 1, 9, 21, 13, 7, 7, 4, 1, 23, 4, 2, 32, 50, 4, 2, 27, 34, 4, 1, 39, 16, 1, 8, 2, 7, 8, 3, 6, 4, 7, 7, 11, 1, 7, 2, 7, 8, 3, 6, 4, 4, 7, 13, 1, 11, 2, 31, 33, 33, 20, 11, 13, 6, 1, 6, 2, 23, 30, 50, 22, 1, 9, 5, 21, 21, 52, 14, 22, 29, 1, 7, 3, 28, 37, 40, 22, 46, 32, 38, 31, 17, 1, 11, 5, 33, 24, 32, 27, 29, 28, 38, 36, 30, 1, 10, 4, 11, 5, 1, 10, 4, 11, 23, 4, 1, 10, 4, 30, 36, 25, 41, 1, 11, 2, 23, 28, 3, 1, 7, 4, 20, 29, 10, 11, 7, 10, 20, 51, 41, 32, 1, 10, 5, 23, 2, 10, 13, 4, 1, 12, 4, 21, 23, 1, 10, 4, 3, 12, 7, 13, 10, 9, 9, 8, 9, 8, 8, 7, 10, 9, 8, 10, 3, 8, 8, 3, 4, 9, 3, 3, 1, 8, 4, 14, 1, 9, 6, 7, 6, 5, 5, 5, 5, 6, 5, 7, 10, 11, 7, 10, 9, 6, 1, 7, 7, 6, 5, 6, 7, 7, 5, 5, 6, 6, 6, 6, 12, 2, 9, 11, 1, 7, 4, 4, 6, 8, 8, 11, 7, 7, 7, 7, 7, 7, 7, 7, 7, 33, 31, 10, 9, 7, 7, 7, 7, 7, 7, 7, 7, 8, 7, 7, 7, 7, 8, 31, 9, 2, 12, 12, 12, 13, 8, 2, 12, 5, 9, 4, 8, 5, 10, 4, 1, 12, 4, 22, 27, 25, 2, 38, 36, 1, 10, 4, 28, 21, 18, 31, 17, 21, 9, 33, 28, 27, 11, 9, 17, 12, 32, 22, 20, 9, 11, 15, 29, 14, 17, 14, 21, 45, 12, 7, 18, 35, 11, 8, 22, 12, 34, 22, 14, 11, 32, 9, 20, 23, 19, 1, 12, 2, 35, 32, 32, 38, 44, 20, 14, 1, 9, 2, 5, 11, 7, 6, 4, 7, 4, 7, 7, 4, 7, 4, 4, 7, 8, 7, 7, 8, 8, 4, 8, 4, 4, 1, 10, 2, 6, 7, 4, 4, 5, 5, 4, 4, 4, 3, 4, 5, 4, 4, 4, 5, 4, 6, 4, 5, 1, 11, 2, 21, 31, 3, 1, 11, 2, 21, 8, 3, 1, 11, 2, 32, 43, 26, 30, 16, 49, 1, 6, 2, 4, 15, 8, 2, 9, 8, 9, 9, 8, 8, 8, 8, 8, 9, 2, 8, 10, 8, 8, 8, 8, 8, 8, 8, 8, 2, 8, 8, 8, 8, 8, 10, 8, 9, 9, 9, 1, 6, 2, 4, 15, 9, 2, 8, 8, 8, 8, 8, 10, 8, 8, 8, 8, 8, 9, 9, 8, 8, 8, 8, 9, 9, 8, 9, 8, 8, 8, 2, 8, 8, 8, 8, 8, 8, 8, 8, 8, 8, 8, 9, 8, 8, 8, 8, 9, 9, 8, 8, 8, 8, 8, 8, 2, 8, 8, 8, 8, 8, 8, 8, 8, 8, 8, 8, 8, 8, 9, 8, 8, 8, 9, 8, 8, 8, 8, 8, 8, 1, 6, 2, 4, 4, 2, 5, 5, 4, 10, 2, 2, 4, 6, 4, 4, 4, 2, 4, 5, 5, 5, 6, 1, 6, 2, 5, 3, 2, 4, 4, 5, 4, 4, 5, 4, 4, 10, 8, 2, 4, 4, 5, 5, 4, 4, 4, 4, 5, 3, 5, 2, 4, 5, 4, 4, 4, 4, 5, 4, 4, 4, 4, 1, 7, 2, 13, 10, 19, 7, 10, 10, 7, 10, 25, 7, 17, 38, 7, 29, 13, 31, 18, 1, 10, 2, 6, 9, 13, 5, 13, 5, 12, 11, 11, 11, 11, 12, 11, 12, 12, 1, 11, 2, 23, 2, 21, 9, 3, 1, 10, 2, 2, 34, 32, 37, 40, 27, 36, 23, 34, 32, 46, 36, 23, 44, 13, 35, 109, 93, 1, 10, 2, 25, 2, 16, 5, 12, 14, 8, 4, 7, 1, 10, 2, 34, 36, 24, 1, 11, 2, 20, 6, 1, 8, 2, 4, 6, 2, 7, 7, 7, 4, 5, 4, 14, 5, 9, 8, 11, 8, 8, 8, 8, 8, 11, 8, 11, 8, 2, 7, 8, 5, 7, 4, 13, 2, 8, 9, 8, 8, 9, 11, 8, 8, 11, 11, 8, 11, 1, 10, 4, 33, 28, 32, 17, 15, 1, 7, 2, 6, 6, 3, 14, 3, 14, 1, 7, 2, 6, 6, 3, 14, 3, 14, 1, 10, 2, 20, 2, 20, 3, 1, 12, 2, 17, 3, 1, 10, 2, 21, 2, 5, 3, 1, 7, 2, 28, 1, 10, 2, 18, 12, 3, 1, 10, 2, 20, 7, 3, 1, 9, 2, 20, 14, 3, 1, 10, 3, 27, 23, 28, 37, 17, 26, 23, 17, 21, 25, 13, 18, 19, 18, 18, 20, 20, 29, 22, 8, 16, 1, 8, 3, 52, 1, 11, 4, 29, 19, 26, 26, 18, 27, 39, 22, 26, 29, 17, 11, 7, 19, 15, 30, 15, 6, 16, 7, 11, 16, 14, 30, 32, 14, 1, 14, 2, 3, 40, 19, 19, 13, 36, 41, 7, 28, 22, 22, 17, 34, 10, 22, 19, 29, 24, 1, 10, 3, 21, 52, 22, 1, 12, 3, 21, 10, 4, 4, 3, 3, 10, 10, 3, 4, 4, 4, 1, 8, 3, 19, 2, 19, 8, 3, 1, 10, 3, 3, 11, 9, 2, 2, 4, 6, 5, 6, 6, 6, 2, 5, 5, 6, 5, 6, 2, 5, 5, 6, 6, 5, 4, 3, 3, 3, 3, 3, 4, 2, 2, 4, 5, 6, 6, 7, 6, 2, 5, 7, 6, 5, 5, 2, 6, 6, 5, 6, 5, 3, 3, 5, 3, 4, 4, 4, 1, 7, 3, 4, 12, 2, 5, 4, 8, 4, 5, 4, 4, 2, 8, 8, 4, 5, 9, 4, 6, 5, 1, 11, 2, 35, 33, 11, 20, 25, 22, 24, 26, 15, 12, 42, 36, 11, 22, 12, 18, 10, 11, 37, 18, 43, 12, 30, 37, 16, 22, 16, 10, 10, 34, 37, 21, 26, 27, 30, 18, 18, 24, 12, 32, 13, 24, 1, 8, 2, 3, 39, 45, 7, 30, 29, 25, 14, 7, 32, 42, 17, 7, 10, 25, 15, 19, 16, 31, 22, 12, 20, 14, 12, 1, 9, 2, 29, 1, 10, 2, 2, 36, 20, 34, 27, 24, 26, 15, 25, 29, 14, 6, 18, 17, 2, 46, 40, 1, 8, 2, 24, 1, 12, 2, 27, 40, 37, 19, 21, 45, 36, 37, 2, 91, 105, 1, 9, 2, 16, 14, 3, 1, 10, 2, 2, 30, 25, 9, 31, 41, 36, 49, 42, 32, 28, 24, 2, 83, 79, 18, 11, 18, 19, 1, 9, 2, 31, 3, 3, 1, 8, 2, 6, 6, 6, 1, 11, 2, 4, 13, 2, 2, 13, 7, 3, 1, 12, 2, 17, 3, 1, 8, 2, 33, 44, 26, 38, 1, 11, 2, 5, 12, 2, 12, 5, 12, 1, 8, 2, 26, 1, 8, 2, 5, 12, 8, 11, 8, 7, 8, 10, 5, 8, 1, 10, 2, 18, 38, 25, 25, 13, 10, 26, 1, 8, 2, 6, 4, 5, 6, 9, 1, 9, 2, 17, 2, 13, 7, 3, 1, 8, 2, 35, 43, 22, 25, 8, 19, 34, 35, 31, 1, 7, 2, 16, 7, 18, 21, 33, 24, 16, 25, 7, 19, 9, 12, 22, 22, 25, 15, 9, 23, 7, 11, 32, 8, 19, 8, 16, 22, 10, 20, 16, 16, 12, 19, 16, 13, 33, 32, 35, 1, 5, 2, 27, 34, 27, 29, 16, 10, 29, 1, 7, 4, 35, 26, 37, 27, 27, 29, 1, 8, 2, 26, 6, 18, 30, 37, 12, 18, 8, 1, 6, 2, 26, 33, 9, 21, 19, 16, 21, 25, 18, 1, 9, 2, 30, 43, 40, 21, 18, 34, 43, 1, 9, 2, 24, 32, 31, 1, 7, 2, 10, 4, 4, 23, 5, 6, 6, 6, 6, 7, 7, 6, 6, 1, 8, 3, 34, 26, 19, 30, 44, 21, 6, 33, 37, 1, 9, 2, 28, 40, 35, 32, 34, 23, 43, 22, 11, 10, 39, 1, 8, 4, 35, 15, 23, 31, 11, 20, 13, 21, 29, 1, 8, 2, 4, 31, 45, 13, 33, 1, 37, 39, 29, 19, 15, 16, 31, 42, 20, 24, 26, 15, 5, 6, 42, 1, 36, 19, 12, 1, 11, 2, 36, 39, 30, 42, 42, 33, 20, 29, 26, 29, 20, 20, 43, 7, 1, 8, 2, 24, 23, 14, 29, 1, 9, 2, 27, 28, 36, 75, 20, 25, 12, 11, 21, 19, 1, 7, 2, 35, 35, 20, 19, 29, 9, 1, 9, 3, 30, 37, 28, 19, 14, 36, 1, 9, 2, 36, 44, 44, 10, 31, 39, 21, 12, 15, 35, 24, 21, 24, 1, 10, 2, 33, 27, 13, 21, 14, 24, 19, 1, 10, 2, 2, 37, 46, 29, 34, 10, 29, 34, 34, 16, 10, 31, 12, 38, 25, 29, 20, 25, 15, 11, 18, 38, 24, 33, 24, 30, 6, 9, 1, 7, 2, 32, 14, 9, 19, 20, 30, 6, 1, 10, 2, 30, 39, 12, 14, 25, 16, 36, 8, 27, 1, 6, 2, 22, 37, 29, 36, 14, 23, 37, 27, 35, 36, 1, 7, 2, 21, 25, 22, 11, 37, 27, 36, 1, 7, 3, 34, 30, 21, 48, 9, 1, 8, 2, 27, 30, 5, 26, 16, 27, 13, 6, 1, 9, 2, 28, 6, 16, 26, 41, 11, 12, 34, 22, 27, 10, 15, 15, 1, 8, 2, 33, 48, 28, 13, 28, 28, 31, 19, 1, 7, 2, 41, 18, 27, 1, 7, 2, 16, 31, 16, 7, 1, 10, 2, 28, 26, 28, 52, 56, 30, 1, 10, 2, 33, 14, 5, 6, 25, 1, 8, 2, 12, 14, 2, 21, 15, 2, 10, 23, 7, 1, 10, 2, 39, 31, 28, 51, 17, 29, 40, 35, 23, 25, 29, 10, 1, 10, 4, 6, 19, 14, 30, 24, 19, 8, 19, 1, 10, 2, 31, 52, 10, 17, 23, 1, 10, 2, 2, 36, 55, 39, 9, 33, 21, 31, 22, 28, 19, 28, 56, 19, 35, 15, 29, 1, 7, 2, 17, 12, 12, 21, 40, 37, 1, 8, 2, 22, 31, 18, 32, 28, 10, 41, 36, 1, 10, 2, 32, 36, 36, 17, 34, 19, 13, 24, 36, 23, 30, 21, 20, 22, 1, 8, 2, 24, 43, 41, 8, 24, 6, 42, 21, 30, 1, 8, 2, 21, 16, 30, 1, 7, 2, 24, 30, 9, 25, 1, 9, 2, 24, 21, 45, 28, 7, 35, 1, 8, 2, 4, 38, 35, 29, 32, 32, 9, 4, 35, 31, 14, 18, 34, 24, 21, 12, 27, 26, 21, 8, 39, 36, 26, 1, 10, 2, 44, 9, 15, 13, 16, 20, 22, 25, 4, 1]\n",
            " - f1: 87.02\n",
            "              precision    recall  f1-score   support\n",
            "\n",
            "         LOC     0.9104    0.9155    0.9130      1799\n",
            "        MISC     0.8243    0.7804    0.8018       920\n",
            "         ORG     0.7913    0.7806    0.7859      1331\n",
            "         PER     0.8994    0.9442    0.9213      1828\n",
            "           d     0.0000    0.0000    0.0000         0\n",
            "\n",
            "   micro avg     0.8676    0.8727    0.8702      5878\n",
            "   macro avg     0.6851    0.6842    0.6844      5878\n",
            "weighted avg     0.8666    0.8727    0.8694      5878\n",
            "\n",
            "Epoch 5 took 374.8129744529724 seconds\n",
            "469/469 [==============================] - 375s 800ms/step - loss: 0.0087 - accuracy: 0.9975\n",
            "Epoch 6/100\n",
            "109/109 [==============================] - 27s 245ms/step\n",
            "[11, 2, 35, 37, 38, 24, 30, 34, 39, 41, 25, 34, 31, 28, 22, 9, 1, 7, 2, 14, 12, 13, 7, 30, 18, 35, 25, 25, 27, 26, 1, 6, 2, 6, 9, 13, 4, 8, 11, 8, 9, 10, 2, 3, 1, 5, 6, 12, 4, 4, 4, 9, 2, 10, 2, 12, 10, 2, 11, 1, 11, 12, 8, 9, 12, 8, 1, 11, 6, 4, 8, 8, 8, 1, 8, 11, 8, 12, 1, 8, 2, 17, 40, 20, 34, 26, 28, 20, 28, 18, 14, 1, 6, 2, 4, 5, 13, 2, 1, 9, 2, 17, 2, 13, 7, 3, 1, 10, 2, 38, 29, 20, 17, 29, 1, 12, 3, 26, 23, 37, 7, 7, 4, 10, 39, 16, 28, 31, 19, 1, 8, 3, 32, 15, 19, 18, 1, 9, 2, 5, 5, 8, 8, 10, 15, 10, 7, 7, 7, 7, 7, 7, 7, 7, 7, 1, 9, 2, 4, 7, 4, 4, 4, 4, 4, 4, 13, 9, 14, 5, 6, 7, 6, 7, 6, 7, 6, 7, 1, 10, 3, 21, 6, 14, 6, 20, 14, 16, 17, 16, 6, 20, 16, 6, 15, 16, 17, 45, 37, 42, 20, 1, 7, 11, 7, 13, 1, 11, 8, 7, 13, 2, 1, 43, 1, 10, 3, 3, 11, 9, 2, 2, 4, 6, 5, 6, 6, 6, 2, 5, 5, 6, 5, 6, 2, 5, 5, 6, 6, 5, 4, 3, 3, 3, 4, 3, 3, 2, 2, 4, 5, 5, 5, 6, 5, 2, 5, 7, 5, 5, 5, 2, 6, 6, 5, 6, 5, 3, 3, 4, 4, 3, 5, 4, 1, 7, 3, 4, 12, 2, 5, 4, 5, 4, 2, 6, 4, 4, 4, 5, 5, 1, 12, 2, 3, 28, 36, 23, 11, 34, 8, 32, 32, 36, 27, 22, 37, 31, 19, 18, 13, 46, 21, 14, 12, 21, 12, 16, 18, 20, 8, 13, 8, 7, 8, 6, 10, 8, 14, 13, 10, 29, 14, 12, 14, 1, 6, 2, 31, 11, 15, 26, 34, 21, 33, 21, 9, 1, 9, 4, 3, 11, 10, 9, 3, 3, 12, 14, 13, 11, 14, 12, 2, 1, 13, 4, 35, 21, 22, 19, 19, 9, 15, 6, 8, 22, 16, 11, 15, 11, 13, 35, 45, 12, 9, 39, 14, 25, 29, 1, 13, 2, 44, 29, 12, 1, 11, 2, 2, 33, 41, 34, 14, 27, 12, 20, 15, 34, 16, 34, 1, 7, 2, 5, 7, 5, 8, 7, 7, 7, 7, 7, 7, 4, 10, 7, 7, 7, 7, 7, 7, 7, 5, 8, 7, 7, 7, 7, 7, 7, 7, 4, 8, 7, 7, 7, 7, 7, 7, 7, 4, 8, 7, 7, 7, 7, 3, 10, 7, 7, 7, 7, 7, 7, 7, 3, 8, 7, 7, 7, 7, 7, 7, 7, 4, 8, 7, 7, 7, 7, 7, 7, 7, 4, 10, 7, 7, 7, 7, 7, 7, 7, 5, 8, 7, 7, 7, 7, 7, 7, 7, 4, 8, 7, 7, 7, 7, 7, 7, 7, 4, 7, 7, 7, 7, 7, 7, 7, 4, 7, 7, 7, 7, 7, 7, 7, 7, 4, 7, 7, 7, 7, 7, 7, 7, 7, 4, 7, 8, 7, 7, 7, 7, 7, 7, 4, 10, 7, 7, 8, 7, 7, 7, 7, 4, 8, 7, 7, 7, 7, 7, 7, 7, 3, 8, 7, 7, 7, 7, 7, 7, 7, 8, 14, 12, 15, 10, 14, 11, 1, 11, 2, 26, 24, 17, 43, 13, 14, 1, 10, 3, 29, 43, 45, 47, 1, 7, 4, 21, 33, 25, 1, 9, 2, 40, 14, 37, 30, 29, 1, 10, 2, 26, 15, 1, 8, 2, 5, 10, 2, 1, 7, 5, 7, 7, 5, 5, 7, 7, 7, 7, 5, 6, 9, 11, 3, 10, 9, 2, 2, 7, 6, 5, 5, 6, 6, 5, 5, 7, 9, 11, 10, 12, 11, 5, 8, 11, 1, 11, 2, 29, 1, 10, 2, 5, 11, 10, 2, 2, 12, 12, 12, 2, 12, 10, 9, 9, 1, 8, 2, 24, 30, 30, 26, 34, 23, 18, 27, 11, 37, 8, 1, 8, 2, 5, 11, 3, 7, 1, 8, 2, 24, 10, 6, 7, 6, 6, 7, 7, 5, 7, 4, 6, 6, 4, 4, 4, 11, 8, 1, 5, 3, 29, 9, 22, 6, 1, 9, 3, 30, 29, 13, 12, 12, 9, 25, 34, 11, 31, 10, 11, 1, 11, 2, 44, 27, 28, 29, 37, 20, 11, 27, 37, 21, 18, 37, 41, 29, 28, 20, 18, 55, 1, 8, 5, 1, 42, 13, 30, 31, 37, 27, 9, 31, 32, 35, 25, 21, 17, 16, 33, 1, 11, 2, 27, 25, 44, 10, 1, 9, 2, 37, 33, 43, 39, 20, 20, 20, 1, 5, 2, 16, 30, 29, 17, 39, 20, 18, 22, 27, 19, 34, 24, 10, 29, 53, 29, 15, 17, 10, 17, 1, 7, 2, 22, 24, 41, 25, 42, 32, 21, 27, 14, 18, 28, 1, 9, 2, 21, 23, 11, 6, 22, 7, 1, 9, 2, 30, 24, 28, 25, 11, 5, 1, 9, 2, 31, 18, 6, 30, 7, 1, 7, 2, 35, 28, 25, 11, 17, 16, 1, 9, 2, 36, 18, 7, 12, 33, 30, 28, 29, 12, 31, 17, 10, 30, 1, 8, 4, 32, 37, 6, 19, 22, 34, 26, 19, 22, 20, 1, 7, 2, 36, 36, 19, 17, 11, 32, 30, 42, 1, 7, 2, 32, 35, 26, 30, 24, 9, 1, 6, 2, 2, 23, 38, 40, 30, 10, 29, 17, 35, 31, 27, 18, 25, 24, 23, 19, 1, 7, 2, 4, 31, 36, 31, 22, 18, 14, 28, 32, 26, 20, 14, 18, 20, 29, 22, 13, 33, 16, 21, 1, 7, 2, 36, 36, 19, 16, 17, 38, 15, 1, 9, 2, 24, 9, 36, 23, 24, 40, 19, 25, 1, 7, 4, 29, 37, 11, 1, 10, 2, 34, 43, 13, 7, 16, 1, 6, 2, 2, 30, 34, 42, 22, 22, 20, 25, 28, 17, 21, 21, 37, 44, 26, 11, 32, 9, 1, 10, 2, 37, 28, 41, 9, 5, 1, 7, 4, 32, 44, 26, 21, 17, 16, 28, 1, 7, 4, 22, 47, 23, 18, 14, 30, 1, 6, 3, 22, 39, 45, 13, 13, 33, 20, 1, 9, 2, 3, 28, 42, 35, 41, 23, 23, 22, 30, 30, 45, 41, 40, 17, 1, 7, 2, 2, 25, 46, 33, 19, 41, 9, 36, 24, 21, 14, 32, 22, 1, 11, 2, 3, 24, 43, 34, 21, 53, 28, 59, 33, 30, 31, 40, 34, 17, 30, 24, 46, 14, 17, 27, 23, 36, 23, 26, 41, 10, 62, 14, 10, 12, 10, 23, 20, 1, 7, 2, 2, 32, 30, 32, 33, 9, 24, 43, 39, 43, 31, 16, 36, 28, 27, 20, 42, 39, 9, 6, 28, 30, 23, 29, 17, 27, 21, 56, 21, 27, 14, 1, 7, 2, 2, 40, 32, 21, 16, 19, 26, 20, 38, 28, 30, 29, 20, 49, 29, 30, 35, 26, 17, 19, 1, 8, 2, 36, 39, 18, 27, 33, 49, 14, 21, 7, 13, 20, 22, 34, 32, 31, 49, 16, 12, 36, 23, 43, 1, 8, 2, 2, 38, 33, 20, 34, 33, 24, 11, 4, 16, 11, 36, 26, 10, 13, 24, 21, 23, 25, 36, 15, 18, 49, 1, 9, 2, 35, 27, 22, 23, 41, 21, 42, 12, 1, 11, 3, 27, 22, 34, 24, 6, 1, 9, 4, 38, 27, 44, 8, 8, 10, 5, 25, 56, 1, 6, 3, 33, 55, 40, 28, 32, 7, 28, 1, 7, 2, 26, 25, 11, 20, 9, 30, 46, 21, 24, 22, 28, 26, 19, 17, 1, 9, 2, 35, 42, 28, 14, 37, 40, 9, 26, 7, 30, 20, 1, 10, 2, 28, 20, 18, 20, 22, 1, 9, 4, 35, 18, 22, 15, 7, 11, 14, 22, 20, 21, 20, 18, 1, 10, 2, 26, 16, 25, 18, 19, 7, 5, 1, 10, 2, 6, 6, 6, 4, 9, 5, 1, 10, 2, 28, 35, 18, 11, 21, 30, 12, 27, 42, 16, 32, 22, 20, 11, 23, 17, 11, 1, 8, 3, 2, 7, 5, 3, 4, 2, 7, 5, 3, 4, 10, 6, 1, 7, 2, 5, 4, 6, 8, 7, 7, 7, 5, 26, 18, 7, 8, 9, 1, 6, 2, 21, 38, 29, 22, 19, 18, 32, 25, 34, 38, 15, 1, 8, 2, 25, 24, 22, 9, 10, 32, 1, 7, 2, 5, 8, 23, 4, 16, 44, 8, 32, 27, 15, 9, 6, 20, 15, 21, 33, 4, 11, 16, 14, 16, 20, 9, 31, 1, 9, 13, 9, 15, 15, 7, 7, 6, 4, 9, 7, 8, 9, 8, 4, 7, 2, 2, 2, 2, 2, 2, 2, 2, 2, 2, 2, 2, 2, 2, 2, 2, 8, 1, 9, 2, 2, 27, 23, 27, 23, 21, 21, 28, 25, 23, 14, 32, 25, 11, 28, 17, 27, 39, 30, 38, 20, 1, 8, 3, 3, 3, 7, 10, 6, 10, 6, 5, 2, 9, 27, 17, 29, 26, 45, 27, 17, 14, 9, 5, 20, 18, 5, 8, 20, 36, 29, 35, 24, 51, 19, 18, 13, 9, 21, 43, 41, 39, 21, 1, 8, 2, 2, 29, 44, 40, 32, 40, 34, 23, 18, 37, 39, 41, 36, 29, 11, 1, 8, 2, 37, 39, 7, 27, 36, 21, 12, 13, 1, 8, 2, 37, 35, 7, 27, 15, 34, 26, 28, 46, 44, 18, 19, 1, 11, 3, 37, 37, 36, 13, 29, 13, 1, 9, 2, 34, 36, 30, 13, 24, 20, 31, 33, 38, 1, 9, 2, 4, 27, 15, 31, 10, 16, 29, 21, 15, 24, 29, 20, 19, 12, 7, 28, 37, 8, 16, 14, 12, 33, 19, 24, 12, 18, 12, 6, 18, 27, 31, 12, 33, 8, 1, 9, 2, 30, 19, 34, 13, 5, 1, 10, 2, 31, 54, 30, 40, 27, 23, 6, 1, 9, 21, 13, 7, 7, 4, 1, 23, 4, 2, 32, 50, 4, 2, 27, 34, 4, 1, 39, 16, 1, 8, 2, 7, 8, 3, 6, 4, 7, 7, 11, 1, 7, 2, 7, 8, 3, 6, 4, 4, 7, 13, 1, 11, 2, 31, 33, 33, 20, 11, 13, 6, 1, 6, 2, 23, 30, 50, 22, 1, 9, 5, 21, 21, 52, 14, 22, 29, 1, 7, 3, 28, 37, 40, 22, 46, 32, 38, 31, 17, 1, 11, 5, 33, 24, 32, 27, 29, 28, 38, 36, 30, 1, 10, 4, 11, 5, 1, 10, 4, 11, 23, 4, 1, 10, 4, 30, 36, 25, 41, 1, 11, 2, 23, 28, 3, 1, 7, 4, 20, 29, 10, 11, 7, 10, 20, 51, 41, 32, 1, 10, 5, 23, 2, 10, 13, 4, 1, 12, 4, 21, 23, 1, 10, 4, 3, 12, 7, 13, 10, 9, 9, 8, 9, 8, 8, 7, 10, 9, 8, 10, 3, 8, 8, 3, 4, 9, 3, 3, 1, 8, 4, 14, 1, 9, 6, 7, 6, 5, 5, 5, 5, 6, 5, 7, 10, 11, 7, 10, 9, 6, 1, 7, 7, 6, 5, 6, 7, 7, 5, 5, 6, 6, 6, 6, 12, 2, 9, 11, 1, 7, 4, 4, 6, 8, 8, 11, 7, 7, 7, 7, 7, 7, 7, 7, 7, 33, 31, 10, 9, 7, 7, 7, 7, 7, 7, 7, 7, 8, 7, 7, 7, 7, 8, 31, 9, 2, 12, 12, 12, 13, 8, 2, 12, 5, 9, 4, 8, 5, 10, 4, 1, 12, 4, 22, 27, 25, 2, 38, 36, 1, 10, 4, 28, 21, 18, 31, 17, 21, 9, 33, 28, 27, 11, 9, 17, 12, 32, 22, 20, 9, 11, 15, 29, 14, 17, 14, 21, 45, 12, 7, 18, 35, 11, 8, 22, 12, 34, 22, 14, 11, 32, 9, 20, 23, 19, 1, 12, 2, 35, 32, 32, 38, 44, 20, 14, 1, 9, 2, 5, 11, 7, 6, 4, 7, 4, 7, 7, 4, 7, 4, 4, 7, 8, 7, 7, 8, 8, 4, 8, 4, 4, 1, 10, 2, 6, 7, 4, 4, 5, 5, 4, 4, 4, 3, 4, 5, 4, 4, 4, 5, 4, 6, 4, 5, 1, 11, 2, 21, 31, 3, 1, 11, 2, 21, 8, 3, 1, 11, 2, 32, 43, 26, 30, 16, 49, 1, 6, 2, 4, 15, 8, 2, 9, 8, 9, 9, 8, 8, 8, 8, 8, 9, 2, 8, 10, 8, 8, 8, 8, 8, 8, 8, 8, 2, 8, 8, 8, 8, 8, 10, 8, 9, 9, 9, 1, 6, 2, 4, 15, 9, 2, 8, 8, 8, 8, 8, 10, 8, 8, 8, 8, 8, 9, 9, 8, 8, 8, 8, 9, 9, 8, 9, 8, 8, 8, 2, 8, 8, 8, 8, 8, 8, 8, 8, 8, 8, 8, 9, 8, 8, 8, 8, 9, 9, 8, 8, 8, 8, 8, 8, 2, 8, 8, 8, 8, 8, 8, 8, 8, 8, 8, 8, 8, 8, 9, 8, 8, 8, 9, 8, 8, 8, 8, 8, 8, 1, 6, 2, 4, 4, 2, 5, 5, 4, 10, 2, 2, 4, 6, 4, 4, 4, 2, 4, 5, 5, 5, 6, 1, 6, 2, 5, 3, 2, 4, 4, 5, 4, 4, 5, 4, 4, 10, 8, 2, 4, 4, 5, 5, 4, 4, 4, 4, 5, 3, 5, 2, 4, 5, 4, 4, 4, 4, 5, 4, 4, 4, 4, 1, 7, 2, 13, 10, 19, 7, 10, 10, 7, 10, 25, 7, 17, 38, 7, 29, 13, 31, 18, 1, 10, 2, 6, 9, 13, 5, 13, 5, 12, 11, 11, 11, 11, 12, 11, 12, 12, 1, 11, 2, 23, 2, 21, 9, 3, 1, 10, 2, 2, 34, 32, 37, 40, 27, 36, 23, 34, 32, 46, 36, 23, 44, 13, 35, 109, 93, 1, 10, 2, 25, 2, 16, 5, 12, 14, 8, 4, 7, 1, 10, 2, 34, 36, 24, 1, 11, 2, 20, 6, 1, 8, 2, 4, 6, 2, 7, 7, 7, 4, 5, 4, 14, 5, 9, 8, 11, 8, 8, 8, 8, 8, 11, 8, 11, 8, 2, 7, 8, 5, 7, 4, 13, 2, 8, 9, 8, 8, 9, 11, 8, 8, 11, 11, 8, 11, 1, 10, 4, 33, 28, 32, 17, 15, 1, 7, 2, 6, 6, 3, 14, 3, 14, 1, 7, 2, 6, 6, 3, 14, 3, 14, 1, 10, 2, 20, 2, 20, 3, 1, 12, 2, 17, 3, 1, 10, 2, 21, 2, 5, 3, 1, 7, 2, 28, 1, 10, 2, 18, 12, 3, 1, 10, 2, 20, 7, 3, 1, 9, 2, 20, 14, 3, 1, 10, 3, 27, 23, 28, 37, 17, 26, 23, 17, 21, 25, 13, 18, 19, 18, 18, 20, 20, 29, 22, 8, 16, 1, 8, 3, 52, 1, 11, 4, 29, 19, 26, 26, 18, 27, 39, 22, 26, 29, 17, 11, 7, 19, 15, 30, 15, 6, 16, 7, 11, 16, 14, 30, 32, 14, 1, 14, 2, 3, 40, 19, 19, 13, 36, 41, 7, 28, 22, 22, 17, 34, 10, 22, 19, 29, 24, 1, 10, 3, 21, 52, 22, 1, 12, 3, 21, 10, 4, 4, 3, 3, 10, 10, 3, 4, 4, 4, 1, 8, 3, 19, 2, 19, 8, 3, 1, 10, 3, 3, 11, 9, 2, 2, 4, 6, 5, 6, 6, 6, 2, 5, 5, 6, 5, 6, 2, 5, 5, 6, 6, 5, 4, 3, 3, 3, 3, 3, 4, 2, 2, 4, 5, 6, 6, 7, 6, 2, 5, 7, 6, 5, 5, 2, 6, 6, 5, 6, 5, 3, 3, 5, 3, 4, 4, 4, 1, 7, 3, 4, 12, 2, 5, 4, 8, 4, 5, 4, 4, 2, 8, 8, 4, 5, 9, 4, 6, 5, 1, 11, 2, 35, 33, 11, 20, 25, 22, 24, 26, 15, 12, 42, 36, 11, 22, 12, 18, 10, 11, 37, 18, 43, 12, 30, 37, 16, 22, 16, 10, 10, 34, 37, 21, 26, 27, 30, 18, 18, 24, 12, 32, 13, 24, 1, 8, 2, 3, 39, 45, 7, 30, 29, 25, 14, 7, 32, 42, 17, 7, 10, 25, 15, 19, 16, 31, 22, 12, 20, 14, 12, 1, 9, 2, 29, 1, 10, 2, 2, 36, 20, 34, 27, 24, 26, 15, 25, 29, 14, 6, 18, 17, 2, 46, 40, 1, 8, 2, 24, 1, 12, 2, 27, 40, 37, 19, 21, 45, 36, 37, 2, 91, 105, 1, 9, 2, 16, 14, 3, 1, 10, 2, 2, 30, 25, 9, 31, 41, 36, 49, 42, 32, 28, 24, 2, 83, 79, 18, 11, 18, 19, 1, 9, 2, 31, 3, 3, 1, 8, 2, 6, 6, 6, 1, 11, 2, 4, 13, 2, 2, 13, 7, 3, 1, 12, 2, 17, 3, 1, 8, 2, 33, 44, 26, 38, 1, 11, 2, 5, 12, 2, 12, 5, 12, 1, 8, 2, 26, 1, 8, 2, 5, 12, 8, 11, 8, 7, 8, 10, 5, 8, 1, 10, 2, 18, 38, 25, 25, 13, 10, 26, 1, 8, 2, 6, 4, 5, 6, 9, 1, 9, 2, 17, 2, 13, 7, 3, 1, 8, 2, 35, 43, 22, 25, 8, 19, 34, 35, 31, 1, 7, 2, 16, 7, 18, 21, 33, 24, 16, 25, 7, 19, 9, 12, 22, 22, 25, 15, 9, 23, 7, 11, 32, 8, 19, 8, 16, 22, 10, 20, 16, 16, 12, 19, 16, 13, 33, 32, 35, 1, 5, 2, 27, 34, 27, 29, 16, 10, 29, 1, 7, 4, 35, 26, 37, 27, 27, 29, 1, 8, 2, 26, 6, 18, 30, 37, 12, 18, 8, 1, 6, 2, 26, 33, 9, 21, 19, 16, 21, 25, 18, 1, 9, 2, 30, 43, 40, 21, 18, 34, 43, 1, 9, 2, 24, 32, 31, 1, 7, 2, 10, 4, 4, 23, 5, 6, 6, 6, 6, 7, 7, 6, 6, 1, 8, 3, 34, 26, 19, 30, 44, 21, 6, 33, 37, 1, 9, 2, 28, 40, 35, 32, 34, 23, 43, 22, 11, 10, 39, 1, 8, 4, 35, 15, 23, 31, 11, 20, 13, 21, 29, 1, 8, 2, 4, 31, 45, 13, 33, 1, 37, 39, 29, 19, 15, 16, 31, 42, 20, 24, 26, 15, 5, 6, 42, 1, 36, 19, 12, 1, 11, 2, 36, 39, 30, 42, 42, 33, 20, 29, 26, 29, 20, 20, 43, 7, 1, 8, 2, 24, 23, 14, 29, 1, 9, 2, 27, 28, 36, 75, 20, 25, 12, 11, 21, 19, 1, 7, 2, 35, 35, 20, 19, 29, 9, 1, 9, 3, 30, 37, 28, 19, 14, 36, 1, 9, 2, 36, 44, 44, 10, 31, 39, 21, 12, 15, 35, 24, 21, 24, 1, 10, 2, 33, 27, 13, 21, 14, 24, 19, 1, 10, 2, 2, 37, 46, 29, 34, 10, 29, 34, 34, 16, 10, 31, 12, 38, 25, 29, 20, 25, 15, 11, 18, 38, 24, 33, 24, 30, 6, 9, 1, 7, 2, 32, 14, 9, 19, 20, 30, 6, 1, 10, 2, 30, 39, 12, 14, 25, 16, 36, 8, 27, 1, 6, 2, 22, 37, 29, 36, 14, 23, 37, 27, 35, 36, 1, 7, 2, 21, 25, 22, 11, 37, 27, 36, 1, 7, 3, 34, 30, 21, 48, 9, 1, 8, 2, 27, 30, 5, 26, 16, 27, 13, 6, 1, 9, 2, 28, 6, 16, 26, 41, 11, 12, 34, 22, 27, 10, 15, 15, 1, 8, 2, 33, 48, 28, 13, 28, 28, 31, 19, 1, 7, 2, 41, 18, 27, 1, 7, 2, 16, 31, 16, 7, 1, 10, 2, 28, 26, 28, 52, 56, 30, 1, 10, 2, 33, 14, 5, 6, 25, 1, 8, 2, 12, 14, 2, 21, 15, 2, 10, 23, 7, 1, 10, 2, 39, 31, 28, 51, 17, 29, 40, 35, 23, 25, 29, 10, 1, 10, 4, 6, 19, 14, 30, 24, 19, 8, 19, 1, 10, 2, 31, 52, 10, 17, 23, 1, 10, 2, 2, 36, 55, 39, 9, 33, 21, 31, 22, 28, 19, 28, 56, 19, 35, 15, 29, 1, 7, 2, 17, 12, 12, 21, 40, 37, 1, 8, 2, 22, 31, 18, 32, 28, 10, 41, 36, 1, 10, 2, 32, 36, 36, 17, 34, 19, 13, 24, 36, 23, 30, 21, 20, 22, 1, 8, 2, 24, 43, 41, 8, 24, 6, 42, 21, 30, 1, 8, 2, 21, 16, 30, 1, 7, 2, 24, 30, 9, 25, 1, 9, 2, 24, 21, 45, 28, 7, 35, 1, 8, 2, 4, 38, 35, 29, 32, 32, 9, 4, 35, 31, 14, 18, 34, 24, 21, 12, 27, 26, 21, 8, 39, 36, 26, 1, 10, 2, 44, 9, 15, 13, 16, 20, 22, 25, 4, 1]\n",
            " - f1: 87.94\n",
            "              precision    recall  f1-score   support\n",
            "\n",
            "         LOC     0.9280    0.9099    0.9189      1799\n",
            "        MISC     0.8235    0.8065    0.8149       920\n",
            "         ORG     0.8030    0.8054    0.8042      1331\n",
            "         PER     0.8958    0.9595    0.9266      1828\n",
            "           d     0.0000    0.0000    0.0000         0\n",
            "\n",
            "   micro avg     0.8735    0.8855    0.8794      5878\n",
            "   macro avg     0.6901    0.6963    0.6929      5878\n",
            "weighted avg     0.8733    0.8855    0.8790      5878\n",
            "\n",
            "Epoch 6 took 361.7299950122833 seconds\n",
            "469/469 [==============================] - 362s 771ms/step - loss: 0.0076 - accuracy: 0.9978\n",
            "Epoch 7/100\n",
            "109/109 [==============================] - 34s 312ms/step\n",
            "[11, 2, 35, 37, 38, 24, 30, 34, 39, 41, 25, 34, 31, 28, 22, 9, 1, 7, 2, 14, 12, 13, 7, 30, 18, 35, 25, 25, 27, 26, 1, 6, 2, 6, 9, 13, 4, 8, 11, 8, 9, 10, 2, 3, 1, 5, 6, 12, 4, 4, 4, 9, 2, 10, 2, 12, 10, 2, 11, 1, 11, 12, 8, 9, 12, 8, 1, 11, 6, 4, 8, 8, 8, 1, 8, 11, 8, 12, 1, 8, 2, 17, 40, 20, 34, 26, 28, 20, 28, 18, 14, 1, 6, 2, 4, 5, 13, 2, 1, 9, 2, 17, 2, 13, 7, 3, 1, 10, 2, 38, 29, 20, 17, 29, 1, 12, 3, 26, 23, 37, 7, 7, 4, 10, 39, 16, 28, 31, 19, 1, 8, 3, 32, 15, 19, 18, 1, 9, 2, 5, 5, 8, 8, 10, 15, 10, 7, 7, 7, 7, 7, 7, 7, 7, 7, 1, 9, 2, 4, 7, 4, 4, 4, 4, 4, 4, 13, 9, 14, 5, 6, 7, 6, 7, 6, 7, 6, 7, 1, 10, 3, 21, 6, 14, 6, 20, 14, 16, 17, 16, 6, 20, 16, 6, 15, 16, 17, 45, 37, 42, 20, 1, 7, 11, 7, 13, 1, 11, 8, 7, 13, 2, 1, 43, 1, 10, 3, 3, 11, 9, 2, 2, 4, 6, 5, 6, 6, 6, 2, 5, 5, 6, 5, 6, 2, 5, 5, 6, 6, 5, 4, 3, 3, 3, 4, 3, 3, 2, 2, 4, 5, 5, 5, 6, 5, 2, 5, 7, 5, 5, 5, 2, 6, 6, 5, 6, 5, 3, 3, 4, 4, 3, 5, 4, 1, 7, 3, 4, 12, 2, 5, 4, 5, 4, 2, 6, 4, 4, 4, 5, 5, 1, 12, 2, 3, 28, 36, 23, 11, 34, 8, 32, 32, 36, 27, 22, 37, 31, 19, 18, 13, 46, 21, 14, 12, 21, 12, 16, 18, 20, 8, 13, 8, 7, 8, 6, 10, 8, 14, 13, 10, 29, 14, 12, 14, 1, 6, 2, 31, 11, 15, 26, 34, 21, 33, 21, 9, 1, 9, 4, 3, 11, 10, 9, 3, 3, 12, 14, 13, 11, 14, 12, 2, 1, 13, 4, 35, 21, 22, 19, 19, 9, 15, 6, 8, 22, 16, 11, 15, 11, 13, 35, 45, 12, 9, 39, 14, 25, 29, 1, 13, 2, 44, 29, 12, 1, 11, 2, 2, 33, 41, 34, 14, 27, 12, 20, 15, 34, 16, 34, 1, 7, 2, 5, 7, 5, 8, 7, 7, 7, 7, 7, 7, 4, 10, 7, 7, 7, 7, 7, 7, 7, 5, 8, 7, 7, 7, 7, 7, 7, 7, 4, 8, 7, 7, 7, 7, 7, 7, 7, 4, 8, 7, 7, 7, 7, 3, 10, 7, 7, 7, 7, 7, 7, 7, 3, 8, 7, 7, 7, 7, 7, 7, 7, 4, 8, 7, 7, 7, 7, 7, 7, 7, 4, 10, 7, 7, 7, 7, 7, 7, 7, 5, 8, 7, 7, 7, 7, 7, 7, 7, 4, 8, 7, 7, 7, 7, 7, 7, 7, 4, 7, 7, 7, 7, 7, 7, 7, 4, 7, 7, 7, 7, 7, 7, 7, 7, 4, 7, 7, 7, 7, 7, 7, 7, 7, 4, 7, 8, 7, 7, 7, 7, 7, 7, 4, 10, 7, 7, 8, 7, 7, 7, 7, 4, 8, 7, 7, 7, 7, 7, 7, 7, 3, 8, 7, 7, 7, 7, 7, 7, 7, 8, 14, 12, 15, 10, 14, 11, 1, 11, 2, 26, 24, 17, 43, 13, 14, 1, 10, 3, 29, 43, 45, 47, 1, 7, 4, 21, 33, 25, 1, 9, 2, 40, 14, 37, 30, 29, 1, 10, 2, 26, 15, 1, 8, 2, 5, 10, 2, 1, 7, 5, 7, 7, 5, 5, 7, 7, 7, 7, 5, 6, 9, 11, 3, 10, 9, 2, 2, 7, 6, 5, 5, 6, 6, 5, 5, 7, 9, 11, 10, 12, 11, 5, 8, 11, 1, 11, 2, 29, 1, 10, 2, 5, 11, 10, 2, 2, 12, 12, 12, 2, 12, 10, 9, 9, 1, 8, 2, 24, 30, 30, 26, 34, 23, 18, 27, 11, 37, 8, 1, 8, 2, 5, 11, 3, 7, 1, 8, 2, 24, 10, 6, 7, 6, 6, 7, 7, 5, 7, 4, 6, 6, 4, 4, 4, 11, 8, 1, 5, 3, 29, 9, 22, 6, 1, 9, 3, 30, 29, 13, 12, 12, 9, 25, 34, 11, 31, 10, 11, 1, 11, 2, 44, 27, 28, 29, 37, 20, 11, 27, 37, 21, 18, 37, 41, 29, 28, 20, 18, 55, 1, 8, 5, 1, 42, 13, 30, 31, 37, 27, 9, 31, 32, 35, 25, 21, 17, 16, 33, 1, 11, 2, 27, 25, 44, 10, 1, 9, 2, 37, 33, 43, 39, 20, 20, 20, 1, 5, 2, 16, 30, 29, 17, 39, 20, 18, 22, 27, 19, 34, 24, 10, 29, 53, 29, 15, 17, 10, 17, 1, 7, 2, 22, 24, 41, 25, 42, 32, 21, 27, 14, 18, 28, 1, 9, 2, 21, 23, 11, 6, 22, 7, 1, 9, 2, 30, 24, 28, 25, 11, 5, 1, 9, 2, 31, 18, 6, 30, 7, 1, 7, 2, 35, 28, 25, 11, 17, 16, 1, 9, 2, 36, 18, 7, 12, 33, 30, 28, 29, 12, 31, 17, 10, 30, 1, 8, 4, 32, 37, 6, 19, 22, 34, 26, 19, 22, 20, 1, 7, 2, 36, 36, 19, 17, 11, 32, 30, 42, 1, 7, 2, 32, 35, 26, 30, 24, 9, 1, 6, 2, 2, 23, 38, 40, 30, 10, 29, 17, 35, 31, 27, 18, 25, 24, 23, 19, 1, 7, 2, 4, 31, 36, 31, 22, 18, 14, 28, 32, 26, 20, 14, 18, 20, 29, 22, 13, 33, 16, 21, 1, 7, 2, 36, 36, 19, 16, 17, 38, 15, 1, 9, 2, 24, 9, 36, 23, 24, 40, 19, 25, 1, 7, 4, 29, 37, 11, 1, 10, 2, 34, 43, 13, 7, 16, 1, 6, 2, 2, 30, 34, 42, 22, 22, 20, 25, 28, 17, 21, 21, 37, 44, 26, 11, 32, 9, 1, 10, 2, 37, 28, 41, 9, 5, 1, 7, 4, 32, 44, 26, 21, 17, 16, 28, 1, 7, 4, 22, 47, 23, 18, 14, 30, 1, 6, 3, 22, 39, 45, 13, 13, 33, 20, 1, 9, 2, 3, 28, 42, 35, 41, 23, 23, 22, 30, 30, 45, 41, 40, 17, 1, 7, 2, 2, 25, 46, 33, 19, 41, 9, 36, 24, 21, 14, 32, 22, 1, 11, 2, 3, 24, 43, 34, 21, 53, 28, 59, 33, 30, 31, 40, 34, 17, 30, 24, 46, 14, 17, 27, 23, 36, 23, 26, 41, 10, 62, 14, 10, 12, 10, 23, 20, 1, 7, 2, 2, 32, 30, 32, 33, 9, 24, 43, 39, 43, 31, 16, 36, 28, 27, 20, 42, 39, 9, 6, 28, 30, 23, 29, 17, 27, 21, 56, 21, 27, 14, 1, 7, 2, 2, 40, 32, 21, 16, 19, 26, 20, 38, 28, 30, 29, 20, 49, 29, 30, 35, 26, 17, 19, 1, 8, 2, 36, 39, 18, 27, 33, 49, 14, 21, 7, 13, 20, 22, 34, 32, 31, 49, 16, 12, 36, 23, 43, 1, 8, 2, 2, 38, 33, 20, 34, 33, 24, 11, 4, 16, 11, 36, 26, 10, 13, 24, 21, 23, 25, 36, 15, 18, 49, 1, 9, 2, 35, 27, 22, 23, 41, 21, 42, 12, 1, 11, 3, 27, 22, 34, 24, 6, 1, 9, 4, 38, 27, 44, 8, 8, 10, 5, 25, 56, 1, 6, 3, 33, 55, 40, 28, 32, 7, 28, 1, 7, 2, 26, 25, 11, 20, 9, 30, 46, 21, 24, 22, 28, 26, 19, 17, 1, 9, 2, 35, 42, 28, 14, 37, 40, 9, 26, 7, 30, 20, 1, 10, 2, 28, 20, 18, 20, 22, 1, 9, 4, 35, 18, 22, 15, 7, 11, 14, 22, 20, 21, 20, 18, 1, 10, 2, 26, 16, 25, 18, 19, 7, 5, 1, 10, 2, 6, 6, 6, 4, 9, 5, 1, 10, 2, 28, 35, 18, 11, 21, 30, 12, 27, 42, 16, 32, 22, 20, 11, 23, 17, 11, 1, 8, 3, 2, 7, 5, 3, 4, 2, 7, 5, 3, 4, 10, 6, 1, 7, 2, 5, 4, 6, 8, 7, 7, 7, 5, 26, 18, 7, 8, 9, 1, 6, 2, 21, 38, 29, 22, 19, 18, 32, 25, 34, 38, 15, 1, 8, 2, 25, 24, 22, 9, 10, 32, 1, 7, 2, 5, 8, 23, 4, 16, 44, 8, 32, 27, 15, 9, 6, 20, 15, 21, 33, 4, 11, 16, 14, 16, 20, 9, 31, 1, 9, 13, 9, 15, 15, 7, 7, 6, 4, 9, 7, 8, 9, 8, 4, 7, 2, 2, 2, 2, 2, 2, 2, 2, 2, 2, 2, 2, 2, 2, 2, 2, 8, 1, 9, 2, 2, 27, 23, 27, 23, 21, 21, 28, 25, 23, 14, 32, 25, 11, 28, 17, 27, 39, 30, 38, 20, 1, 8, 3, 3, 3, 7, 10, 6, 10, 6, 5, 2, 9, 27, 17, 29, 26, 45, 27, 17, 14, 9, 5, 20, 18, 5, 8, 20, 36, 29, 35, 24, 51, 19, 18, 13, 9, 21, 43, 41, 39, 21, 1, 8, 2, 2, 29, 44, 40, 32, 40, 34, 23, 18, 37, 39, 41, 36, 29, 11, 1, 8, 2, 37, 39, 7, 27, 36, 21, 12, 13, 1, 8, 2, 37, 35, 7, 27, 15, 34, 26, 28, 46, 44, 18, 19, 1, 11, 3, 37, 37, 36, 13, 29, 13, 1, 9, 2, 34, 36, 30, 13, 24, 20, 31, 33, 38, 1, 9, 2, 4, 27, 15, 31, 10, 16, 29, 21, 15, 24, 29, 20, 19, 12, 7, 28, 37, 8, 16, 14, 12, 33, 19, 24, 12, 18, 12, 6, 18, 27, 31, 12, 33, 8, 1, 9, 2, 30, 19, 34, 13, 5, 1, 10, 2, 31, 54, 30, 40, 27, 23, 6, 1, 9, 21, 13, 7, 7, 4, 1, 23, 4, 2, 32, 50, 4, 2, 27, 34, 4, 1, 39, 16, 1, 8, 2, 7, 8, 3, 6, 4, 7, 7, 11, 1, 7, 2, 7, 8, 3, 6, 4, 4, 7, 13, 1, 11, 2, 31, 33, 33, 20, 11, 13, 6, 1, 6, 2, 23, 30, 50, 22, 1, 9, 5, 21, 21, 52, 14, 22, 29, 1, 7, 3, 28, 37, 40, 22, 46, 32, 38, 31, 17, 1, 11, 5, 33, 24, 32, 27, 29, 28, 38, 36, 30, 1, 10, 4, 11, 5, 1, 10, 4, 11, 23, 4, 1, 10, 4, 30, 36, 25, 41, 1, 11, 2, 23, 28, 3, 1, 7, 4, 20, 29, 10, 11, 7, 10, 20, 51, 41, 32, 1, 10, 5, 23, 2, 10, 13, 4, 1, 12, 4, 21, 23, 1, 10, 4, 3, 12, 7, 13, 10, 9, 9, 8, 9, 8, 8, 7, 10, 9, 8, 10, 3, 8, 8, 3, 4, 9, 3, 3, 1, 8, 4, 14, 1, 9, 6, 7, 6, 5, 5, 5, 5, 6, 5, 7, 10, 11, 7, 10, 9, 6, 1, 7, 7, 6, 5, 6, 7, 7, 5, 5, 6, 6, 6, 6, 12, 2, 9, 11, 1, 7, 4, 4, 6, 8, 8, 11, 7, 7, 7, 7, 7, 7, 7, 7, 7, 33, 31, 10, 9, 7, 7, 7, 7, 7, 7, 7, 7, 8, 7, 7, 7, 7, 8, 31, 9, 2, 12, 12, 12, 13, 8, 2, 12, 5, 9, 4, 8, 5, 10, 4, 1, 12, 4, 22, 27, 25, 2, 38, 36, 1, 10, 4, 28, 21, 18, 31, 17, 21, 9, 33, 28, 27, 11, 9, 17, 12, 32, 22, 20, 9, 11, 15, 29, 14, 17, 14, 21, 45, 12, 7, 18, 35, 11, 8, 22, 12, 34, 22, 14, 11, 32, 9, 20, 23, 19, 1, 12, 2, 35, 32, 32, 38, 44, 20, 14, 1, 9, 2, 5, 11, 7, 6, 4, 7, 4, 7, 7, 4, 7, 4, 4, 7, 8, 7, 7, 8, 8, 4, 8, 4, 4, 1, 10, 2, 6, 7, 4, 4, 5, 5, 4, 4, 4, 3, 4, 5, 4, 4, 4, 5, 4, 6, 4, 5, 1, 11, 2, 21, 31, 3, 1, 11, 2, 21, 8, 3, 1, 11, 2, 32, 43, 26, 30, 16, 49, 1, 6, 2, 4, 15, 8, 2, 9, 8, 9, 9, 8, 8, 8, 8, 8, 9, 2, 8, 10, 8, 8, 8, 8, 8, 8, 8, 8, 2, 8, 8, 8, 8, 8, 10, 8, 9, 9, 9, 1, 6, 2, 4, 15, 9, 2, 8, 8, 8, 8, 8, 10, 8, 8, 8, 8, 8, 9, 9, 8, 8, 8, 8, 9, 9, 8, 9, 8, 8, 8, 2, 8, 8, 8, 8, 8, 8, 8, 8, 8, 8, 8, 9, 8, 8, 8, 8, 9, 9, 8, 8, 8, 8, 8, 8, 2, 8, 8, 8, 8, 8, 8, 8, 8, 8, 8, 8, 8, 8, 9, 8, 8, 8, 9, 8, 8, 8, 8, 8, 8, 1, 6, 2, 4, 4, 2, 5, 5, 4, 10, 2, 2, 4, 6, 4, 4, 4, 2, 4, 5, 5, 5, 6, 1, 6, 2, 5, 3, 2, 4, 4, 5, 4, 4, 5, 4, 4, 10, 8, 2, 4, 4, 5, 5, 4, 4, 4, 4, 5, 3, 5, 2, 4, 5, 4, 4, 4, 4, 5, 4, 4, 4, 4, 1, 7, 2, 13, 10, 19, 7, 10, 10, 7, 10, 25, 7, 17, 38, 7, 29, 13, 31, 18, 1, 10, 2, 6, 9, 13, 5, 13, 5, 12, 11, 11, 11, 11, 12, 11, 12, 12, 1, 11, 2, 23, 2, 21, 9, 3, 1, 10, 2, 2, 34, 32, 37, 40, 27, 36, 23, 34, 32, 46, 36, 23, 44, 13, 35, 109, 93, 1, 10, 2, 25, 2, 16, 5, 12, 14, 8, 4, 7, 1, 10, 2, 34, 36, 24, 1, 11, 2, 20, 6, 1, 8, 2, 4, 6, 2, 7, 7, 7, 4, 5, 4, 14, 5, 9, 8, 11, 8, 8, 8, 8, 8, 11, 8, 11, 8, 2, 7, 8, 5, 7, 4, 13, 2, 8, 9, 8, 8, 9, 11, 8, 8, 11, 11, 8, 11, 1, 10, 4, 33, 28, 32, 17, 15, 1, 7, 2, 6, 6, 3, 14, 3, 14, 1, 7, 2, 6, 6, 3, 14, 3, 14, 1, 10, 2, 20, 2, 20, 3, 1, 12, 2, 17, 3, 1, 10, 2, 21, 2, 5, 3, 1, 7, 2, 28, 1, 10, 2, 18, 12, 3, 1, 10, 2, 20, 7, 3, 1, 9, 2, 20, 14, 3, 1, 10, 3, 27, 23, 28, 37, 17, 26, 23, 17, 21, 25, 13, 18, 19, 18, 18, 20, 20, 29, 22, 8, 16, 1, 8, 3, 52, 1, 11, 4, 29, 19, 26, 26, 18, 27, 39, 22, 26, 29, 17, 11, 7, 19, 15, 30, 15, 6, 16, 7, 11, 16, 14, 30, 32, 14, 1, 14, 2, 3, 40, 19, 19, 13, 36, 41, 7, 28, 22, 22, 17, 34, 10, 22, 19, 29, 24, 1, 10, 3, 21, 52, 22, 1, 12, 3, 21, 10, 4, 4, 3, 3, 10, 10, 3, 4, 4, 4, 1, 8, 3, 19, 2, 19, 8, 3, 1, 10, 3, 3, 11, 9, 2, 2, 4, 6, 5, 6, 6, 6, 2, 5, 5, 6, 5, 6, 2, 5, 5, 6, 6, 5, 4, 3, 3, 3, 3, 3, 4, 2, 2, 4, 5, 6, 6, 7, 6, 2, 5, 7, 6, 5, 5, 2, 6, 6, 5, 6, 5, 3, 3, 5, 3, 4, 4, 4, 1, 7, 3, 4, 12, 2, 5, 4, 8, 4, 5, 4, 4, 2, 8, 8, 4, 5, 9, 4, 6, 5, 1, 11, 2, 35, 33, 11, 20, 25, 22, 24, 26, 15, 12, 42, 36, 11, 22, 12, 18, 10, 11, 37, 18, 43, 12, 30, 37, 16, 22, 16, 10, 10, 34, 37, 21, 26, 27, 30, 18, 18, 24, 12, 32, 13, 24, 1, 8, 2, 3, 39, 45, 7, 30, 29, 25, 14, 7, 32, 42, 17, 7, 10, 25, 15, 19, 16, 31, 22, 12, 20, 14, 12, 1, 9, 2, 29, 1, 10, 2, 2, 36, 20, 34, 27, 24, 26, 15, 25, 29, 14, 6, 18, 17, 2, 46, 40, 1, 8, 2, 24, 1, 12, 2, 27, 40, 37, 19, 21, 45, 36, 37, 2, 91, 105, 1, 9, 2, 16, 14, 3, 1, 10, 2, 2, 30, 25, 9, 31, 41, 36, 49, 42, 32, 28, 24, 2, 83, 79, 18, 11, 18, 19, 1, 9, 2, 31, 3, 3, 1, 8, 2, 6, 6, 6, 1, 11, 2, 4, 13, 2, 2, 13, 7, 3, 1, 12, 2, 17, 3, 1, 8, 2, 33, 44, 26, 38, 1, 11, 2, 5, 12, 2, 12, 5, 12, 1, 8, 2, 26, 1, 8, 2, 5, 12, 8, 11, 8, 7, 8, 10, 5, 8, 1, 10, 2, 18, 38, 25, 25, 13, 10, 26, 1, 8, 2, 6, 4, 5, 6, 9, 1, 9, 2, 17, 2, 13, 7, 3, 1, 8, 2, 35, 43, 22, 25, 8, 19, 34, 35, 31, 1, 7, 2, 16, 7, 18, 21, 33, 24, 16, 25, 7, 19, 9, 12, 22, 22, 25, 15, 9, 23, 7, 11, 32, 8, 19, 8, 16, 22, 10, 20, 16, 16, 12, 19, 16, 13, 33, 32, 35, 1, 5, 2, 27, 34, 27, 29, 16, 10, 29, 1, 7, 4, 35, 26, 37, 27, 27, 29, 1, 8, 2, 26, 6, 18, 30, 37, 12, 18, 8, 1, 6, 2, 26, 33, 9, 21, 19, 16, 21, 25, 18, 1, 9, 2, 30, 43, 40, 21, 18, 34, 43, 1, 9, 2, 24, 32, 31, 1, 7, 2, 10, 4, 4, 23, 5, 6, 6, 6, 6, 7, 7, 6, 6, 1, 8, 3, 34, 26, 19, 30, 44, 21, 6, 33, 37, 1, 9, 2, 28, 40, 35, 32, 34, 23, 43, 22, 11, 10, 39, 1, 8, 4, 35, 15, 23, 31, 11, 20, 13, 21, 29, 1, 8, 2, 4, 31, 45, 13, 33, 1, 37, 39, 29, 19, 15, 16, 31, 42, 20, 24, 26, 15, 5, 6, 42, 1, 36, 19, 12, 1, 11, 2, 36, 39, 30, 42, 42, 33, 20, 29, 26, 29, 20, 20, 43, 7, 1, 8, 2, 24, 23, 14, 29, 1, 9, 2, 27, 28, 36, 75, 20, 25, 12, 11, 21, 19, 1, 7, 2, 35, 35, 20, 19, 29, 9, 1, 9, 3, 30, 37, 28, 19, 14, 36, 1, 9, 2, 36, 44, 44, 10, 31, 39, 21, 12, 15, 35, 24, 21, 24, 1, 10, 2, 33, 27, 13, 21, 14, 24, 19, 1, 10, 2, 2, 37, 46, 29, 34, 10, 29, 34, 34, 16, 10, 31, 12, 38, 25, 29, 20, 25, 15, 11, 18, 38, 24, 33, 24, 30, 6, 9, 1, 7, 2, 32, 14, 9, 19, 20, 30, 6, 1, 10, 2, 30, 39, 12, 14, 25, 16, 36, 8, 27, 1, 6, 2, 22, 37, 29, 36, 14, 23, 37, 27, 35, 36, 1, 7, 2, 21, 25, 22, 11, 37, 27, 36, 1, 7, 3, 34, 30, 21, 48, 9, 1, 8, 2, 27, 30, 5, 26, 16, 27, 13, 6, 1, 9, 2, 28, 6, 16, 26, 41, 11, 12, 34, 22, 27, 10, 15, 15, 1, 8, 2, 33, 48, 28, 13, 28, 28, 31, 19, 1, 7, 2, 41, 18, 27, 1, 7, 2, 16, 31, 16, 7, 1, 10, 2, 28, 26, 28, 52, 56, 30, 1, 10, 2, 33, 14, 5, 6, 25, 1, 8, 2, 12, 14, 2, 21, 15, 2, 10, 23, 7, 1, 10, 2, 39, 31, 28, 51, 17, 29, 40, 35, 23, 25, 29, 10, 1, 10, 4, 6, 19, 14, 30, 24, 19, 8, 19, 1, 10, 2, 31, 52, 10, 17, 23, 1, 10, 2, 2, 36, 55, 39, 9, 33, 21, 31, 22, 28, 19, 28, 56, 19, 35, 15, 29, 1, 7, 2, 17, 12, 12, 21, 40, 37, 1, 8, 2, 22, 31, 18, 32, 28, 10, 41, 36, 1, 10, 2, 32, 36, 36, 17, 34, 19, 13, 24, 36, 23, 30, 21, 20, 22, 1, 8, 2, 24, 43, 41, 8, 24, 6, 42, 21, 30, 1, 8, 2, 21, 16, 30, 1, 7, 2, 24, 30, 9, 25, 1, 9, 2, 24, 21, 45, 28, 7, 35, 1, 8, 2, 4, 38, 35, 29, 32, 32, 9, 4, 35, 31, 14, 18, 34, 24, 21, 12, 27, 26, 21, 8, 39, 36, 26, 1, 10, 2, 44, 9, 15, 13, 16, 20, 22, 25, 4, 1]\n",
            " - f1: 88.77\n",
            "              precision    recall  f1-score   support\n",
            "\n",
            "         LOC     0.9214    0.9183    0.9198      1799\n",
            "        MISC     0.8335    0.8109    0.8220       920\n",
            "         ORG     0.8218    0.8279    0.8249      1331\n",
            "         PER     0.9245    0.9447    0.9345      1828\n",
            "           d     0.0000    0.0000    0.0000         0\n",
            "\n",
            "   micro avg     0.8862    0.8892    0.8877      5878\n",
            "   macro avg     0.7002    0.7004    0.7002      5878\n",
            "weighted avg     0.8860    0.8892    0.8876      5878\n",
            "\n",
            "Epoch 7 took 362.4091155529022 seconds\n",
            "469/469 [==============================] - 362s 773ms/step - loss: 0.0067 - accuracy: 0.9980\n",
            "Epoch 8/100\n",
            "109/109 [==============================] - 34s 315ms/step\n",
            "[11, 2, 35, 37, 38, 24, 30, 34, 39, 41, 25, 34, 31, 28, 22, 9, 1, 7, 2, 14, 12, 13, 7, 30, 18, 35, 25, 25, 27, 26, 1, 6, 2, 6, 9, 13, 4, 8, 11, 8, 9, 10, 2, 3, 1, 5, 6, 12, 4, 4, 4, 9, 2, 10, 2, 12, 10, 2, 11, 1, 11, 12, 8, 9, 12, 8, 1, 11, 6, 4, 8, 8, 8, 1, 8, 11, 8, 12, 1, 8, 2, 17, 40, 20, 34, 26, 28, 20, 28, 18, 14, 1, 6, 2, 4, 5, 13, 2, 1, 9, 2, 17, 2, 13, 7, 3, 1, 10, 2, 38, 29, 20, 17, 29, 1, 12, 3, 26, 23, 37, 7, 7, 4, 10, 39, 16, 28, 31, 19, 1, 8, 3, 32, 15, 19, 18, 1, 9, 2, 5, 5, 8, 8, 10, 15, 10, 7, 7, 7, 7, 7, 7, 7, 7, 7, 1, 9, 2, 4, 7, 4, 4, 4, 4, 4, 4, 13, 9, 14, 5, 6, 7, 6, 7, 6, 7, 6, 7, 1, 10, 3, 21, 6, 14, 6, 20, 14, 16, 17, 16, 6, 20, 16, 6, 15, 16, 17, 45, 37, 42, 20, 1, 7, 11, 7, 13, 1, 11, 8, 7, 13, 2, 1, 43, 1, 10, 3, 3, 11, 9, 2, 2, 4, 6, 5, 6, 6, 6, 2, 5, 5, 6, 5, 6, 2, 5, 5, 6, 6, 5, 4, 3, 3, 3, 4, 3, 3, 2, 2, 4, 5, 5, 5, 6, 5, 2, 5, 7, 5, 5, 5, 2, 6, 6, 5, 6, 5, 3, 3, 4, 4, 3, 5, 4, 1, 7, 3, 4, 12, 2, 5, 4, 5, 4, 2, 6, 4, 4, 4, 5, 5, 1, 12, 2, 3, 28, 36, 23, 11, 34, 8, 32, 32, 36, 27, 22, 37, 31, 19, 18, 13, 46, 21, 14, 12, 21, 12, 16, 18, 20, 8, 13, 8, 7, 8, 6, 10, 8, 14, 13, 10, 29, 14, 12, 14, 1, 6, 2, 31, 11, 15, 26, 34, 21, 33, 21, 9, 1, 9, 4, 3, 11, 10, 9, 3, 3, 12, 14, 13, 11, 14, 12, 2, 1, 13, 4, 35, 21, 22, 19, 19, 9, 15, 6, 8, 22, 16, 11, 15, 11, 13, 35, 45, 12, 9, 39, 14, 25, 29, 1, 13, 2, 44, 29, 12, 1, 11, 2, 2, 33, 41, 34, 14, 27, 12, 20, 15, 34, 16, 34, 1, 7, 2, 5, 7, 5, 8, 7, 7, 7, 7, 7, 7, 4, 10, 7, 7, 7, 7, 7, 7, 7, 5, 8, 7, 7, 7, 7, 7, 7, 7, 4, 8, 7, 7, 7, 7, 7, 7, 7, 4, 8, 7, 7, 7, 7, 3, 10, 7, 7, 7, 7, 7, 7, 7, 3, 8, 7, 7, 7, 7, 7, 7, 7, 4, 8, 7, 7, 7, 7, 7, 7, 7, 4, 10, 7, 7, 7, 7, 7, 7, 7, 5, 8, 7, 7, 7, 7, 7, 7, 7, 4, 8, 7, 7, 7, 7, 7, 7, 7, 4, 7, 7, 7, 7, 7, 7, 7, 4, 7, 7, 7, 7, 7, 7, 7, 7, 4, 7, 7, 7, 7, 7, 7, 7, 7, 4, 7, 8, 7, 7, 7, 7, 7, 7, 4, 10, 7, 7, 8, 7, 7, 7, 7, 4, 8, 7, 7, 7, 7, 7, 7, 7, 3, 8, 7, 7, 7, 7, 7, 7, 7, 8, 14, 12, 15, 10, 14, 11, 1, 11, 2, 26, 24, 17, 43, 13, 14, 1, 10, 3, 29, 43, 45, 47, 1, 7, 4, 21, 33, 25, 1, 9, 2, 40, 14, 37, 30, 29, 1, 10, 2, 26, 15, 1, 8, 2, 5, 10, 2, 1, 7, 5, 7, 7, 5, 5, 7, 7, 7, 7, 5, 6, 9, 11, 3, 10, 9, 2, 2, 7, 6, 5, 5, 6, 6, 5, 5, 7, 9, 11, 10, 12, 11, 5, 8, 11, 1, 11, 2, 29, 1, 10, 2, 5, 11, 10, 2, 2, 12, 12, 12, 2, 12, 10, 9, 9, 1, 8, 2, 24, 30, 30, 26, 34, 23, 18, 27, 11, 37, 8, 1, 8, 2, 5, 11, 3, 7, 1, 8, 2, 24, 10, 6, 7, 6, 6, 7, 7, 5, 7, 4, 6, 6, 4, 4, 4, 11, 8, 1, 5, 3, 29, 9, 22, 6, 1, 9, 3, 30, 29, 13, 12, 12, 9, 25, 34, 11, 31, 10, 11, 1, 11, 2, 44, 27, 28, 29, 37, 20, 11, 27, 37, 21, 18, 37, 41, 29, 28, 20, 18, 55, 1, 8, 5, 1, 42, 13, 30, 31, 37, 27, 9, 31, 32, 35, 25, 21, 17, 16, 33, 1, 11, 2, 27, 25, 44, 10, 1, 9, 2, 37, 33, 43, 39, 20, 20, 20, 1, 5, 2, 16, 30, 29, 17, 39, 20, 18, 22, 27, 19, 34, 24, 10, 29, 53, 29, 15, 17, 10, 17, 1, 7, 2, 22, 24, 41, 25, 42, 32, 21, 27, 14, 18, 28, 1, 9, 2, 21, 23, 11, 6, 22, 7, 1, 9, 2, 30, 24, 28, 25, 11, 5, 1, 9, 2, 31, 18, 6, 30, 7, 1, 7, 2, 35, 28, 25, 11, 17, 16, 1, 9, 2, 36, 18, 7, 12, 33, 30, 28, 29, 12, 31, 17, 10, 30, 1, 8, 4, 32, 37, 6, 19, 22, 34, 26, 19, 22, 20, 1, 7, 2, 36, 36, 19, 17, 11, 32, 30, 42, 1, 7, 2, 32, 35, 26, 30, 24, 9, 1, 6, 2, 2, 23, 38, 40, 30, 10, 29, 17, 35, 31, 27, 18, 25, 24, 23, 19, 1, 7, 2, 4, 31, 36, 31, 22, 18, 14, 28, 32, 26, 20, 14, 18, 20, 29, 22, 13, 33, 16, 21, 1, 7, 2, 36, 36, 19, 16, 17, 38, 15, 1, 9, 2, 24, 9, 36, 23, 24, 40, 19, 25, 1, 7, 4, 29, 37, 11, 1, 10, 2, 34, 43, 13, 7, 16, 1, 6, 2, 2, 30, 34, 42, 22, 22, 20, 25, 28, 17, 21, 21, 37, 44, 26, 11, 32, 9, 1, 10, 2, 37, 28, 41, 9, 5, 1, 7, 4, 32, 44, 26, 21, 17, 16, 28, 1, 7, 4, 22, 47, 23, 18, 14, 30, 1, 6, 3, 22, 39, 45, 13, 13, 33, 20, 1, 9, 2, 3, 28, 42, 35, 41, 23, 23, 22, 30, 30, 45, 41, 40, 17, 1, 7, 2, 2, 25, 46, 33, 19, 41, 9, 36, 24, 21, 14, 32, 22, 1, 11, 2, 3, 24, 43, 34, 21, 53, 28, 59, 33, 30, 31, 40, 34, 17, 30, 24, 46, 14, 17, 27, 23, 36, 23, 26, 41, 10, 62, 14, 10, 12, 10, 23, 20, 1, 7, 2, 2, 32, 30, 32, 33, 9, 24, 43, 39, 43, 31, 16, 36, 28, 27, 20, 42, 39, 9, 6, 28, 30, 23, 29, 17, 27, 21, 56, 21, 27, 14, 1, 7, 2, 2, 40, 32, 21, 16, 19, 26, 20, 38, 28, 30, 29, 20, 49, 29, 30, 35, 26, 17, 19, 1, 8, 2, 36, 39, 18, 27, 33, 49, 14, 21, 7, 13, 20, 22, 34, 32, 31, 49, 16, 12, 36, 23, 43, 1, 8, 2, 2, 38, 33, 20, 34, 33, 24, 11, 4, 16, 11, 36, 26, 10, 13, 24, 21, 23, 25, 36, 15, 18, 49, 1, 9, 2, 35, 27, 22, 23, 41, 21, 42, 12, 1, 11, 3, 27, 22, 34, 24, 6, 1, 9, 4, 38, 27, 44, 8, 8, 10, 5, 25, 56, 1, 6, 3, 33, 55, 40, 28, 32, 7, 28, 1, 7, 2, 26, 25, 11, 20, 9, 30, 46, 21, 24, 22, 28, 26, 19, 17, 1, 9, 2, 35, 42, 28, 14, 37, 40, 9, 26, 7, 30, 20, 1, 10, 2, 28, 20, 18, 20, 22, 1, 9, 4, 35, 18, 22, 15, 7, 11, 14, 22, 20, 21, 20, 18, 1, 10, 2, 26, 16, 25, 18, 19, 7, 5, 1, 10, 2, 6, 6, 6, 4, 9, 5, 1, 10, 2, 28, 35, 18, 11, 21, 30, 12, 27, 42, 16, 32, 22, 20, 11, 23, 17, 11, 1, 8, 3, 2, 7, 5, 3, 4, 2, 7, 5, 3, 4, 10, 6, 1, 7, 2, 5, 4, 6, 8, 7, 7, 7, 5, 26, 18, 7, 8, 9, 1, 6, 2, 21, 38, 29, 22, 19, 18, 32, 25, 34, 38, 15, 1, 8, 2, 25, 24, 22, 9, 10, 32, 1, 7, 2, 5, 8, 23, 4, 16, 44, 8, 32, 27, 15, 9, 6, 20, 15, 21, 33, 4, 11, 16, 14, 16, 20, 9, 31, 1, 9, 13, 9, 15, 15, 7, 7, 6, 4, 9, 7, 8, 9, 8, 4, 7, 2, 2, 2, 2, 2, 2, 2, 2, 2, 2, 2, 2, 2, 2, 2, 2, 8, 1, 9, 2, 2, 27, 23, 27, 23, 21, 21, 28, 25, 23, 14, 32, 25, 11, 28, 17, 27, 39, 30, 38, 20, 1, 8, 3, 3, 3, 7, 10, 6, 10, 6, 5, 2, 9, 27, 17, 29, 26, 45, 27, 17, 14, 9, 5, 20, 18, 5, 8, 20, 36, 29, 35, 24, 51, 19, 18, 13, 9, 21, 43, 41, 39, 21, 1, 8, 2, 2, 29, 44, 40, 32, 40, 34, 23, 18, 37, 39, 41, 36, 29, 11, 1, 8, 2, 37, 39, 7, 27, 36, 21, 12, 13, 1, 8, 2, 37, 35, 7, 27, 15, 34, 26, 28, 46, 44, 18, 19, 1, 11, 3, 37, 37, 36, 13, 29, 13, 1, 9, 2, 34, 36, 30, 13, 24, 20, 31, 33, 38, 1, 9, 2, 4, 27, 15, 31, 10, 16, 29, 21, 15, 24, 29, 20, 19, 12, 7, 28, 37, 8, 16, 14, 12, 33, 19, 24, 12, 18, 12, 6, 18, 27, 31, 12, 33, 8, 1, 9, 2, 30, 19, 34, 13, 5, 1, 10, 2, 31, 54, 30, 40, 27, 23, 6, 1, 9, 21, 13, 7, 7, 4, 1, 23, 4, 2, 32, 50, 4, 2, 27, 34, 4, 1, 39, 16, 1, 8, 2, 7, 8, 3, 6, 4, 7, 7, 11, 1, 7, 2, 7, 8, 3, 6, 4, 4, 7, 13, 1, 11, 2, 31, 33, 33, 20, 11, 13, 6, 1, 6, 2, 23, 30, 50, 22, 1, 9, 5, 21, 21, 52, 14, 22, 29, 1, 7, 3, 28, 37, 40, 22, 46, 32, 38, 31, 17, 1, 11, 5, 33, 24, 32, 27, 29, 28, 38, 36, 30, 1, 10, 4, 11, 5, 1, 10, 4, 11, 23, 4, 1, 10, 4, 30, 36, 25, 41, 1, 11, 2, 23, 28, 3, 1, 7, 4, 20, 29, 10, 11, 7, 10, 20, 51, 41, 32, 1, 10, 5, 23, 2, 10, 13, 4, 1, 12, 4, 21, 23, 1, 10, 4, 3, 12, 7, 13, 10, 9, 9, 8, 9, 8, 8, 7, 10, 9, 8, 10, 3, 8, 8, 3, 4, 9, 3, 3, 1, 8, 4, 14, 1, 9, 6, 7, 6, 5, 5, 5, 5, 6, 5, 7, 10, 11, 7, 10, 9, 6, 1, 7, 7, 6, 5, 6, 7, 7, 5, 5, 6, 6, 6, 6, 12, 2, 9, 11, 1, 7, 4, 4, 6, 8, 8, 11, 7, 7, 7, 7, 7, 7, 7, 7, 7, 33, 31, 10, 9, 7, 7, 7, 7, 7, 7, 7, 7, 8, 7, 7, 7, 7, 8, 31, 9, 2, 12, 12, 12, 13, 8, 2, 12, 5, 9, 4, 8, 5, 10, 4, 1, 12, 4, 22, 27, 25, 2, 38, 36, 1, 10, 4, 28, 21, 18, 31, 17, 21, 9, 33, 28, 27, 11, 9, 17, 12, 32, 22, 20, 9, 11, 15, 29, 14, 17, 14, 21, 45, 12, 7, 18, 35, 11, 8, 22, 12, 34, 22, 14, 11, 32, 9, 20, 23, 19, 1, 12, 2, 35, 32, 32, 38, 44, 20, 14, 1, 9, 2, 5, 11, 7, 6, 4, 7, 4, 7, 7, 4, 7, 4, 4, 7, 8, 7, 7, 8, 8, 4, 8, 4, 4, 1, 10, 2, 6, 7, 4, 4, 5, 5, 4, 4, 4, 3, 4, 5, 4, 4, 4, 5, 4, 6, 4, 5, 1, 11, 2, 21, 31, 3, 1, 11, 2, 21, 8, 3, 1, 11, 2, 32, 43, 26, 30, 16, 49, 1, 6, 2, 4, 15, 8, 2, 9, 8, 9, 9, 8, 8, 8, 8, 8, 9, 2, 8, 10, 8, 8, 8, 8, 8, 8, 8, 8, 2, 8, 8, 8, 8, 8, 10, 8, 9, 9, 9, 1, 6, 2, 4, 15, 9, 2, 8, 8, 8, 8, 8, 10, 8, 8, 8, 8, 8, 9, 9, 8, 8, 8, 8, 9, 9, 8, 9, 8, 8, 8, 2, 8, 8, 8, 8, 8, 8, 8, 8, 8, 8, 8, 9, 8, 8, 8, 8, 9, 9, 8, 8, 8, 8, 8, 8, 2, 8, 8, 8, 8, 8, 8, 8, 8, 8, 8, 8, 8, 8, 9, 8, 8, 8, 9, 8, 8, 8, 8, 8, 8, 1, 6, 2, 4, 4, 2, 5, 5, 4, 10, 2, 2, 4, 6, 4, 4, 4, 2, 4, 5, 5, 5, 6, 1, 6, 2, 5, 3, 2, 4, 4, 5, 4, 4, 5, 4, 4, 10, 8, 2, 4, 4, 5, 5, 4, 4, 4, 4, 5, 3, 5, 2, 4, 5, 4, 4, 4, 4, 5, 4, 4, 4, 4, 1, 7, 2, 13, 10, 19, 7, 10, 10, 7, 10, 25, 7, 17, 38, 7, 29, 13, 31, 18, 1, 10, 2, 6, 9, 13, 5, 13, 5, 12, 11, 11, 11, 11, 12, 11, 12, 12, 1, 11, 2, 23, 2, 21, 9, 3, 1, 10, 2, 2, 34, 32, 37, 40, 27, 36, 23, 34, 32, 46, 36, 23, 44, 13, 35, 109, 93, 1, 10, 2, 25, 2, 16, 5, 12, 14, 8, 4, 7, 1, 10, 2, 34, 36, 24, 1, 11, 2, 20, 6, 1, 8, 2, 4, 6, 2, 7, 7, 7, 4, 5, 4, 14, 5, 9, 8, 11, 8, 8, 8, 8, 8, 11, 8, 11, 8, 2, 7, 8, 5, 7, 4, 13, 2, 8, 9, 8, 8, 9, 11, 8, 8, 11, 11, 8, 11, 1, 10, 4, 33, 28, 32, 17, 15, 1, 7, 2, 6, 6, 3, 14, 3, 14, 1, 7, 2, 6, 6, 3, 14, 3, 14, 1, 10, 2, 20, 2, 20, 3, 1, 12, 2, 17, 3, 1, 10, 2, 21, 2, 5, 3, 1, 7, 2, 28, 1, 10, 2, 18, 12, 3, 1, 10, 2, 20, 7, 3, 1, 9, 2, 20, 14, 3, 1, 10, 3, 27, 23, 28, 37, 17, 26, 23, 17, 21, 25, 13, 18, 19, 18, 18, 20, 20, 29, 22, 8, 16, 1, 8, 3, 52, 1, 11, 4, 29, 19, 26, 26, 18, 27, 39, 22, 26, 29, 17, 11, 7, 19, 15, 30, 15, 6, 16, 7, 11, 16, 14, 30, 32, 14, 1, 14, 2, 3, 40, 19, 19, 13, 36, 41, 7, 28, 22, 22, 17, 34, 10, 22, 19, 29, 24, 1, 10, 3, 21, 52, 22, 1, 12, 3, 21, 10, 4, 4, 3, 3, 10, 10, 3, 4, 4, 4, 1, 8, 3, 19, 2, 19, 8, 3, 1, 10, 3, 3, 11, 9, 2, 2, 4, 6, 5, 6, 6, 6, 2, 5, 5, 6, 5, 6, 2, 5, 5, 6, 6, 5, 4, 3, 3, 3, 3, 3, 4, 2, 2, 4, 5, 6, 6, 7, 6, 2, 5, 7, 6, 5, 5, 2, 6, 6, 5, 6, 5, 3, 3, 5, 3, 4, 4, 4, 1, 7, 3, 4, 12, 2, 5, 4, 8, 4, 5, 4, 4, 2, 8, 8, 4, 5, 9, 4, 6, 5, 1, 11, 2, 35, 33, 11, 20, 25, 22, 24, 26, 15, 12, 42, 36, 11, 22, 12, 18, 10, 11, 37, 18, 43, 12, 30, 37, 16, 22, 16, 10, 10, 34, 37, 21, 26, 27, 30, 18, 18, 24, 12, 32, 13, 24, 1, 8, 2, 3, 39, 45, 7, 30, 29, 25, 14, 7, 32, 42, 17, 7, 10, 25, 15, 19, 16, 31, 22, 12, 20, 14, 12, 1, 9, 2, 29, 1, 10, 2, 2, 36, 20, 34, 27, 24, 26, 15, 25, 29, 14, 6, 18, 17, 2, 46, 40, 1, 8, 2, 24, 1, 12, 2, 27, 40, 37, 19, 21, 45, 36, 37, 2, 91, 105, 1, 9, 2, 16, 14, 3, 1, 10, 2, 2, 30, 25, 9, 31, 41, 36, 49, 42, 32, 28, 24, 2, 83, 79, 18, 11, 18, 19, 1, 9, 2, 31, 3, 3, 1, 8, 2, 6, 6, 6, 1, 11, 2, 4, 13, 2, 2, 13, 7, 3, 1, 12, 2, 17, 3, 1, 8, 2, 33, 44, 26, 38, 1, 11, 2, 5, 12, 2, 12, 5, 12, 1, 8, 2, 26, 1, 8, 2, 5, 12, 8, 11, 8, 7, 8, 10, 5, 8, 1, 10, 2, 18, 38, 25, 25, 13, 10, 26, 1, 8, 2, 6, 4, 5, 6, 9, 1, 9, 2, 17, 2, 13, 7, 3, 1, 8, 2, 35, 43, 22, 25, 8, 19, 34, 35, 31, 1, 7, 2, 16, 7, 18, 21, 33, 24, 16, 25, 7, 19, 9, 12, 22, 22, 25, 15, 9, 23, 7, 11, 32, 8, 19, 8, 16, 22, 10, 20, 16, 16, 12, 19, 16, 13, 33, 32, 35, 1, 5, 2, 27, 34, 27, 29, 16, 10, 29, 1, 7, 4, 35, 26, 37, 27, 27, 29, 1, 8, 2, 26, 6, 18, 30, 37, 12, 18, 8, 1, 6, 2, 26, 33, 9, 21, 19, 16, 21, 25, 18, 1, 9, 2, 30, 43, 40, 21, 18, 34, 43, 1, 9, 2, 24, 32, 31, 1, 7, 2, 10, 4, 4, 23, 5, 6, 6, 6, 6, 7, 7, 6, 6, 1, 8, 3, 34, 26, 19, 30, 44, 21, 6, 33, 37, 1, 9, 2, 28, 40, 35, 32, 34, 23, 43, 22, 11, 10, 39, 1, 8, 4, 35, 15, 23, 31, 11, 20, 13, 21, 29, 1, 8, 2, 4, 31, 45, 13, 33, 1, 37, 39, 29, 19, 15, 16, 31, 42, 20, 24, 26, 15, 5, 6, 42, 1, 36, 19, 12, 1, 11, 2, 36, 39, 30, 42, 42, 33, 20, 29, 26, 29, 20, 20, 43, 7, 1, 8, 2, 24, 23, 14, 29, 1, 9, 2, 27, 28, 36, 75, 20, 25, 12, 11, 21, 19, 1, 7, 2, 35, 35, 20, 19, 29, 9, 1, 9, 3, 30, 37, 28, 19, 14, 36, 1, 9, 2, 36, 44, 44, 10, 31, 39, 21, 12, 15, 35, 24, 21, 24, 1, 10, 2, 33, 27, 13, 21, 14, 24, 19, 1, 10, 2, 2, 37, 46, 29, 34, 10, 29, 34, 34, 16, 10, 31, 12, 38, 25, 29, 20, 25, 15, 11, 18, 38, 24, 33, 24, 30, 6, 9, 1, 7, 2, 32, 14, 9, 19, 20, 30, 6, 1, 10, 2, 30, 39, 12, 14, 25, 16, 36, 8, 27, 1, 6, 2, 22, 37, 29, 36, 14, 23, 37, 27, 35, 36, 1, 7, 2, 21, 25, 22, 11, 37, 27, 36, 1, 7, 3, 34, 30, 21, 48, 9, 1, 8, 2, 27, 30, 5, 26, 16, 27, 13, 6, 1, 9, 2, 28, 6, 16, 26, 41, 11, 12, 34, 22, 27, 10, 15, 15, 1, 8, 2, 33, 48, 28, 13, 28, 28, 31, 19, 1, 7, 2, 41, 18, 27, 1, 7, 2, 16, 31, 16, 7, 1, 10, 2, 28, 26, 28, 52, 56, 30, 1, 10, 2, 33, 14, 5, 6, 25, 1, 8, 2, 12, 14, 2, 21, 15, 2, 10, 23, 7, 1, 10, 2, 39, 31, 28, 51, 17, 29, 40, 35, 23, 25, 29, 10, 1, 10, 4, 6, 19, 14, 30, 24, 19, 8, 19, 1, 10, 2, 31, 52, 10, 17, 23, 1, 10, 2, 2, 36, 55, 39, 9, 33, 21, 31, 22, 28, 19, 28, 56, 19, 35, 15, 29, 1, 7, 2, 17, 12, 12, 21, 40, 37, 1, 8, 2, 22, 31, 18, 32, 28, 10, 41, 36, 1, 10, 2, 32, 36, 36, 17, 34, 19, 13, 24, 36, 23, 30, 21, 20, 22, 1, 8, 2, 24, 43, 41, 8, 24, 6, 42, 21, 30, 1, 8, 2, 21, 16, 30, 1, 7, 2, 24, 30, 9, 25, 1, 9, 2, 24, 21, 45, 28, 7, 35, 1, 8, 2, 4, 38, 35, 29, 32, 32, 9, 4, 35, 31, 14, 18, 34, 24, 21, 12, 27, 26, 21, 8, 39, 36, 26, 1, 10, 2, 44, 9, 15, 13, 16, 20, 22, 25, 4, 1]\n",
            " - f1: 88.98\n",
            "              precision    recall  f1-score   support\n",
            "\n",
            "         LOC     0.9423    0.9077    0.9247      1799\n",
            "        MISC     0.8630    0.7804    0.8196       920\n",
            "         ORG     0.8226    0.8362    0.8294      1331\n",
            "         PER     0.9131    0.9546    0.9334      1828\n",
            "           d     0.0000    0.0000    0.0000         0\n",
            "\n",
            "   micro avg     0.8935    0.8862    0.8898      5878\n",
            "   macro avg     0.7082    0.6958    0.7014      5878\n",
            "weighted avg     0.8937    0.8862    0.8894      5878\n",
            "\n",
            "Epoch 8 took 389.07367420196533 seconds\n",
            "469/469 [==============================] - 389s 830ms/step - loss: 0.0058 - accuracy: 0.9983\n",
            "Epoch 9/100\n",
            "109/109 [==============================] - 34s 309ms/step\n",
            "[11, 2, 35, 37, 38, 24, 30, 34, 39, 41, 25, 34, 31, 28, 22, 9, 1, 7, 2, 14, 12, 13, 7, 30, 18, 35, 25, 25, 27, 26, 1, 6, 2, 6, 9, 13, 4, 8, 11, 8, 9, 10, 2, 3, 1, 5, 6, 12, 4, 4, 4, 9, 2, 10, 2, 12, 10, 2, 11, 1, 11, 12, 8, 9, 12, 8, 1, 11, 6, 4, 8, 8, 8, 1, 8, 11, 8, 12, 1, 8, 2, 17, 40, 20, 34, 26, 28, 20, 28, 18, 14, 1, 6, 2, 4, 5, 13, 2, 1, 9, 2, 17, 2, 13, 7, 3, 1, 10, 2, 38, 29, 20, 17, 29, 1, 12, 3, 26, 23, 37, 7, 7, 4, 10, 39, 16, 28, 31, 19, 1, 8, 3, 32, 15, 19, 18, 1, 9, 2, 5, 5, 8, 8, 10, 15, 10, 7, 7, 7, 7, 7, 7, 7, 7, 7, 1, 9, 2, 4, 7, 4, 4, 4, 4, 4, 4, 13, 9, 14, 5, 6, 7, 6, 7, 6, 7, 6, 7, 1, 10, 3, 21, 6, 14, 6, 20, 14, 16, 17, 16, 6, 20, 16, 6, 15, 16, 17, 45, 37, 42, 20, 1, 7, 11, 7, 13, 1, 11, 8, 7, 13, 2, 1, 43, 1, 10, 3, 3, 11, 9, 2, 2, 4, 6, 5, 6, 6, 6, 2, 5, 5, 6, 5, 6, 2, 5, 5, 6, 6, 5, 4, 3, 3, 3, 4, 3, 3, 2, 2, 4, 5, 5, 5, 6, 5, 2, 5, 7, 5, 5, 5, 2, 6, 6, 5, 6, 5, 3, 3, 4, 4, 3, 5, 4, 1, 7, 3, 4, 12, 2, 5, 4, 5, 4, 2, 6, 4, 4, 4, 5, 5, 1, 12, 2, 3, 28, 36, 23, 11, 34, 8, 32, 32, 36, 27, 22, 37, 31, 19, 18, 13, 46, 21, 14, 12, 21, 12, 16, 18, 20, 8, 13, 8, 7, 8, 6, 10, 8, 14, 13, 10, 29, 14, 12, 14, 1, 6, 2, 31, 11, 15, 26, 34, 21, 33, 21, 9, 1, 9, 4, 3, 11, 10, 9, 3, 3, 12, 14, 13, 11, 14, 12, 2, 1, 13, 4, 35, 21, 22, 19, 19, 9, 15, 6, 8, 22, 16, 11, 15, 11, 13, 35, 45, 12, 9, 39, 14, 25, 29, 1, 13, 2, 44, 29, 12, 1, 11, 2, 2, 33, 41, 34, 14, 27, 12, 20, 15, 34, 16, 34, 1, 7, 2, 5, 7, 5, 8, 7, 7, 7, 7, 7, 7, 4, 10, 7, 7, 7, 7, 7, 7, 7, 5, 8, 7, 7, 7, 7, 7, 7, 7, 4, 8, 7, 7, 7, 7, 7, 7, 7, 4, 8, 7, 7, 7, 7, 3, 10, 7, 7, 7, 7, 7, 7, 7, 3, 8, 7, 7, 7, 7, 7, 7, 7, 4, 8, 7, 7, 7, 7, 7, 7, 7, 4, 10, 7, 7, 7, 7, 7, 7, 7, 5, 8, 7, 7, 7, 7, 7, 7, 7, 4, 8, 7, 7, 7, 7, 7, 7, 7, 4, 7, 7, 7, 7, 7, 7, 7, 4, 7, 7, 7, 7, 7, 7, 7, 7, 4, 7, 7, 7, 7, 7, 7, 7, 7, 4, 7, 8, 7, 7, 7, 7, 7, 7, 4, 10, 7, 7, 8, 7, 7, 7, 7, 4, 8, 7, 7, 7, 7, 7, 7, 7, 3, 8, 7, 7, 7, 7, 7, 7, 7, 8, 14, 12, 15, 10, 14, 11, 1, 11, 2, 26, 24, 17, 43, 13, 14, 1, 10, 3, 29, 43, 45, 47, 1, 7, 4, 21, 33, 25, 1, 9, 2, 40, 14, 37, 30, 29, 1, 10, 2, 26, 15, 1, 8, 2, 5, 10, 2, 1, 7, 5, 7, 7, 5, 5, 7, 7, 7, 7, 5, 6, 9, 11, 3, 10, 9, 2, 2, 7, 6, 5, 5, 6, 6, 5, 5, 7, 9, 11, 10, 12, 11, 5, 8, 11, 1, 11, 2, 29, 1, 10, 2, 5, 11, 10, 2, 2, 12, 12, 12, 2, 12, 10, 9, 9, 1, 8, 2, 24, 30, 30, 26, 34, 23, 18, 27, 11, 37, 8, 1, 8, 2, 5, 11, 3, 7, 1, 8, 2, 24, 10, 6, 7, 6, 6, 7, 7, 5, 7, 4, 6, 6, 4, 4, 4, 11, 8, 1, 5, 3, 29, 9, 22, 6, 1, 9, 3, 30, 29, 13, 12, 12, 9, 25, 34, 11, 31, 10, 11, 1, 11, 2, 44, 27, 28, 29, 37, 20, 11, 27, 37, 21, 18, 37, 41, 29, 28, 20, 18, 55, 1, 8, 5, 1, 42, 13, 30, 31, 37, 27, 9, 31, 32, 35, 25, 21, 17, 16, 33, 1, 11, 2, 27, 25, 44, 10, 1, 9, 2, 37, 33, 43, 39, 20, 20, 20, 1, 5, 2, 16, 30, 29, 17, 39, 20, 18, 22, 27, 19, 34, 24, 10, 29, 53, 29, 15, 17, 10, 17, 1, 7, 2, 22, 24, 41, 25, 42, 32, 21, 27, 14, 18, 28, 1, 9, 2, 21, 23, 11, 6, 22, 7, 1, 9, 2, 30, 24, 28, 25, 11, 5, 1, 9, 2, 31, 18, 6, 30, 7, 1, 7, 2, 35, 28, 25, 11, 17, 16, 1, 9, 2, 36, 18, 7, 12, 33, 30, 28, 29, 12, 31, 17, 10, 30, 1, 8, 4, 32, 37, 6, 19, 22, 34, 26, 19, 22, 20, 1, 7, 2, 36, 36, 19, 17, 11, 32, 30, 42, 1, 7, 2, 32, 35, 26, 30, 24, 9, 1, 6, 2, 2, 23, 38, 40, 30, 10, 29, 17, 35, 31, 27, 18, 25, 24, 23, 19, 1, 7, 2, 4, 31, 36, 31, 22, 18, 14, 28, 32, 26, 20, 14, 18, 20, 29, 22, 13, 33, 16, 21, 1, 7, 2, 36, 36, 19, 16, 17, 38, 15, 1, 9, 2, 24, 9, 36, 23, 24, 40, 19, 25, 1, 7, 4, 29, 37, 11, 1, 10, 2, 34, 43, 13, 7, 16, 1, 6, 2, 2, 30, 34, 42, 22, 22, 20, 25, 28, 17, 21, 21, 37, 44, 26, 11, 32, 9, 1, 10, 2, 37, 28, 41, 9, 5, 1, 7, 4, 32, 44, 26, 21, 17, 16, 28, 1, 7, 4, 22, 47, 23, 18, 14, 30, 1, 6, 3, 22, 39, 45, 13, 13, 33, 20, 1, 9, 2, 3, 28, 42, 35, 41, 23, 23, 22, 30, 30, 45, 41, 40, 17, 1, 7, 2, 2, 25, 46, 33, 19, 41, 9, 36, 24, 21, 14, 32, 22, 1, 11, 2, 3, 24, 43, 34, 21, 53, 28, 59, 33, 30, 31, 40, 34, 17, 30, 24, 46, 14, 17, 27, 23, 36, 23, 26, 41, 10, 62, 14, 10, 12, 10, 23, 20, 1, 7, 2, 2, 32, 30, 32, 33, 9, 24, 43, 39, 43, 31, 16, 36, 28, 27, 20, 42, 39, 9, 6, 28, 30, 23, 29, 17, 27, 21, 56, 21, 27, 14, 1, 7, 2, 2, 40, 32, 21, 16, 19, 26, 20, 38, 28, 30, 29, 20, 49, 29, 30, 35, 26, 17, 19, 1, 8, 2, 36, 39, 18, 27, 33, 49, 14, 21, 7, 13, 20, 22, 34, 32, 31, 49, 16, 12, 36, 23, 43, 1, 8, 2, 2, 38, 33, 20, 34, 33, 24, 11, 4, 16, 11, 36, 26, 10, 13, 24, 21, 23, 25, 36, 15, 18, 49, 1, 9, 2, 35, 27, 22, 23, 41, 21, 42, 12, 1, 11, 3, 27, 22, 34, 24, 6, 1, 9, 4, 38, 27, 44, 8, 8, 10, 5, 25, 56, 1, 6, 3, 33, 55, 40, 28, 32, 7, 28, 1, 7, 2, 26, 25, 11, 20, 9, 30, 46, 21, 24, 22, 28, 26, 19, 17, 1, 9, 2, 35, 42, 28, 14, 37, 40, 9, 26, 7, 30, 20, 1, 10, 2, 28, 20, 18, 20, 22, 1, 9, 4, 35, 18, 22, 15, 7, 11, 14, 22, 20, 21, 20, 18, 1, 10, 2, 26, 16, 25, 18, 19, 7, 5, 1, 10, 2, 6, 6, 6, 4, 9, 5, 1, 10, 2, 28, 35, 18, 11, 21, 30, 12, 27, 42, 16, 32, 22, 20, 11, 23, 17, 11, 1, 8, 3, 2, 7, 5, 3, 4, 2, 7, 5, 3, 4, 10, 6, 1, 7, 2, 5, 4, 6, 8, 7, 7, 7, 5, 26, 18, 7, 8, 9, 1, 6, 2, 21, 38, 29, 22, 19, 18, 32, 25, 34, 38, 15, 1, 8, 2, 25, 24, 22, 9, 10, 32, 1, 7, 2, 5, 8, 23, 4, 16, 44, 8, 32, 27, 15, 9, 6, 20, 15, 21, 33, 4, 11, 16, 14, 16, 20, 9, 31, 1, 9, 13, 9, 15, 15, 7, 7, 6, 4, 9, 7, 8, 9, 8, 4, 7, 2, 2, 2, 2, 2, 2, 2, 2, 2, 2, 2, 2, 2, 2, 2, 2, 8, 1, 9, 2, 2, 27, 23, 27, 23, 21, 21, 28, 25, 23, 14, 32, 25, 11, 28, 17, 27, 39, 30, 38, 20, 1, 8, 3, 3, 3, 7, 10, 6, 10, 6, 5, 2, 9, 27, 17, 29, 26, 45, 27, 17, 14, 9, 5, 20, 18, 5, 8, 20, 36, 29, 35, 24, 51, 19, 18, 13, 9, 21, 43, 41, 39, 21, 1, 8, 2, 2, 29, 44, 40, 32, 40, 34, 23, 18, 37, 39, 41, 36, 29, 11, 1, 8, 2, 37, 39, 7, 27, 36, 21, 12, 13, 1, 8, 2, 37, 35, 7, 27, 15, 34, 26, 28, 46, 44, 18, 19, 1, 11, 3, 37, 37, 36, 13, 29, 13, 1, 9, 2, 34, 36, 30, 13, 24, 20, 31, 33, 38, 1, 9, 2, 4, 27, 15, 31, 10, 16, 29, 21, 15, 24, 29, 20, 19, 12, 7, 28, 37, 8, 16, 14, 12, 33, 19, 24, 12, 18, 12, 6, 18, 27, 31, 12, 33, 8, 1, 9, 2, 30, 19, 34, 13, 5, 1, 10, 2, 31, 54, 30, 40, 27, 23, 6, 1, 9, 21, 13, 7, 7, 4, 1, 23, 4, 2, 32, 50, 4, 2, 27, 34, 4, 1, 39, 16, 1, 8, 2, 7, 8, 3, 6, 4, 7, 7, 11, 1, 7, 2, 7, 8, 3, 6, 4, 4, 7, 13, 1, 11, 2, 31, 33, 33, 20, 11, 13, 6, 1, 6, 2, 23, 30, 50, 22, 1, 9, 5, 21, 21, 52, 14, 22, 29, 1, 7, 3, 28, 37, 40, 22, 46, 32, 38, 31, 17, 1, 11, 5, 33, 24, 32, 27, 29, 28, 38, 36, 30, 1, 10, 4, 11, 5, 1, 10, 4, 11, 23, 4, 1, 10, 4, 30, 36, 25, 41, 1, 11, 2, 23, 28, 3, 1, 7, 4, 20, 29, 10, 11, 7, 10, 20, 51, 41, 32, 1, 10, 5, 23, 2, 10, 13, 4, 1, 12, 4, 21, 23, 1, 10, 4, 3, 12, 7, 13, 10, 9, 9, 8, 9, 8, 8, 7, 10, 9, 8, 10, 3, 8, 8, 3, 4, 9, 3, 3, 1, 8, 4, 14, 1, 9, 6, 7, 6, 5, 5, 5, 5, 6, 5, 7, 10, 11, 7, 10, 9, 6, 1, 7, 7, 6, 5, 6, 7, 7, 5, 5, 6, 6, 6, 6, 12, 2, 9, 11, 1, 7, 4, 4, 6, 8, 8, 11, 7, 7, 7, 7, 7, 7, 7, 7, 7, 33, 31, 10, 9, 7, 7, 7, 7, 7, 7, 7, 7, 8, 7, 7, 7, 7, 8, 31, 9, 2, 12, 12, 12, 13, 8, 2, 12, 5, 9, 4, 8, 5, 10, 4, 1, 12, 4, 22, 27, 25, 2, 38, 36, 1, 10, 4, 28, 21, 18, 31, 17, 21, 9, 33, 28, 27, 11, 9, 17, 12, 32, 22, 20, 9, 11, 15, 29, 14, 17, 14, 21, 45, 12, 7, 18, 35, 11, 8, 22, 12, 34, 22, 14, 11, 32, 9, 20, 23, 19, 1, 12, 2, 35, 32, 32, 38, 44, 20, 14, 1, 9, 2, 5, 11, 7, 6, 4, 7, 4, 7, 7, 4, 7, 4, 4, 7, 8, 7, 7, 8, 8, 4, 8, 4, 4, 1, 10, 2, 6, 7, 4, 4, 5, 5, 4, 4, 4, 3, 4, 5, 4, 4, 4, 5, 4, 6, 4, 5, 1, 11, 2, 21, 31, 3, 1, 11, 2, 21, 8, 3, 1, 11, 2, 32, 43, 26, 30, 16, 49, 1, 6, 2, 4, 15, 8, 2, 9, 8, 9, 9, 8, 8, 8, 8, 8, 9, 2, 8, 10, 8, 8, 8, 8, 8, 8, 8, 8, 2, 8, 8, 8, 8, 8, 10, 8, 9, 9, 9, 1, 6, 2, 4, 15, 9, 2, 8, 8, 8, 8, 8, 10, 8, 8, 8, 8, 8, 9, 9, 8, 8, 8, 8, 9, 9, 8, 9, 8, 8, 8, 2, 8, 8, 8, 8, 8, 8, 8, 8, 8, 8, 8, 9, 8, 8, 8, 8, 9, 9, 8, 8, 8, 8, 8, 8, 2, 8, 8, 8, 8, 8, 8, 8, 8, 8, 8, 8, 8, 8, 9, 8, 8, 8, 9, 8, 8, 8, 8, 8, 8, 1, 6, 2, 4, 4, 2, 5, 5, 4, 10, 2, 2, 4, 6, 4, 4, 4, 2, 4, 5, 5, 5, 6, 1, 6, 2, 5, 3, 2, 4, 4, 5, 4, 4, 5, 4, 4, 10, 8, 2, 4, 4, 5, 5, 4, 4, 4, 4, 5, 3, 5, 2, 4, 5, 4, 4, 4, 4, 5, 4, 4, 4, 4, 1, 7, 2, 13, 10, 19, 7, 10, 10, 7, 10, 25, 7, 17, 38, 7, 29, 13, 31, 18, 1, 10, 2, 6, 9, 13, 5, 13, 5, 12, 11, 11, 11, 11, 12, 11, 12, 12, 1, 11, 2, 23, 2, 21, 9, 3, 1, 10, 2, 2, 34, 32, 37, 40, 27, 36, 23, 34, 32, 46, 36, 23, 44, 13, 35, 109, 93, 1, 10, 2, 25, 2, 16, 5, 12, 14, 8, 4, 7, 1, 10, 2, 34, 36, 24, 1, 11, 2, 20, 6, 1, 8, 2, 4, 6, 2, 7, 7, 7, 4, 5, 4, 14, 5, 9, 8, 11, 8, 8, 8, 8, 8, 11, 8, 11, 8, 2, 7, 8, 5, 7, 4, 13, 2, 8, 9, 8, 8, 9, 11, 8, 8, 11, 11, 8, 11, 1, 10, 4, 33, 28, 32, 17, 15, 1, 7, 2, 6, 6, 3, 14, 3, 14, 1, 7, 2, 6, 6, 3, 14, 3, 14, 1, 10, 2, 20, 2, 20, 3, 1, 12, 2, 17, 3, 1, 10, 2, 21, 2, 5, 3, 1, 7, 2, 28, 1, 10, 2, 18, 12, 3, 1, 10, 2, 20, 7, 3, 1, 9, 2, 20, 14, 3, 1, 10, 3, 27, 23, 28, 37, 17, 26, 23, 17, 21, 25, 13, 18, 19, 18, 18, 20, 20, 29, 22, 8, 16, 1, 8, 3, 52, 1, 11, 4, 29, 19, 26, 26, 18, 27, 39, 22, 26, 29, 17, 11, 7, 19, 15, 30, 15, 6, 16, 7, 11, 16, 14, 30, 32, 14, 1, 14, 2, 3, 40, 19, 19, 13, 36, 41, 7, 28, 22, 22, 17, 34, 10, 22, 19, 29, 24, 1, 10, 3, 21, 52, 22, 1, 12, 3, 21, 10, 4, 4, 3, 3, 10, 10, 3, 4, 4, 4, 1, 8, 3, 19, 2, 19, 8, 3, 1, 10, 3, 3, 11, 9, 2, 2, 4, 6, 5, 6, 6, 6, 2, 5, 5, 6, 5, 6, 2, 5, 5, 6, 6, 5, 4, 3, 3, 3, 3, 3, 4, 2, 2, 4, 5, 6, 6, 7, 6, 2, 5, 7, 6, 5, 5, 2, 6, 6, 5, 6, 5, 3, 3, 5, 3, 4, 4, 4, 1, 7, 3, 4, 12, 2, 5, 4, 8, 4, 5, 4, 4, 2, 8, 8, 4, 5, 9, 4, 6, 5, 1, 11, 2, 35, 33, 11, 20, 25, 22, 24, 26, 15, 12, 42, 36, 11, 22, 12, 18, 10, 11, 37, 18, 43, 12, 30, 37, 16, 22, 16, 10, 10, 34, 37, 21, 26, 27, 30, 18, 18, 24, 12, 32, 13, 24, 1, 8, 2, 3, 39, 45, 7, 30, 29, 25, 14, 7, 32, 42, 17, 7, 10, 25, 15, 19, 16, 31, 22, 12, 20, 14, 12, 1, 9, 2, 29, 1, 10, 2, 2, 36, 20, 34, 27, 24, 26, 15, 25, 29, 14, 6, 18, 17, 2, 46, 40, 1, 8, 2, 24, 1, 12, 2, 27, 40, 37, 19, 21, 45, 36, 37, 2, 91, 105, 1, 9, 2, 16, 14, 3, 1, 10, 2, 2, 30, 25, 9, 31, 41, 36, 49, 42, 32, 28, 24, 2, 83, 79, 18, 11, 18, 19, 1, 9, 2, 31, 3, 3, 1, 8, 2, 6, 6, 6, 1, 11, 2, 4, 13, 2, 2, 13, 7, 3, 1, 12, 2, 17, 3, 1, 8, 2, 33, 44, 26, 38, 1, 11, 2, 5, 12, 2, 12, 5, 12, 1, 8, 2, 26, 1, 8, 2, 5, 12, 8, 11, 8, 7, 8, 10, 5, 8, 1, 10, 2, 18, 38, 25, 25, 13, 10, 26, 1, 8, 2, 6, 4, 5, 6, 9, 1, 9, 2, 17, 2, 13, 7, 3, 1, 8, 2, 35, 43, 22, 25, 8, 19, 34, 35, 31, 1, 7, 2, 16, 7, 18, 21, 33, 24, 16, 25, 7, 19, 9, 12, 22, 22, 25, 15, 9, 23, 7, 11, 32, 8, 19, 8, 16, 22, 10, 20, 16, 16, 12, 19, 16, 13, 33, 32, 35, 1, 5, 2, 27, 34, 27, 29, 16, 10, 29, 1, 7, 4, 35, 26, 37, 27, 27, 29, 1, 8, 2, 26, 6, 18, 30, 37, 12, 18, 8, 1, 6, 2, 26, 33, 9, 21, 19, 16, 21, 25, 18, 1, 9, 2, 30, 43, 40, 21, 18, 34, 43, 1, 9, 2, 24, 32, 31, 1, 7, 2, 10, 4, 4, 23, 5, 6, 6, 6, 6, 7, 7, 6, 6, 1, 8, 3, 34, 26, 19, 30, 44, 21, 6, 33, 37, 1, 9, 2, 28, 40, 35, 32, 34, 23, 43, 22, 11, 10, 39, 1, 8, 4, 35, 15, 23, 31, 11, 20, 13, 21, 29, 1, 8, 2, 4, 31, 45, 13, 33, 1, 37, 39, 29, 19, 15, 16, 31, 42, 20, 24, 26, 15, 5, 6, 42, 1, 36, 19, 12, 1, 11, 2, 36, 39, 30, 42, 42, 33, 20, 29, 26, 29, 20, 20, 43, 7, 1, 8, 2, 24, 23, 14, 29, 1, 9, 2, 27, 28, 36, 75, 20, 25, 12, 11, 21, 19, 1, 7, 2, 35, 35, 20, 19, 29, 9, 1, 9, 3, 30, 37, 28, 19, 14, 36, 1, 9, 2, 36, 44, 44, 10, 31, 39, 21, 12, 15, 35, 24, 21, 24, 1, 10, 2, 33, 27, 13, 21, 14, 24, 19, 1, 10, 2, 2, 37, 46, 29, 34, 10, 29, 34, 34, 16, 10, 31, 12, 38, 25, 29, 20, 25, 15, 11, 18, 38, 24, 33, 24, 30, 6, 9, 1, 7, 2, 32, 14, 9, 19, 20, 30, 6, 1, 10, 2, 30, 39, 12, 14, 25, 16, 36, 8, 27, 1, 6, 2, 22, 37, 29, 36, 14, 23, 37, 27, 35, 36, 1, 7, 2, 21, 25, 22, 11, 37, 27, 36, 1, 7, 3, 34, 30, 21, 48, 9, 1, 8, 2, 27, 30, 5, 26, 16, 27, 13, 6, 1, 9, 2, 28, 6, 16, 26, 41, 11, 12, 34, 22, 27, 10, 15, 15, 1, 8, 2, 33, 48, 28, 13, 28, 28, 31, 19, 1, 7, 2, 41, 18, 27, 1, 7, 2, 16, 31, 16, 7, 1, 10, 2, 28, 26, 28, 52, 56, 30, 1, 10, 2, 33, 14, 5, 6, 25, 1, 8, 2, 12, 14, 2, 21, 15, 2, 10, 23, 7, 1, 10, 2, 39, 31, 28, 51, 17, 29, 40, 35, 23, 25, 29, 10, 1, 10, 4, 6, 19, 14, 30, 24, 19, 8, 19, 1, 10, 2, 31, 52, 10, 17, 23, 1, 10, 2, 2, 36, 55, 39, 9, 33, 21, 31, 22, 28, 19, 28, 56, 19, 35, 15, 29, 1, 7, 2, 17, 12, 12, 21, 40, 37, 1, 8, 2, 22, 31, 18, 32, 28, 10, 41, 36, 1, 10, 2, 32, 36, 36, 17, 34, 19, 13, 24, 36, 23, 30, 21, 20, 22, 1, 8, 2, 24, 43, 41, 8, 24, 6, 42, 21, 30, 1, 8, 2, 21, 16, 30, 1, 7, 2, 24, 30, 9, 25, 1, 9, 2, 24, 21, 45, 28, 7, 35, 1, 8, 2, 4, 38, 35, 29, 32, 32, 9, 4, 35, 31, 14, 18, 34, 24, 21, 12, 27, 26, 21, 8, 39, 36, 26, 1, 10, 2, 44, 9, 15, 13, 16, 20, 22, 25, 4, 1]\n",
            " - f1: 89.66\n",
            "              precision    recall  f1-score   support\n",
            "\n",
            "         LOC     0.9258    0.9288    0.9273      1799\n",
            "        MISC     0.8611    0.8087    0.8341       920\n",
            "         ORG     0.8192    0.8610    0.8396      1331\n",
            "         PER     0.9335    0.9453    0.9394      1828\n",
            "           d     0.0000    0.0000    0.0000         0\n",
            "\n",
            "   micro avg     0.8934    0.8998    0.8966      5878\n",
            "   macro avg     0.7079    0.7088    0.7081      5878\n",
            "weighted avg     0.8939    0.8998    0.8966      5878\n",
            "\n",
            "Epoch 9 took 385.5885007381439 seconds\n",
            "469/469 [==============================] - 386s 822ms/step - loss: 0.0053 - accuracy: 0.9984\n",
            "Epoch 10/100\n",
            "109/109 [==============================] - 33s 306ms/step\n",
            "[11, 2, 35, 37, 38, 24, 30, 34, 39, 41, 25, 34, 31, 28, 22, 9, 1, 7, 2, 14, 12, 13, 7, 30, 18, 35, 25, 25, 27, 26, 1, 6, 2, 6, 9, 13, 4, 8, 11, 8, 9, 10, 2, 3, 1, 5, 6, 12, 4, 4, 4, 9, 2, 10, 2, 12, 10, 2, 11, 1, 11, 12, 8, 9, 12, 8, 1, 11, 6, 4, 8, 8, 8, 1, 8, 11, 8, 12, 1, 8, 2, 17, 40, 20, 34, 26, 28, 20, 28, 18, 14, 1, 6, 2, 4, 5, 13, 2, 1, 9, 2, 17, 2, 13, 7, 3, 1, 10, 2, 38, 29, 20, 17, 29, 1, 12, 3, 26, 23, 37, 7, 7, 4, 10, 39, 16, 28, 31, 19, 1, 8, 3, 32, 15, 19, 18, 1, 9, 2, 5, 5, 8, 8, 10, 15, 10, 7, 7, 7, 7, 7, 7, 7, 7, 7, 1, 9, 2, 4, 7, 4, 4, 4, 4, 4, 4, 13, 9, 14, 5, 6, 7, 6, 7, 6, 7, 6, 7, 1, 10, 3, 21, 6, 14, 6, 20, 14, 16, 17, 16, 6, 20, 16, 6, 15, 16, 17, 45, 37, 42, 20, 1, 7, 11, 7, 13, 1, 11, 8, 7, 13, 2, 1, 43, 1, 10, 3, 3, 11, 9, 2, 2, 4, 6, 5, 6, 6, 6, 2, 5, 5, 6, 5, 6, 2, 5, 5, 6, 6, 5, 4, 3, 3, 3, 4, 3, 3, 2, 2, 4, 5, 5, 5, 6, 5, 2, 5, 7, 5, 5, 5, 2, 6, 6, 5, 6, 5, 3, 3, 4, 4, 3, 5, 4, 1, 7, 3, 4, 12, 2, 5, 4, 5, 4, 2, 6, 4, 4, 4, 5, 5, 1, 12, 2, 3, 28, 36, 23, 11, 34, 8, 32, 32, 36, 27, 22, 37, 31, 19, 18, 13, 46, 21, 14, 12, 21, 12, 16, 18, 20, 8, 13, 8, 7, 8, 6, 10, 8, 14, 13, 10, 29, 14, 12, 14, 1, 6, 2, 31, 11, 15, 26, 34, 21, 33, 21, 9, 1, 9, 4, 3, 11, 10, 9, 3, 3, 12, 14, 13, 11, 14, 12, 2, 1, 13, 4, 35, 21, 22, 19, 19, 9, 15, 6, 8, 22, 16, 11, 15, 11, 13, 35, 45, 12, 9, 39, 14, 25, 29, 1, 13, 2, 44, 29, 12, 1, 11, 2, 2, 33, 41, 34, 14, 27, 12, 20, 15, 34, 16, 34, 1, 7, 2, 5, 7, 5, 8, 7, 7, 7, 7, 7, 7, 4, 10, 7, 7, 7, 7, 7, 7, 7, 5, 8, 7, 7, 7, 7, 7, 7, 7, 4, 8, 7, 7, 7, 7, 7, 7, 7, 4, 8, 7, 7, 7, 7, 3, 10, 7, 7, 7, 7, 7, 7, 7, 3, 8, 7, 7, 7, 7, 7, 7, 7, 4, 8, 7, 7, 7, 7, 7, 7, 7, 4, 10, 7, 7, 7, 7, 7, 7, 7, 5, 8, 7, 7, 7, 7, 7, 7, 7, 4, 8, 7, 7, 7, 7, 7, 7, 7, 4, 7, 7, 7, 7, 7, 7, 7, 4, 7, 7, 7, 7, 7, 7, 7, 7, 4, 7, 7, 7, 7, 7, 7, 7, 7, 4, 7, 8, 7, 7, 7, 7, 7, 7, 4, 10, 7, 7, 8, 7, 7, 7, 7, 4, 8, 7, 7, 7, 7, 7, 7, 7, 3, 8, 7, 7, 7, 7, 7, 7, 7, 8, 14, 12, 15, 10, 14, 11, 1, 11, 2, 26, 24, 17, 43, 13, 14, 1, 10, 3, 29, 43, 45, 47, 1, 7, 4, 21, 33, 25, 1, 9, 2, 40, 14, 37, 30, 29, 1, 10, 2, 26, 15, 1, 8, 2, 5, 10, 2, 1, 7, 5, 7, 7, 5, 5, 7, 7, 7, 7, 5, 6, 9, 11, 3, 10, 9, 2, 2, 7, 6, 5, 5, 6, 6, 5, 5, 7, 9, 11, 10, 12, 11, 5, 8, 11, 1, 11, 2, 29, 1, 10, 2, 5, 11, 10, 2, 2, 12, 12, 12, 2, 12, 10, 9, 9, 1, 8, 2, 24, 30, 30, 26, 34, 23, 18, 27, 11, 37, 8, 1, 8, 2, 5, 11, 3, 7, 1, 8, 2, 24, 10, 6, 7, 6, 6, 7, 7, 5, 7, 4, 6, 6, 4, 4, 4, 11, 8, 1, 5, 3, 29, 9, 22, 6, 1, 9, 3, 30, 29, 13, 12, 12, 9, 25, 34, 11, 31, 10, 11, 1, 11, 2, 44, 27, 28, 29, 37, 20, 11, 27, 37, 21, 18, 37, 41, 29, 28, 20, 18, 55, 1, 8, 5, 1, 42, 13, 30, 31, 37, 27, 9, 31, 32, 35, 25, 21, 17, 16, 33, 1, 11, 2, 27, 25, 44, 10, 1, 9, 2, 37, 33, 43, 39, 20, 20, 20, 1, 5, 2, 16, 30, 29, 17, 39, 20, 18, 22, 27, 19, 34, 24, 10, 29, 53, 29, 15, 17, 10, 17, 1, 7, 2, 22, 24, 41, 25, 42, 32, 21, 27, 14, 18, 28, 1, 9, 2, 21, 23, 11, 6, 22, 7, 1, 9, 2, 30, 24, 28, 25, 11, 5, 1, 9, 2, 31, 18, 6, 30, 7, 1, 7, 2, 35, 28, 25, 11, 17, 16, 1, 9, 2, 36, 18, 7, 12, 33, 30, 28, 29, 12, 31, 17, 10, 30, 1, 8, 4, 32, 37, 6, 19, 22, 34, 26, 19, 22, 20, 1, 7, 2, 36, 36, 19, 17, 11, 32, 30, 42, 1, 7, 2, 32, 35, 26, 30, 24, 9, 1, 6, 2, 2, 23, 38, 40, 30, 10, 29, 17, 35, 31, 27, 18, 25, 24, 23, 19, 1, 7, 2, 4, 31, 36, 31, 22, 18, 14, 28, 32, 26, 20, 14, 18, 20, 29, 22, 13, 33, 16, 21, 1, 7, 2, 36, 36, 19, 16, 17, 38, 15, 1, 9, 2, 24, 9, 36, 23, 24, 40, 19, 25, 1, 7, 4, 29, 37, 11, 1, 10, 2, 34, 43, 13, 7, 16, 1, 6, 2, 2, 30, 34, 42, 22, 22, 20, 25, 28, 17, 21, 21, 37, 44, 26, 11, 32, 9, 1, 10, 2, 37, 28, 41, 9, 5, 1, 7, 4, 32, 44, 26, 21, 17, 16, 28, 1, 7, 4, 22, 47, 23, 18, 14, 30, 1, 6, 3, 22, 39, 45, 13, 13, 33, 20, 1, 9, 2, 3, 28, 42, 35, 41, 23, 23, 22, 30, 30, 45, 41, 40, 17, 1, 7, 2, 2, 25, 46, 33, 19, 41, 9, 36, 24, 21, 14, 32, 22, 1, 11, 2, 3, 24, 43, 34, 21, 53, 28, 59, 33, 30, 31, 40, 34, 17, 30, 24, 46, 14, 17, 27, 23, 36, 23, 26, 41, 10, 62, 14, 10, 12, 10, 23, 20, 1, 7, 2, 2, 32, 30, 32, 33, 9, 24, 43, 39, 43, 31, 16, 36, 28, 27, 20, 42, 39, 9, 6, 28, 30, 23, 29, 17, 27, 21, 56, 21, 27, 14, 1, 7, 2, 2, 40, 32, 21, 16, 19, 26, 20, 38, 28, 30, 29, 20, 49, 29, 30, 35, 26, 17, 19, 1, 8, 2, 36, 39, 18, 27, 33, 49, 14, 21, 7, 13, 20, 22, 34, 32, 31, 49, 16, 12, 36, 23, 43, 1, 8, 2, 2, 38, 33, 20, 34, 33, 24, 11, 4, 16, 11, 36, 26, 10, 13, 24, 21, 23, 25, 36, 15, 18, 49, 1, 9, 2, 35, 27, 22, 23, 41, 21, 42, 12, 1, 11, 3, 27, 22, 34, 24, 6, 1, 9, 4, 38, 27, 44, 8, 8, 10, 5, 25, 56, 1, 6, 3, 33, 55, 40, 28, 32, 7, 28, 1, 7, 2, 26, 25, 11, 20, 9, 30, 46, 21, 24, 22, 28, 26, 19, 17, 1, 9, 2, 35, 42, 28, 14, 37, 40, 9, 26, 7, 30, 20, 1, 10, 2, 28, 20, 18, 20, 22, 1, 9, 4, 35, 18, 22, 15, 7, 11, 14, 22, 20, 21, 20, 18, 1, 10, 2, 26, 16, 25, 18, 19, 7, 5, 1, 10, 2, 6, 6, 6, 4, 9, 5, 1, 10, 2, 28, 35, 18, 11, 21, 30, 12, 27, 42, 16, 32, 22, 20, 11, 23, 17, 11, 1, 8, 3, 2, 7, 5, 3, 4, 2, 7, 5, 3, 4, 10, 6, 1, 7, 2, 5, 4, 6, 8, 7, 7, 7, 5, 26, 18, 7, 8, 9, 1, 6, 2, 21, 38, 29, 22, 19, 18, 32, 25, 34, 38, 15, 1, 8, 2, 25, 24, 22, 9, 10, 32, 1, 7, 2, 5, 8, 23, 4, 16, 44, 8, 32, 27, 15, 9, 6, 20, 15, 21, 33, 4, 11, 16, 14, 16, 20, 9, 31, 1, 9, 13, 9, 15, 15, 7, 7, 6, 4, 9, 7, 8, 9, 8, 4, 7, 2, 2, 2, 2, 2, 2, 2, 2, 2, 2, 2, 2, 2, 2, 2, 2, 8, 1, 9, 2, 2, 27, 23, 27, 23, 21, 21, 28, 25, 23, 14, 32, 25, 11, 28, 17, 27, 39, 30, 38, 20, 1, 8, 3, 3, 3, 7, 10, 6, 10, 6, 5, 2, 9, 27, 17, 29, 26, 45, 27, 17, 14, 9, 5, 20, 18, 5, 8, 20, 36, 29, 35, 24, 51, 19, 18, 13, 9, 21, 43, 41, 39, 21, 1, 8, 2, 2, 29, 44, 40, 32, 40, 34, 23, 18, 37, 39, 41, 36, 29, 11, 1, 8, 2, 37, 39, 7, 27, 36, 21, 12, 13, 1, 8, 2, 37, 35, 7, 27, 15, 34, 26, 28, 46, 44, 18, 19, 1, 11, 3, 37, 37, 36, 13, 29, 13, 1, 9, 2, 34, 36, 30, 13, 24, 20, 31, 33, 38, 1, 9, 2, 4, 27, 15, 31, 10, 16, 29, 21, 15, 24, 29, 20, 19, 12, 7, 28, 37, 8, 16, 14, 12, 33, 19, 24, 12, 18, 12, 6, 18, 27, 31, 12, 33, 8, 1, 9, 2, 30, 19, 34, 13, 5, 1, 10, 2, 31, 54, 30, 40, 27, 23, 6, 1, 9, 21, 13, 7, 7, 4, 1, 23, 4, 2, 32, 50, 4, 2, 27, 34, 4, 1, 39, 16, 1, 8, 2, 7, 8, 3, 6, 4, 7, 7, 11, 1, 7, 2, 7, 8, 3, 6, 4, 4, 7, 13, 1, 11, 2, 31, 33, 33, 20, 11, 13, 6, 1, 6, 2, 23, 30, 50, 22, 1, 9, 5, 21, 21, 52, 14, 22, 29, 1, 7, 3, 28, 37, 40, 22, 46, 32, 38, 31, 17, 1, 11, 5, 33, 24, 32, 27, 29, 28, 38, 36, 30, 1, 10, 4, 11, 5, 1, 10, 4, 11, 23, 4, 1, 10, 4, 30, 36, 25, 41, 1, 11, 2, 23, 28, 3, 1, 7, 4, 20, 29, 10, 11, 7, 10, 20, 51, 41, 32, 1, 10, 5, 23, 2, 10, 13, 4, 1, 12, 4, 21, 23, 1, 10, 4, 3, 12, 7, 13, 10, 9, 9, 8, 9, 8, 8, 7, 10, 9, 8, 10, 3, 8, 8, 3, 4, 9, 3, 3, 1, 8, 4, 14, 1, 9, 6, 7, 6, 5, 5, 5, 5, 6, 5, 7, 10, 11, 7, 10, 9, 6, 1, 7, 7, 6, 5, 6, 7, 7, 5, 5, 6, 6, 6, 6, 12, 2, 9, 11, 1, 7, 4, 4, 6, 8, 8, 11, 7, 7, 7, 7, 7, 7, 7, 7, 7, 33, 31, 10, 9, 7, 7, 7, 7, 7, 7, 7, 7, 8, 7, 7, 7, 7, 8, 31, 9, 2, 12, 12, 12, 13, 8, 2, 12, 5, 9, 4, 8, 5, 10, 4, 1, 12, 4, 22, 27, 25, 2, 38, 36, 1, 10, 4, 28, 21, 18, 31, 17, 21, 9, 33, 28, 27, 11, 9, 17, 12, 32, 22, 20, 9, 11, 15, 29, 14, 17, 14, 21, 45, 12, 7, 18, 35, 11, 8, 22, 12, 34, 22, 14, 11, 32, 9, 20, 23, 19, 1, 12, 2, 35, 32, 32, 38, 44, 20, 14, 1, 9, 2, 5, 11, 7, 6, 4, 7, 4, 7, 7, 4, 7, 4, 4, 7, 8, 7, 7, 8, 8, 4, 8, 4, 4, 1, 10, 2, 6, 7, 4, 4, 5, 5, 4, 4, 4, 3, 4, 5, 4, 4, 4, 5, 4, 6, 4, 5, 1, 11, 2, 21, 31, 3, 1, 11, 2, 21, 8, 3, 1, 11, 2, 32, 43, 26, 30, 16, 49, 1, 6, 2, 4, 15, 8, 2, 9, 8, 9, 9, 8, 8, 8, 8, 8, 9, 2, 8, 10, 8, 8, 8, 8, 8, 8, 8, 8, 2, 8, 8, 8, 8, 8, 10, 8, 9, 9, 9, 1, 6, 2, 4, 15, 9, 2, 8, 8, 8, 8, 8, 10, 8, 8, 8, 8, 8, 9, 9, 8, 8, 8, 8, 9, 9, 8, 9, 8, 8, 8, 2, 8, 8, 8, 8, 8, 8, 8, 8, 8, 8, 8, 9, 8, 8, 8, 8, 9, 9, 8, 8, 8, 8, 8, 8, 2, 8, 8, 8, 8, 8, 8, 8, 8, 8, 8, 8, 8, 8, 9, 8, 8, 8, 9, 8, 8, 8, 8, 8, 8, 1, 6, 2, 4, 4, 2, 5, 5, 4, 10, 2, 2, 4, 6, 4, 4, 4, 2, 4, 5, 5, 5, 6, 1, 6, 2, 5, 3, 2, 4, 4, 5, 4, 4, 5, 4, 4, 10, 8, 2, 4, 4, 5, 5, 4, 4, 4, 4, 5, 3, 5, 2, 4, 5, 4, 4, 4, 4, 5, 4, 4, 4, 4, 1, 7, 2, 13, 10, 19, 7, 10, 10, 7, 10, 25, 7, 17, 38, 7, 29, 13, 31, 18, 1, 10, 2, 6, 9, 13, 5, 13, 5, 12, 11, 11, 11, 11, 12, 11, 12, 12, 1, 11, 2, 23, 2, 21, 9, 3, 1, 10, 2, 2, 34, 32, 37, 40, 27, 36, 23, 34, 32, 46, 36, 23, 44, 13, 35, 109, 93, 1, 10, 2, 25, 2, 16, 5, 12, 14, 8, 4, 7, 1, 10, 2, 34, 36, 24, 1, 11, 2, 20, 6, 1, 8, 2, 4, 6, 2, 7, 7, 7, 4, 5, 4, 14, 5, 9, 8, 11, 8, 8, 8, 8, 8, 11, 8, 11, 8, 2, 7, 8, 5, 7, 4, 13, 2, 8, 9, 8, 8, 9, 11, 8, 8, 11, 11, 8, 11, 1, 10, 4, 33, 28, 32, 17, 15, 1, 7, 2, 6, 6, 3, 14, 3, 14, 1, 7, 2, 6, 6, 3, 14, 3, 14, 1, 10, 2, 20, 2, 20, 3, 1, 12, 2, 17, 3, 1, 10, 2, 21, 2, 5, 3, 1, 7, 2, 28, 1, 10, 2, 18, 12, 3, 1, 10, 2, 20, 7, 3, 1, 9, 2, 20, 14, 3, 1, 10, 3, 27, 23, 28, 37, 17, 26, 23, 17, 21, 25, 13, 18, 19, 18, 18, 20, 20, 29, 22, 8, 16, 1, 8, 3, 52, 1, 11, 4, 29, 19, 26, 26, 18, 27, 39, 22, 26, 29, 17, 11, 7, 19, 15, 30, 15, 6, 16, 7, 11, 16, 14, 30, 32, 14, 1, 14, 2, 3, 40, 19, 19, 13, 36, 41, 7, 28, 22, 22, 17, 34, 10, 22, 19, 29, 24, 1, 10, 3, 21, 52, 22, 1, 12, 3, 21, 10, 4, 4, 3, 3, 10, 10, 3, 4, 4, 4, 1, 8, 3, 19, 2, 19, 8, 3, 1, 10, 3, 3, 11, 9, 2, 2, 4, 6, 5, 6, 6, 6, 2, 5, 5, 6, 5, 6, 2, 5, 5, 6, 6, 5, 4, 3, 3, 3, 3, 3, 4, 2, 2, 4, 5, 6, 6, 7, 6, 2, 5, 7, 6, 5, 5, 2, 6, 6, 5, 6, 5, 3, 3, 5, 3, 4, 4, 4, 1, 7, 3, 4, 12, 2, 5, 4, 8, 4, 5, 4, 4, 2, 8, 8, 4, 5, 9, 4, 6, 5, 1, 11, 2, 35, 33, 11, 20, 25, 22, 24, 26, 15, 12, 42, 36, 11, 22, 12, 18, 10, 11, 37, 18, 43, 12, 30, 37, 16, 22, 16, 10, 10, 34, 37, 21, 26, 27, 30, 18, 18, 24, 12, 32, 13, 24, 1, 8, 2, 3, 39, 45, 7, 30, 29, 25, 14, 7, 32, 42, 17, 7, 10, 25, 15, 19, 16, 31, 22, 12, 20, 14, 12, 1, 9, 2, 29, 1, 10, 2, 2, 36, 20, 34, 27, 24, 26, 15, 25, 29, 14, 6, 18, 17, 2, 46, 40, 1, 8, 2, 24, 1, 12, 2, 27, 40, 37, 19, 21, 45, 36, 37, 2, 91, 105, 1, 9, 2, 16, 14, 3, 1, 10, 2, 2, 30, 25, 9, 31, 41, 36, 49, 42, 32, 28, 24, 2, 83, 79, 18, 11, 18, 19, 1, 9, 2, 31, 3, 3, 1, 8, 2, 6, 6, 6, 1, 11, 2, 4, 13, 2, 2, 13, 7, 3, 1, 12, 2, 17, 3, 1, 8, 2, 33, 44, 26, 38, 1, 11, 2, 5, 12, 2, 12, 5, 12, 1, 8, 2, 26, 1, 8, 2, 5, 12, 8, 11, 8, 7, 8, 10, 5, 8, 1, 10, 2, 18, 38, 25, 25, 13, 10, 26, 1, 8, 2, 6, 4, 5, 6, 9, 1, 9, 2, 17, 2, 13, 7, 3, 1, 8, 2, 35, 43, 22, 25, 8, 19, 34, 35, 31, 1, 7, 2, 16, 7, 18, 21, 33, 24, 16, 25, 7, 19, 9, 12, 22, 22, 25, 15, 9, 23, 7, 11, 32, 8, 19, 8, 16, 22, 10, 20, 16, 16, 12, 19, 16, 13, 33, 32, 35, 1, 5, 2, 27, 34, 27, 29, 16, 10, 29, 1, 7, 4, 35, 26, 37, 27, 27, 29, 1, 8, 2, 26, 6, 18, 30, 37, 12, 18, 8, 1, 6, 2, 26, 33, 9, 21, 19, 16, 21, 25, 18, 1, 9, 2, 30, 43, 40, 21, 18, 34, 43, 1, 9, 2, 24, 32, 31, 1, 7, 2, 10, 4, 4, 23, 5, 6, 6, 6, 6, 7, 7, 6, 6, 1, 8, 3, 34, 26, 19, 30, 44, 21, 6, 33, 37, 1, 9, 2, 28, 40, 35, 32, 34, 23, 43, 22, 11, 10, 39, 1, 8, 4, 35, 15, 23, 31, 11, 20, 13, 21, 29, 1, 8, 2, 4, 31, 45, 13, 33, 1, 37, 39, 29, 19, 15, 16, 31, 42, 20, 24, 26, 15, 5, 6, 42, 1, 36, 19, 12, 1, 11, 2, 36, 39, 30, 42, 42, 33, 20, 29, 26, 29, 20, 20, 43, 7, 1, 8, 2, 24, 23, 14, 29, 1, 9, 2, 27, 28, 36, 75, 20, 25, 12, 11, 21, 19, 1, 7, 2, 35, 35, 20, 19, 29, 9, 1, 9, 3, 30, 37, 28, 19, 14, 36, 1, 9, 2, 36, 44, 44, 10, 31, 39, 21, 12, 15, 35, 24, 21, 24, 1, 10, 2, 33, 27, 13, 21, 14, 24, 19, 1, 10, 2, 2, 37, 46, 29, 34, 10, 29, 34, 34, 16, 10, 31, 12, 38, 25, 29, 20, 25, 15, 11, 18, 38, 24, 33, 24, 30, 6, 9, 1, 7, 2, 32, 14, 9, 19, 20, 30, 6, 1, 10, 2, 30, 39, 12, 14, 25, 16, 36, 8, 27, 1, 6, 2, 22, 37, 29, 36, 14, 23, 37, 27, 35, 36, 1, 7, 2, 21, 25, 22, 11, 37, 27, 36, 1, 7, 3, 34, 30, 21, 48, 9, 1, 8, 2, 27, 30, 5, 26, 16, 27, 13, 6, 1, 9, 2, 28, 6, 16, 26, 41, 11, 12, 34, 22, 27, 10, 15, 15, 1, 8, 2, 33, 48, 28, 13, 28, 28, 31, 19, 1, 7, 2, 41, 18, 27, 1, 7, 2, 16, 31, 16, 7, 1, 10, 2, 28, 26, 28, 52, 56, 30, 1, 10, 2, 33, 14, 5, 6, 25, 1, 8, 2, 12, 14, 2, 21, 15, 2, 10, 23, 7, 1, 10, 2, 39, 31, 28, 51, 17, 29, 40, 35, 23, 25, 29, 10, 1, 10, 4, 6, 19, 14, 30, 24, 19, 8, 19, 1, 10, 2, 31, 52, 10, 17, 23, 1, 10, 2, 2, 36, 55, 39, 9, 33, 21, 31, 22, 28, 19, 28, 56, 19, 35, 15, 29, 1, 7, 2, 17, 12, 12, 21, 40, 37, 1, 8, 2, 22, 31, 18, 32, 28, 10, 41, 36, 1, 10, 2, 32, 36, 36, 17, 34, 19, 13, 24, 36, 23, 30, 21, 20, 22, 1, 8, 2, 24, 43, 41, 8, 24, 6, 42, 21, 30, 1, 8, 2, 21, 16, 30, 1, 7, 2, 24, 30, 9, 25, 1, 9, 2, 24, 21, 45, 28, 7, 35, 1, 8, 2, 4, 38, 35, 29, 32, 32, 9, 4, 35, 31, 14, 18, 34, 24, 21, 12, 27, 26, 21, 8, 39, 36, 26, 1, 10, 2, 44, 9, 15, 13, 16, 20, 22, 25, 4, 1]\n",
            " - f1: 90.09\n",
            "              precision    recall  f1-score   support\n",
            "\n",
            "         LOC     0.9288    0.9288    0.9288      1799\n",
            "        MISC     0.8790    0.8054    0.8406       920\n",
            "         ORG     0.8447    0.8580    0.8513      1331\n",
            "         PER     0.9288    0.9491    0.9389      1828\n",
            "           d     0.0000    0.0000    0.0000         0\n",
            "\n",
            "   micro avg     0.9021    0.8998    0.9009      5878\n",
            "   macro avg     0.7163    0.7083    0.7119      5878\n",
            "weighted avg     0.9020    0.8998    0.9006      5878\n",
            "\n",
            "Epoch 10 took 381.36203122138977 seconds\n",
            "469/469 [==============================] - 381s 813ms/step - loss: 0.0046 - accuracy: 0.9986\n",
            "Epoch 11/100\n",
            "109/109 [==============================] - 34s 311ms/step\n",
            "[11, 2, 35, 37, 38, 24, 30, 34, 39, 41, 25, 34, 31, 28, 22, 9, 1, 7, 2, 14, 12, 13, 7, 30, 18, 35, 25, 25, 27, 26, 1, 6, 2, 6, 9, 13, 4, 8, 11, 8, 9, 10, 2, 3, 1, 5, 6, 12, 4, 4, 4, 9, 2, 10, 2, 12, 10, 2, 11, 1, 11, 12, 8, 9, 12, 8, 1, 11, 6, 4, 8, 8, 8, 1, 8, 11, 8, 12, 1, 8, 2, 17, 40, 20, 34, 26, 28, 20, 28, 18, 14, 1, 6, 2, 4, 5, 13, 2, 1, 9, 2, 17, 2, 13, 7, 3, 1, 10, 2, 38, 29, 20, 17, 29, 1, 12, 3, 26, 23, 37, 7, 7, 4, 10, 39, 16, 28, 31, 19, 1, 8, 3, 32, 15, 19, 18, 1, 9, 2, 5, 5, 8, 8, 10, 15, 10, 7, 7, 7, 7, 7, 7, 7, 7, 7, 1, 9, 2, 4, 7, 4, 4, 4, 4, 4, 4, 13, 9, 14, 5, 6, 7, 6, 7, 6, 7, 6, 7, 1, 10, 3, 21, 6, 14, 6, 20, 14, 16, 17, 16, 6, 20, 16, 6, 15, 16, 17, 45, 37, 42, 20, 1, 7, 11, 7, 13, 1, 11, 8, 7, 13, 2, 1, 43, 1, 10, 3, 3, 11, 9, 2, 2, 4, 6, 5, 6, 6, 6, 2, 5, 5, 6, 5, 6, 2, 5, 5, 6, 6, 5, 4, 3, 3, 3, 4, 3, 3, 2, 2, 4, 5, 5, 5, 6, 5, 2, 5, 7, 5, 5, 5, 2, 6, 6, 5, 6, 5, 3, 3, 4, 4, 3, 5, 4, 1, 7, 3, 4, 12, 2, 5, 4, 5, 4, 2, 6, 4, 4, 4, 5, 5, 1, 12, 2, 3, 28, 36, 23, 11, 34, 8, 32, 32, 36, 27, 22, 37, 31, 19, 18, 13, 46, 21, 14, 12, 21, 12, 16, 18, 20, 8, 13, 8, 7, 8, 6, 10, 8, 14, 13, 10, 29, 14, 12, 14, 1, 6, 2, 31, 11, 15, 26, 34, 21, 33, 21, 9, 1, 9, 4, 3, 11, 10, 9, 3, 3, 12, 14, 13, 11, 14, 12, 2, 1, 13, 4, 35, 21, 22, 19, 19, 9, 15, 6, 8, 22, 16, 11, 15, 11, 13, 35, 45, 12, 9, 39, 14, 25, 29, 1, 13, 2, 44, 29, 12, 1, 11, 2, 2, 33, 41, 34, 14, 27, 12, 20, 15, 34, 16, 34, 1, 7, 2, 5, 7, 5, 8, 7, 7, 7, 7, 7, 7, 4, 10, 7, 7, 7, 7, 7, 7, 7, 5, 8, 7, 7, 7, 7, 7, 7, 7, 4, 8, 7, 7, 7, 7, 7, 7, 7, 4, 8, 7, 7, 7, 7, 3, 10, 7, 7, 7, 7, 7, 7, 7, 3, 8, 7, 7, 7, 7, 7, 7, 7, 4, 8, 7, 7, 7, 7, 7, 7, 7, 4, 10, 7, 7, 7, 7, 7, 7, 7, 5, 8, 7, 7, 7, 7, 7, 7, 7, 4, 8, 7, 7, 7, 7, 7, 7, 7, 4, 7, 7, 7, 7, 7, 7, 7, 4, 7, 7, 7, 7, 7, 7, 7, 7, 4, 7, 7, 7, 7, 7, 7, 7, 7, 4, 7, 8, 7, 7, 7, 7, 7, 7, 4, 10, 7, 7, 8, 7, 7, 7, 7, 4, 8, 7, 7, 7, 7, 7, 7, 7, 3, 8, 7, 7, 7, 7, 7, 7, 7, 8, 14, 12, 15, 10, 14, 11, 1, 11, 2, 26, 24, 17, 43, 13, 14, 1, 10, 3, 29, 43, 45, 47, 1, 7, 4, 21, 33, 25, 1, 9, 2, 40, 14, 37, 30, 29, 1, 10, 2, 26, 15, 1, 8, 2, 5, 10, 2, 1, 7, 5, 7, 7, 5, 5, 7, 7, 7, 7, 5, 6, 9, 11, 3, 10, 9, 2, 2, 7, 6, 5, 5, 6, 6, 5, 5, 7, 9, 11, 10, 12, 11, 5, 8, 11, 1, 11, 2, 29, 1, 10, 2, 5, 11, 10, 2, 2, 12, 12, 12, 2, 12, 10, 9, 9, 1, 8, 2, 24, 30, 30, 26, 34, 23, 18, 27, 11, 37, 8, 1, 8, 2, 5, 11, 3, 7, 1, 8, 2, 24, 10, 6, 7, 6, 6, 7, 7, 5, 7, 4, 6, 6, 4, 4, 4, 11, 8, 1, 5, 3, 29, 9, 22, 6, 1, 9, 3, 30, 29, 13, 12, 12, 9, 25, 34, 11, 31, 10, 11, 1, 11, 2, 44, 27, 28, 29, 37, 20, 11, 27, 37, 21, 18, 37, 41, 29, 28, 20, 18, 55, 1, 8, 5, 1, 42, 13, 30, 31, 37, 27, 9, 31, 32, 35, 25, 21, 17, 16, 33, 1, 11, 2, 27, 25, 44, 10, 1, 9, 2, 37, 33, 43, 39, 20, 20, 20, 1, 5, 2, 16, 30, 29, 17, 39, 20, 18, 22, 27, 19, 34, 24, 10, 29, 53, 29, 15, 17, 10, 17, 1, 7, 2, 22, 24, 41, 25, 42, 32, 21, 27, 14, 18, 28, 1, 9, 2, 21, 23, 11, 6, 22, 7, 1, 9, 2, 30, 24, 28, 25, 11, 5, 1, 9, 2, 31, 18, 6, 30, 7, 1, 7, 2, 35, 28, 25, 11, 17, 16, 1, 9, 2, 36, 18, 7, 12, 33, 30, 28, 29, 12, 31, 17, 10, 30, 1, 8, 4, 32, 37, 6, 19, 22, 34, 26, 19, 22, 20, 1, 7, 2, 36, 36, 19, 17, 11, 32, 30, 42, 1, 7, 2, 32, 35, 26, 30, 24, 9, 1, 6, 2, 2, 23, 38, 40, 30, 10, 29, 17, 35, 31, 27, 18, 25, 24, 23, 19, 1, 7, 2, 4, 31, 36, 31, 22, 18, 14, 28, 32, 26, 20, 14, 18, 20, 29, 22, 13, 33, 16, 21, 1, 7, 2, 36, 36, 19, 16, 17, 38, 15, 1, 9, 2, 24, 9, 36, 23, 24, 40, 19, 25, 1, 7, 4, 29, 37, 11, 1, 10, 2, 34, 43, 13, 7, 16, 1, 6, 2, 2, 30, 34, 42, 22, 22, 20, 25, 28, 17, 21, 21, 37, 44, 26, 11, 32, 9, 1, 10, 2, 37, 28, 41, 9, 5, 1, 7, 4, 32, 44, 26, 21, 17, 16, 28, 1, 7, 4, 22, 47, 23, 18, 14, 30, 1, 6, 3, 22, 39, 45, 13, 13, 33, 20, 1, 9, 2, 3, 28, 42, 35, 41, 23, 23, 22, 30, 30, 45, 41, 40, 17, 1, 7, 2, 2, 25, 46, 33, 19, 41, 9, 36, 24, 21, 14, 32, 22, 1, 11, 2, 3, 24, 43, 34, 21, 53, 28, 59, 33, 30, 31, 40, 34, 17, 30, 24, 46, 14, 17, 27, 23, 36, 23, 26, 41, 10, 62, 14, 10, 12, 10, 23, 20, 1, 7, 2, 2, 32, 30, 32, 33, 9, 24, 43, 39, 43, 31, 16, 36, 28, 27, 20, 42, 39, 9, 6, 28, 30, 23, 29, 17, 27, 21, 56, 21, 27, 14, 1, 7, 2, 2, 40, 32, 21, 16, 19, 26, 20, 38, 28, 30, 29, 20, 49, 29, 30, 35, 26, 17, 19, 1, 8, 2, 36, 39, 18, 27, 33, 49, 14, 21, 7, 13, 20, 22, 34, 32, 31, 49, 16, 12, 36, 23, 43, 1, 8, 2, 2, 38, 33, 20, 34, 33, 24, 11, 4, 16, 11, 36, 26, 10, 13, 24, 21, 23, 25, 36, 15, 18, 49, 1, 9, 2, 35, 27, 22, 23, 41, 21, 42, 12, 1, 11, 3, 27, 22, 34, 24, 6, 1, 9, 4, 38, 27, 44, 8, 8, 10, 5, 25, 56, 1, 6, 3, 33, 55, 40, 28, 32, 7, 28, 1, 7, 2, 26, 25, 11, 20, 9, 30, 46, 21, 24, 22, 28, 26, 19, 17, 1, 9, 2, 35, 42, 28, 14, 37, 40, 9, 26, 7, 30, 20, 1, 10, 2, 28, 20, 18, 20, 22, 1, 9, 4, 35, 18, 22, 15, 7, 11, 14, 22, 20, 21, 20, 18, 1, 10, 2, 26, 16, 25, 18, 19, 7, 5, 1, 10, 2, 6, 6, 6, 4, 9, 5, 1, 10, 2, 28, 35, 18, 11, 21, 30, 12, 27, 42, 16, 32, 22, 20, 11, 23, 17, 11, 1, 8, 3, 2, 7, 5, 3, 4, 2, 7, 5, 3, 4, 10, 6, 1, 7, 2, 5, 4, 6, 8, 7, 7, 7, 5, 26, 18, 7, 8, 9, 1, 6, 2, 21, 38, 29, 22, 19, 18, 32, 25, 34, 38, 15, 1, 8, 2, 25, 24, 22, 9, 10, 32, 1, 7, 2, 5, 8, 23, 4, 16, 44, 8, 32, 27, 15, 9, 6, 20, 15, 21, 33, 4, 11, 16, 14, 16, 20, 9, 31, 1, 9, 13, 9, 15, 15, 7, 7, 6, 4, 9, 7, 8, 9, 8, 4, 7, 2, 2, 2, 2, 2, 2, 2, 2, 2, 2, 2, 2, 2, 2, 2, 2, 8, 1, 9, 2, 2, 27, 23, 27, 23, 21, 21, 28, 25, 23, 14, 32, 25, 11, 28, 17, 27, 39, 30, 38, 20, 1, 8, 3, 3, 3, 7, 10, 6, 10, 6, 5, 2, 9, 27, 17, 29, 26, 45, 27, 17, 14, 9, 5, 20, 18, 5, 8, 20, 36, 29, 35, 24, 51, 19, 18, 13, 9, 21, 43, 41, 39, 21, 1, 8, 2, 2, 29, 44, 40, 32, 40, 34, 23, 18, 37, 39, 41, 36, 29, 11, 1, 8, 2, 37, 39, 7, 27, 36, 21, 12, 13, 1, 8, 2, 37, 35, 7, 27, 15, 34, 26, 28, 46, 44, 18, 19, 1, 11, 3, 37, 37, 36, 13, 29, 13, 1, 9, 2, 34, 36, 30, 13, 24, 20, 31, 33, 38, 1, 9, 2, 4, 27, 15, 31, 10, 16, 29, 21, 15, 24, 29, 20, 19, 12, 7, 28, 37, 8, 16, 14, 12, 33, 19, 24, 12, 18, 12, 6, 18, 27, 31, 12, 33, 8, 1, 9, 2, 30, 19, 34, 13, 5, 1, 10, 2, 31, 54, 30, 40, 27, 23, 6, 1, 9, 21, 13, 7, 7, 4, 1, 23, 4, 2, 32, 50, 4, 2, 27, 34, 4, 1, 39, 16, 1, 8, 2, 7, 8, 3, 6, 4, 7, 7, 11, 1, 7, 2, 7, 8, 3, 6, 4, 4, 7, 13, 1, 11, 2, 31, 33, 33, 20, 11, 13, 6, 1, 6, 2, 23, 30, 50, 22, 1, 9, 5, 21, 21, 52, 14, 22, 29, 1, 7, 3, 28, 37, 40, 22, 46, 32, 38, 31, 17, 1, 11, 5, 33, 24, 32, 27, 29, 28, 38, 36, 30, 1, 10, 4, 11, 5, 1, 10, 4, 11, 23, 4, 1, 10, 4, 30, 36, 25, 41, 1, 11, 2, 23, 28, 3, 1, 7, 4, 20, 29, 10, 11, 7, 10, 20, 51, 41, 32, 1, 10, 5, 23, 2, 10, 13, 4, 1, 12, 4, 21, 23, 1, 10, 4, 3, 12, 7, 13, 10, 9, 9, 8, 9, 8, 8, 7, 10, 9, 8, 10, 3, 8, 8, 3, 4, 9, 3, 3, 1, 8, 4, 14, 1, 9, 6, 7, 6, 5, 5, 5, 5, 6, 5, 7, 10, 11, 7, 10, 9, 6, 1, 7, 7, 6, 5, 6, 7, 7, 5, 5, 6, 6, 6, 6, 12, 2, 9, 11, 1, 7, 4, 4, 6, 8, 8, 11, 7, 7, 7, 7, 7, 7, 7, 7, 7, 33, 31, 10, 9, 7, 7, 7, 7, 7, 7, 7, 7, 8, 7, 7, 7, 7, 8, 31, 9, 2, 12, 12, 12, 13, 8, 2, 12, 5, 9, 4, 8, 5, 10, 4, 1, 12, 4, 22, 27, 25, 2, 38, 36, 1, 10, 4, 28, 21, 18, 31, 17, 21, 9, 33, 28, 27, 11, 9, 17, 12, 32, 22, 20, 9, 11, 15, 29, 14, 17, 14, 21, 45, 12, 7, 18, 35, 11, 8, 22, 12, 34, 22, 14, 11, 32, 9, 20, 23, 19, 1, 12, 2, 35, 32, 32, 38, 44, 20, 14, 1, 9, 2, 5, 11, 7, 6, 4, 7, 4, 7, 7, 4, 7, 4, 4, 7, 8, 7, 7, 8, 8, 4, 8, 4, 4, 1, 10, 2, 6, 7, 4, 4, 5, 5, 4, 4, 4, 3, 4, 5, 4, 4, 4, 5, 4, 6, 4, 5, 1, 11, 2, 21, 31, 3, 1, 11, 2, 21, 8, 3, 1, 11, 2, 32, 43, 26, 30, 16, 49, 1, 6, 2, 4, 15, 8, 2, 9, 8, 9, 9, 8, 8, 8, 8, 8, 9, 2, 8, 10, 8, 8, 8, 8, 8, 8, 8, 8, 2, 8, 8, 8, 8, 8, 10, 8, 9, 9, 9, 1, 6, 2, 4, 15, 9, 2, 8, 8, 8, 8, 8, 10, 8, 8, 8, 8, 8, 9, 9, 8, 8, 8, 8, 9, 9, 8, 9, 8, 8, 8, 2, 8, 8, 8, 8, 8, 8, 8, 8, 8, 8, 8, 9, 8, 8, 8, 8, 9, 9, 8, 8, 8, 8, 8, 8, 2, 8, 8, 8, 8, 8, 8, 8, 8, 8, 8, 8, 8, 8, 9, 8, 8, 8, 9, 8, 8, 8, 8, 8, 8, 1, 6, 2, 4, 4, 2, 5, 5, 4, 10, 2, 2, 4, 6, 4, 4, 4, 2, 4, 5, 5, 5, 6, 1, 6, 2, 5, 3, 2, 4, 4, 5, 4, 4, 5, 4, 4, 10, 8, 2, 4, 4, 5, 5, 4, 4, 4, 4, 5, 3, 5, 2, 4, 5, 4, 4, 4, 4, 5, 4, 4, 4, 4, 1, 7, 2, 13, 10, 19, 7, 10, 10, 7, 10, 25, 7, 17, 38, 7, 29, 13, 31, 18, 1, 10, 2, 6, 9, 13, 5, 13, 5, 12, 11, 11, 11, 11, 12, 11, 12, 12, 1, 11, 2, 23, 2, 21, 9, 3, 1, 10, 2, 2, 34, 32, 37, 40, 27, 36, 23, 34, 32, 46, 36, 23, 44, 13, 35, 109, 93, 1, 10, 2, 25, 2, 16, 5, 12, 14, 8, 4, 7, 1, 10, 2, 34, 36, 24, 1, 11, 2, 20, 6, 1, 8, 2, 4, 6, 2, 7, 7, 7, 4, 5, 4, 14, 5, 9, 8, 11, 8, 8, 8, 8, 8, 11, 8, 11, 8, 2, 7, 8, 5, 7, 4, 13, 2, 8, 9, 8, 8, 9, 11, 8, 8, 11, 11, 8, 11, 1, 10, 4, 33, 28, 32, 17, 15, 1, 7, 2, 6, 6, 3, 14, 3, 14, 1, 7, 2, 6, 6, 3, 14, 3, 14, 1, 10, 2, 20, 2, 20, 3, 1, 12, 2, 17, 3, 1, 10, 2, 21, 2, 5, 3, 1, 7, 2, 28, 1, 10, 2, 18, 12, 3, 1, 10, 2, 20, 7, 3, 1, 9, 2, 20, 14, 3, 1, 10, 3, 27, 23, 28, 37, 17, 26, 23, 17, 21, 25, 13, 18, 19, 18, 18, 20, 20, 29, 22, 8, 16, 1, 8, 3, 52, 1, 11, 4, 29, 19, 26, 26, 18, 27, 39, 22, 26, 29, 17, 11, 7, 19, 15, 30, 15, 6, 16, 7, 11, 16, 14, 30, 32, 14, 1, 14, 2, 3, 40, 19, 19, 13, 36, 41, 7, 28, 22, 22, 17, 34, 10, 22, 19, 29, 24, 1, 10, 3, 21, 52, 22, 1, 12, 3, 21, 10, 4, 4, 3, 3, 10, 10, 3, 4, 4, 4, 1, 8, 3, 19, 2, 19, 8, 3, 1, 10, 3, 3, 11, 9, 2, 2, 4, 6, 5, 6, 6, 6, 2, 5, 5, 6, 5, 6, 2, 5, 5, 6, 6, 5, 4, 3, 3, 3, 3, 3, 4, 2, 2, 4, 5, 6, 6, 7, 6, 2, 5, 7, 6, 5, 5, 2, 6, 6, 5, 6, 5, 3, 3, 5, 3, 4, 4, 4, 1, 7, 3, 4, 12, 2, 5, 4, 8, 4, 5, 4, 4, 2, 8, 8, 4, 5, 9, 4, 6, 5, 1, 11, 2, 35, 33, 11, 20, 25, 22, 24, 26, 15, 12, 42, 36, 11, 22, 12, 18, 10, 11, 37, 18, 43, 12, 30, 37, 16, 22, 16, 10, 10, 34, 37, 21, 26, 27, 30, 18, 18, 24, 12, 32, 13, 24, 1, 8, 2, 3, 39, 45, 7, 30, 29, 25, 14, 7, 32, 42, 17, 7, 10, 25, 15, 19, 16, 31, 22, 12, 20, 14, 12, 1, 9, 2, 29, 1, 10, 2, 2, 36, 20, 34, 27, 24, 26, 15, 25, 29, 14, 6, 18, 17, 2, 46, 40, 1, 8, 2, 24, 1, 12, 2, 27, 40, 37, 19, 21, 45, 36, 37, 2, 91, 105, 1, 9, 2, 16, 14, 3, 1, 10, 2, 2, 30, 25, 9, 31, 41, 36, 49, 42, 32, 28, 24, 2, 83, 79, 18, 11, 18, 19, 1, 9, 2, 31, 3, 3, 1, 8, 2, 6, 6, 6, 1, 11, 2, 4, 13, 2, 2, 13, 7, 3, 1, 12, 2, 17, 3, 1, 8, 2, 33, 44, 26, 38, 1, 11, 2, 5, 12, 2, 12, 5, 12, 1, 8, 2, 26, 1, 8, 2, 5, 12, 8, 11, 8, 7, 8, 10, 5, 8, 1, 10, 2, 18, 38, 25, 25, 13, 10, 26, 1, 8, 2, 6, 4, 5, 6, 9, 1, 9, 2, 17, 2, 13, 7, 3, 1, 8, 2, 35, 43, 22, 25, 8, 19, 34, 35, 31, 1, 7, 2, 16, 7, 18, 21, 33, 24, 16, 25, 7, 19, 9, 12, 22, 22, 25, 15, 9, 23, 7, 11, 32, 8, 19, 8, 16, 22, 10, 20, 16, 16, 12, 19, 16, 13, 33, 32, 35, 1, 5, 2, 27, 34, 27, 29, 16, 10, 29, 1, 7, 4, 35, 26, 37, 27, 27, 29, 1, 8, 2, 26, 6, 18, 30, 37, 12, 18, 8, 1, 6, 2, 26, 33, 9, 21, 19, 16, 21, 25, 18, 1, 9, 2, 30, 43, 40, 21, 18, 34, 43, 1, 9, 2, 24, 32, 31, 1, 7, 2, 10, 4, 4, 23, 5, 6, 6, 6, 6, 7, 7, 6, 6, 1, 8, 3, 34, 26, 19, 30, 44, 21, 6, 33, 37, 1, 9, 2, 28, 40, 35, 32, 34, 23, 43, 22, 11, 10, 39, 1, 8, 4, 35, 15, 23, 31, 11, 20, 13, 21, 29, 1, 8, 2, 4, 31, 45, 13, 33, 1, 37, 39, 29, 19, 15, 16, 31, 42, 20, 24, 26, 15, 5, 6, 42, 1, 36, 19, 12, 1, 11, 2, 36, 39, 30, 42, 42, 33, 20, 29, 26, 29, 20, 20, 43, 7, 1, 8, 2, 24, 23, 14, 29, 1, 9, 2, 27, 28, 36, 75, 20, 25, 12, 11, 21, 19, 1, 7, 2, 35, 35, 20, 19, 29, 9, 1, 9, 3, 30, 37, 28, 19, 14, 36, 1, 9, 2, 36, 44, 44, 10, 31, 39, 21, 12, 15, 35, 24, 21, 24, 1, 10, 2, 33, 27, 13, 21, 14, 24, 19, 1, 10, 2, 2, 37, 46, 29, 34, 10, 29, 34, 34, 16, 10, 31, 12, 38, 25, 29, 20, 25, 15, 11, 18, 38, 24, 33, 24, 30, 6, 9, 1, 7, 2, 32, 14, 9, 19, 20, 30, 6, 1, 10, 2, 30, 39, 12, 14, 25, 16, 36, 8, 27, 1, 6, 2, 22, 37, 29, 36, 14, 23, 37, 27, 35, 36, 1, 7, 2, 21, 25, 22, 11, 37, 27, 36, 1, 7, 3, 34, 30, 21, 48, 9, 1, 8, 2, 27, 30, 5, 26, 16, 27, 13, 6, 1, 9, 2, 28, 6, 16, 26, 41, 11, 12, 34, 22, 27, 10, 15, 15, 1, 8, 2, 33, 48, 28, 13, 28, 28, 31, 19, 1, 7, 2, 41, 18, 27, 1, 7, 2, 16, 31, 16, 7, 1, 10, 2, 28, 26, 28, 52, 56, 30, 1, 10, 2, 33, 14, 5, 6, 25, 1, 8, 2, 12, 14, 2, 21, 15, 2, 10, 23, 7, 1, 10, 2, 39, 31, 28, 51, 17, 29, 40, 35, 23, 25, 29, 10, 1, 10, 4, 6, 19, 14, 30, 24, 19, 8, 19, 1, 10, 2, 31, 52, 10, 17, 23, 1, 10, 2, 2, 36, 55, 39, 9, 33, 21, 31, 22, 28, 19, 28, 56, 19, 35, 15, 29, 1, 7, 2, 17, 12, 12, 21, 40, 37, 1, 8, 2, 22, 31, 18, 32, 28, 10, 41, 36, 1, 10, 2, 32, 36, 36, 17, 34, 19, 13, 24, 36, 23, 30, 21, 20, 22, 1, 8, 2, 24, 43, 41, 8, 24, 6, 42, 21, 30, 1, 8, 2, 21, 16, 30, 1, 7, 2, 24, 30, 9, 25, 1, 9, 2, 24, 21, 45, 28, 7, 35, 1, 8, 2, 4, 38, 35, 29, 32, 32, 9, 4, 35, 31, 14, 18, 34, 24, 21, 12, 27, 26, 21, 8, 39, 36, 26, 1, 10, 2, 44, 9, 15, 13, 16, 20, 22, 25, 4, 1]\n",
            " - f1: 90.47\n",
            "              precision    recall  f1-score   support\n",
            "\n",
            "         LOC     0.9421    0.9316    0.9368      1799\n",
            "        MISC     0.8583    0.8228    0.8402       920\n",
            "         ORG     0.8320    0.8783    0.8545      1331\n",
            "         PER     0.9320    0.9530    0.9424      1828\n",
            "           d     0.0000    0.0000    0.0000         0\n",
            "\n",
            "   micro avg     0.9003    0.9092    0.9047      5878\n",
            "   macro avg     0.7129    0.7171    0.7148      5878\n",
            "weighted avg     0.9009    0.9092    0.9048      5878\n",
            "\n",
            "Epoch 11 took 382.38310980796814 seconds\n",
            "469/469 [==============================] - 382s 815ms/step - loss: 0.0040 - accuracy: 0.9988\n",
            "Epoch 12/100\n",
            "109/109 [==============================] - 33s 303ms/step\n",
            "[11, 2, 35, 37, 38, 24, 30, 34, 39, 41, 25, 34, 31, 28, 22, 9, 1, 7, 2, 14, 12, 13, 7, 30, 18, 35, 25, 25, 27, 26, 1, 6, 2, 6, 9, 13, 4, 8, 11, 8, 9, 10, 2, 3, 1, 5, 6, 12, 4, 4, 4, 9, 2, 10, 2, 12, 10, 2, 11, 1, 11, 12, 8, 9, 12, 8, 1, 11, 6, 4, 8, 8, 8, 1, 8, 11, 8, 12, 1, 8, 2, 17, 40, 20, 34, 26, 28, 20, 28, 18, 14, 1, 6, 2, 4, 5, 13, 2, 1, 9, 2, 17, 2, 13, 7, 3, 1, 10, 2, 38, 29, 20, 17, 29, 1, 12, 3, 26, 23, 37, 7, 7, 4, 10, 39, 16, 28, 31, 19, 1, 8, 3, 32, 15, 19, 18, 1, 9, 2, 5, 5, 8, 8, 10, 15, 10, 7, 7, 7, 7, 7, 7, 7, 7, 7, 1, 9, 2, 4, 7, 4, 4, 4, 4, 4, 4, 13, 9, 14, 5, 6, 7, 6, 7, 6, 7, 6, 7, 1, 10, 3, 21, 6, 14, 6, 20, 14, 16, 17, 16, 6, 20, 16, 6, 15, 16, 17, 45, 37, 42, 20, 1, 7, 11, 7, 13, 1, 11, 8, 7, 13, 2, 1, 43, 1, 10, 3, 3, 11, 9, 2, 2, 4, 6, 5, 6, 6, 6, 2, 5, 5, 6, 5, 6, 2, 5, 5, 6, 6, 5, 4, 3, 3, 3, 4, 3, 3, 2, 2, 4, 5, 5, 5, 6, 5, 2, 5, 7, 5, 5, 5, 2, 6, 6, 5, 6, 5, 3, 3, 4, 4, 3, 5, 4, 1, 7, 3, 4, 12, 2, 5, 4, 5, 4, 2, 6, 4, 4, 4, 5, 5, 1, 12, 2, 3, 28, 36, 23, 11, 34, 8, 32, 32, 36, 27, 22, 37, 31, 19, 18, 13, 46, 21, 14, 12, 21, 12, 16, 18, 20, 8, 13, 8, 7, 8, 6, 10, 8, 14, 13, 10, 29, 14, 12, 14, 1, 6, 2, 31, 11, 15, 26, 34, 21, 33, 21, 9, 1, 9, 4, 3, 11, 10, 9, 3, 3, 12, 14, 13, 11, 14, 12, 2, 1, 13, 4, 35, 21, 22, 19, 19, 9, 15, 6, 8, 22, 16, 11, 15, 11, 13, 35, 45, 12, 9, 39, 14, 25, 29, 1, 13, 2, 44, 29, 12, 1, 11, 2, 2, 33, 41, 34, 14, 27, 12, 20, 15, 34, 16, 34, 1, 7, 2, 5, 7, 5, 8, 7, 7, 7, 7, 7, 7, 4, 10, 7, 7, 7, 7, 7, 7, 7, 5, 8, 7, 7, 7, 7, 7, 7, 7, 4, 8, 7, 7, 7, 7, 7, 7, 7, 4, 8, 7, 7, 7, 7, 3, 10, 7, 7, 7, 7, 7, 7, 7, 3, 8, 7, 7, 7, 7, 7, 7, 7, 4, 8, 7, 7, 7, 7, 7, 7, 7, 4, 10, 7, 7, 7, 7, 7, 7, 7, 5, 8, 7, 7, 7, 7, 7, 7, 7, 4, 8, 7, 7, 7, 7, 7, 7, 7, 4, 7, 7, 7, 7, 7, 7, 7, 4, 7, 7, 7, 7, 7, 7, 7, 7, 4, 7, 7, 7, 7, 7, 7, 7, 7, 4, 7, 8, 7, 7, 7, 7, 7, 7, 4, 10, 7, 7, 8, 7, 7, 7, 7, 4, 8, 7, 7, 7, 7, 7, 7, 7, 3, 8, 7, 7, 7, 7, 7, 7, 7, 8, 14, 12, 15, 10, 14, 11, 1, 11, 2, 26, 24, 17, 43, 13, 14, 1, 10, 3, 29, 43, 45, 47, 1, 7, 4, 21, 33, 25, 1, 9, 2, 40, 14, 37, 30, 29, 1, 10, 2, 26, 15, 1, 8, 2, 5, 10, 2, 1, 7, 5, 7, 7, 5, 5, 7, 7, 7, 7, 5, 6, 9, 11, 3, 10, 9, 2, 2, 7, 6, 5, 5, 6, 6, 5, 5, 7, 9, 11, 10, 12, 11, 5, 8, 11, 1, 11, 2, 29, 1, 10, 2, 5, 11, 10, 2, 2, 12, 12, 12, 2, 12, 10, 9, 9, 1, 8, 2, 24, 30, 30, 26, 34, 23, 18, 27, 11, 37, 8, 1, 8, 2, 5, 11, 3, 7, 1, 8, 2, 24, 10, 6, 7, 6, 6, 7, 7, 5, 7, 4, 6, 6, 4, 4, 4, 11, 8, 1, 5, 3, 29, 9, 22, 6, 1, 9, 3, 30, 29, 13, 12, 12, 9, 25, 34, 11, 31, 10, 11, 1, 11, 2, 44, 27, 28, 29, 37, 20, 11, 27, 37, 21, 18, 37, 41, 29, 28, 20, 18, 55, 1, 8, 5, 1, 42, 13, 30, 31, 37, 27, 9, 31, 32, 35, 25, 21, 17, 16, 33, 1, 11, 2, 27, 25, 44, 10, 1, 9, 2, 37, 33, 43, 39, 20, 20, 20, 1, 5, 2, 16, 30, 29, 17, 39, 20, 18, 22, 27, 19, 34, 24, 10, 29, 53, 29, 15, 17, 10, 17, 1, 7, 2, 22, 24, 41, 25, 42, 32, 21, 27, 14, 18, 28, 1, 9, 2, 21, 23, 11, 6, 22, 7, 1, 9, 2, 30, 24, 28, 25, 11, 5, 1, 9, 2, 31, 18, 6, 30, 7, 1, 7, 2, 35, 28, 25, 11, 17, 16, 1, 9, 2, 36, 18, 7, 12, 33, 30, 28, 29, 12, 31, 17, 10, 30, 1, 8, 4, 32, 37, 6, 19, 22, 34, 26, 19, 22, 20, 1, 7, 2, 36, 36, 19, 17, 11, 32, 30, 42, 1, 7, 2, 32, 35, 26, 30, 24, 9, 1, 6, 2, 2, 23, 38, 40, 30, 10, 29, 17, 35, 31, 27, 18, 25, 24, 23, 19, 1, 7, 2, 4, 31, 36, 31, 22, 18, 14, 28, 32, 26, 20, 14, 18, 20, 29, 22, 13, 33, 16, 21, 1, 7, 2, 36, 36, 19, 16, 17, 38, 15, 1, 9, 2, 24, 9, 36, 23, 24, 40, 19, 25, 1, 7, 4, 29, 37, 11, 1, 10, 2, 34, 43, 13, 7, 16, 1, 6, 2, 2, 30, 34, 42, 22, 22, 20, 25, 28, 17, 21, 21, 37, 44, 26, 11, 32, 9, 1, 10, 2, 37, 28, 41, 9, 5, 1, 7, 4, 32, 44, 26, 21, 17, 16, 28, 1, 7, 4, 22, 47, 23, 18, 14, 30, 1, 6, 3, 22, 39, 45, 13, 13, 33, 20, 1, 9, 2, 3, 28, 42, 35, 41, 23, 23, 22, 30, 30, 45, 41, 40, 17, 1, 7, 2, 2, 25, 46, 33, 19, 41, 9, 36, 24, 21, 14, 32, 22, 1, 11, 2, 3, 24, 43, 34, 21, 53, 28, 59, 33, 30, 31, 40, 34, 17, 30, 24, 46, 14, 17, 27, 23, 36, 23, 26, 41, 10, 62, 14, 10, 12, 10, 23, 20, 1, 7, 2, 2, 32, 30, 32, 33, 9, 24, 43, 39, 43, 31, 16, 36, 28, 27, 20, 42, 39, 9, 6, 28, 30, 23, 29, 17, 27, 21, 56, 21, 27, 14, 1, 7, 2, 2, 40, 32, 21, 16, 19, 26, 20, 38, 28, 30, 29, 20, 49, 29, 30, 35, 26, 17, 19, 1, 8, 2, 36, 39, 18, 27, 33, 49, 14, 21, 7, 13, 20, 22, 34, 32, 31, 49, 16, 12, 36, 23, 43, 1, 8, 2, 2, 38, 33, 20, 34, 33, 24, 11, 4, 16, 11, 36, 26, 10, 13, 24, 21, 23, 25, 36, 15, 18, 49, 1, 9, 2, 35, 27, 22, 23, 41, 21, 42, 12, 1, 11, 3, 27, 22, 34, 24, 6, 1, 9, 4, 38, 27, 44, 8, 8, 10, 5, 25, 56, 1, 6, 3, 33, 55, 40, 28, 32, 7, 28, 1, 7, 2, 26, 25, 11, 20, 9, 30, 46, 21, 24, 22, 28, 26, 19, 17, 1, 9, 2, 35, 42, 28, 14, 37, 40, 9, 26, 7, 30, 20, 1, 10, 2, 28, 20, 18, 20, 22, 1, 9, 4, 35, 18, 22, 15, 7, 11, 14, 22, 20, 21, 20, 18, 1, 10, 2, 26, 16, 25, 18, 19, 7, 5, 1, 10, 2, 6, 6, 6, 4, 9, 5, 1, 10, 2, 28, 35, 18, 11, 21, 30, 12, 27, 42, 16, 32, 22, 20, 11, 23, 17, 11, 1, 8, 3, 2, 7, 5, 3, 4, 2, 7, 5, 3, 4, 10, 6, 1, 7, 2, 5, 4, 6, 8, 7, 7, 7, 5, 26, 18, 7, 8, 9, 1, 6, 2, 21, 38, 29, 22, 19, 18, 32, 25, 34, 38, 15, 1, 8, 2, 25, 24, 22, 9, 10, 32, 1, 7, 2, 5, 8, 23, 4, 16, 44, 8, 32, 27, 15, 9, 6, 20, 15, 21, 33, 4, 11, 16, 14, 16, 20, 9, 31, 1, 9, 13, 9, 15, 15, 7, 7, 6, 4, 9, 7, 8, 9, 8, 4, 7, 2, 2, 2, 2, 2, 2, 2, 2, 2, 2, 2, 2, 2, 2, 2, 2, 8, 1, 9, 2, 2, 27, 23, 27, 23, 21, 21, 28, 25, 23, 14, 32, 25, 11, 28, 17, 27, 39, 30, 38, 20, 1, 8, 3, 3, 3, 7, 10, 6, 10, 6, 5, 2, 9, 27, 17, 29, 26, 45, 27, 17, 14, 9, 5, 20, 18, 5, 8, 20, 36, 29, 35, 24, 51, 19, 18, 13, 9, 21, 43, 41, 39, 21, 1, 8, 2, 2, 29, 44, 40, 32, 40, 34, 23, 18, 37, 39, 41, 36, 29, 11, 1, 8, 2, 37, 39, 7, 27, 36, 21, 12, 13, 1, 8, 2, 37, 35, 7, 27, 15, 34, 26, 28, 46, 44, 18, 19, 1, 11, 3, 37, 37, 36, 13, 29, 13, 1, 9, 2, 34, 36, 30, 13, 24, 20, 31, 33, 38, 1, 9, 2, 4, 27, 15, 31, 10, 16, 29, 21, 15, 24, 29, 20, 19, 12, 7, 28, 37, 8, 16, 14, 12, 33, 19, 24, 12, 18, 12, 6, 18, 27, 31, 12, 33, 8, 1, 9, 2, 30, 19, 34, 13, 5, 1, 10, 2, 31, 54, 30, 40, 27, 23, 6, 1, 9, 21, 13, 7, 7, 4, 1, 23, 4, 2, 32, 50, 4, 2, 27, 34, 4, 1, 39, 16, 1, 8, 2, 7, 8, 3, 6, 4, 7, 7, 11, 1, 7, 2, 7, 8, 3, 6, 4, 4, 7, 13, 1, 11, 2, 31, 33, 33, 20, 11, 13, 6, 1, 6, 2, 23, 30, 50, 22, 1, 9, 5, 21, 21, 52, 14, 22, 29, 1, 7, 3, 28, 37, 40, 22, 46, 32, 38, 31, 17, 1, 11, 5, 33, 24, 32, 27, 29, 28, 38, 36, 30, 1, 10, 4, 11, 5, 1, 10, 4, 11, 23, 4, 1, 10, 4, 30, 36, 25, 41, 1, 11, 2, 23, 28, 3, 1, 7, 4, 20, 29, 10, 11, 7, 10, 20, 51, 41, 32, 1, 10, 5, 23, 2, 10, 13, 4, 1, 12, 4, 21, 23, 1, 10, 4, 3, 12, 7, 13, 10, 9, 9, 8, 9, 8, 8, 7, 10, 9, 8, 10, 3, 8, 8, 3, 4, 9, 3, 3, 1, 8, 4, 14, 1, 9, 6, 7, 6, 5, 5, 5, 5, 6, 5, 7, 10, 11, 7, 10, 9, 6, 1, 7, 7, 6, 5, 6, 7, 7, 5, 5, 6, 6, 6, 6, 12, 2, 9, 11, 1, 7, 4, 4, 6, 8, 8, 11, 7, 7, 7, 7, 7, 7, 7, 7, 7, 33, 31, 10, 9, 7, 7, 7, 7, 7, 7, 7, 7, 8, 7, 7, 7, 7, 8, 31, 9, 2, 12, 12, 12, 13, 8, 2, 12, 5, 9, 4, 8, 5, 10, 4, 1, 12, 4, 22, 27, 25, 2, 38, 36, 1, 10, 4, 28, 21, 18, 31, 17, 21, 9, 33, 28, 27, 11, 9, 17, 12, 32, 22, 20, 9, 11, 15, 29, 14, 17, 14, 21, 45, 12, 7, 18, 35, 11, 8, 22, 12, 34, 22, 14, 11, 32, 9, 20, 23, 19, 1, 12, 2, 35, 32, 32, 38, 44, 20, 14, 1, 9, 2, 5, 11, 7, 6, 4, 7, 4, 7, 7, 4, 7, 4, 4, 7, 8, 7, 7, 8, 8, 4, 8, 4, 4, 1, 10, 2, 6, 7, 4, 4, 5, 5, 4, 4, 4, 3, 4, 5, 4, 4, 4, 5, 4, 6, 4, 5, 1, 11, 2, 21, 31, 3, 1, 11, 2, 21, 8, 3, 1, 11, 2, 32, 43, 26, 30, 16, 49, 1, 6, 2, 4, 15, 8, 2, 9, 8, 9, 9, 8, 8, 8, 8, 8, 9, 2, 8, 10, 8, 8, 8, 8, 8, 8, 8, 8, 2, 8, 8, 8, 8, 8, 10, 8, 9, 9, 9, 1, 6, 2, 4, 15, 9, 2, 8, 8, 8, 8, 8, 10, 8, 8, 8, 8, 8, 9, 9, 8, 8, 8, 8, 9, 9, 8, 9, 8, 8, 8, 2, 8, 8, 8, 8, 8, 8, 8, 8, 8, 8, 8, 9, 8, 8, 8, 8, 9, 9, 8, 8, 8, 8, 8, 8, 2, 8, 8, 8, 8, 8, 8, 8, 8, 8, 8, 8, 8, 8, 9, 8, 8, 8, 9, 8, 8, 8, 8, 8, 8, 1, 6, 2, 4, 4, 2, 5, 5, 4, 10, 2, 2, 4, 6, 4, 4, 4, 2, 4, 5, 5, 5, 6, 1, 6, 2, 5, 3, 2, 4, 4, 5, 4, 4, 5, 4, 4, 10, 8, 2, 4, 4, 5, 5, 4, 4, 4, 4, 5, 3, 5, 2, 4, 5, 4, 4, 4, 4, 5, 4, 4, 4, 4, 1, 7, 2, 13, 10, 19, 7, 10, 10, 7, 10, 25, 7, 17, 38, 7, 29, 13, 31, 18, 1, 10, 2, 6, 9, 13, 5, 13, 5, 12, 11, 11, 11, 11, 12, 11, 12, 12, 1, 11, 2, 23, 2, 21, 9, 3, 1, 10, 2, 2, 34, 32, 37, 40, 27, 36, 23, 34, 32, 46, 36, 23, 44, 13, 35, 109, 93, 1, 10, 2, 25, 2, 16, 5, 12, 14, 8, 4, 7, 1, 10, 2, 34, 36, 24, 1, 11, 2, 20, 6, 1, 8, 2, 4, 6, 2, 7, 7, 7, 4, 5, 4, 14, 5, 9, 8, 11, 8, 8, 8, 8, 8, 11, 8, 11, 8, 2, 7, 8, 5, 7, 4, 13, 2, 8, 9, 8, 8, 9, 11, 8, 8, 11, 11, 8, 11, 1, 10, 4, 33, 28, 32, 17, 15, 1, 7, 2, 6, 6, 3, 14, 3, 14, 1, 7, 2, 6, 6, 3, 14, 3, 14, 1, 10, 2, 20, 2, 20, 3, 1, 12, 2, 17, 3, 1, 10, 2, 21, 2, 5, 3, 1, 7, 2, 28, 1, 10, 2, 18, 12, 3, 1, 10, 2, 20, 7, 3, 1, 9, 2, 20, 14, 3, 1, 10, 3, 27, 23, 28, 37, 17, 26, 23, 17, 21, 25, 13, 18, 19, 18, 18, 20, 20, 29, 22, 8, 16, 1, 8, 3, 52, 1, 11, 4, 29, 19, 26, 26, 18, 27, 39, 22, 26, 29, 17, 11, 7, 19, 15, 30, 15, 6, 16, 7, 11, 16, 14, 30, 32, 14, 1, 14, 2, 3, 40, 19, 19, 13, 36, 41, 7, 28, 22, 22, 17, 34, 10, 22, 19, 29, 24, 1, 10, 3, 21, 52, 22, 1, 12, 3, 21, 10, 4, 4, 3, 3, 10, 10, 3, 4, 4, 4, 1, 8, 3, 19, 2, 19, 8, 3, 1, 10, 3, 3, 11, 9, 2, 2, 4, 6, 5, 6, 6, 6, 2, 5, 5, 6, 5, 6, 2, 5, 5, 6, 6, 5, 4, 3, 3, 3, 3, 3, 4, 2, 2, 4, 5, 6, 6, 7, 6, 2, 5, 7, 6, 5, 5, 2, 6, 6, 5, 6, 5, 3, 3, 5, 3, 4, 4, 4, 1, 7, 3, 4, 12, 2, 5, 4, 8, 4, 5, 4, 4, 2, 8, 8, 4, 5, 9, 4, 6, 5, 1, 11, 2, 35, 33, 11, 20, 25, 22, 24, 26, 15, 12, 42, 36, 11, 22, 12, 18, 10, 11, 37, 18, 43, 12, 30, 37, 16, 22, 16, 10, 10, 34, 37, 21, 26, 27, 30, 18, 18, 24, 12, 32, 13, 24, 1, 8, 2, 3, 39, 45, 7, 30, 29, 25, 14, 7, 32, 42, 17, 7, 10, 25, 15, 19, 16, 31, 22, 12, 20, 14, 12, 1, 9, 2, 29, 1, 10, 2, 2, 36, 20, 34, 27, 24, 26, 15, 25, 29, 14, 6, 18, 17, 2, 46, 40, 1, 8, 2, 24, 1, 12, 2, 27, 40, 37, 19, 21, 45, 36, 37, 2, 91, 105, 1, 9, 2, 16, 14, 3, 1, 10, 2, 2, 30, 25, 9, 31, 41, 36, 49, 42, 32, 28, 24, 2, 83, 79, 18, 11, 18, 19, 1, 9, 2, 31, 3, 3, 1, 8, 2, 6, 6, 6, 1, 11, 2, 4, 13, 2, 2, 13, 7, 3, 1, 12, 2, 17, 3, 1, 8, 2, 33, 44, 26, 38, 1, 11, 2, 5, 12, 2, 12, 5, 12, 1, 8, 2, 26, 1, 8, 2, 5, 12, 8, 11, 8, 7, 8, 10, 5, 8, 1, 10, 2, 18, 38, 25, 25, 13, 10, 26, 1, 8, 2, 6, 4, 5, 6, 9, 1, 9, 2, 17, 2, 13, 7, 3, 1, 8, 2, 35, 43, 22, 25, 8, 19, 34, 35, 31, 1, 7, 2, 16, 7, 18, 21, 33, 24, 16, 25, 7, 19, 9, 12, 22, 22, 25, 15, 9, 23, 7, 11, 32, 8, 19, 8, 16, 22, 10, 20, 16, 16, 12, 19, 16, 13, 33, 32, 35, 1, 5, 2, 27, 34, 27, 29, 16, 10, 29, 1, 7, 4, 35, 26, 37, 27, 27, 29, 1, 8, 2, 26, 6, 18, 30, 37, 12, 18, 8, 1, 6, 2, 26, 33, 9, 21, 19, 16, 21, 25, 18, 1, 9, 2, 30, 43, 40, 21, 18, 34, 43, 1, 9, 2, 24, 32, 31, 1, 7, 2, 10, 4, 4, 23, 5, 6, 6, 6, 6, 7, 7, 6, 6, 1, 8, 3, 34, 26, 19, 30, 44, 21, 6, 33, 37, 1, 9, 2, 28, 40, 35, 32, 34, 23, 43, 22, 11, 10, 39, 1, 8, 4, 35, 15, 23, 31, 11, 20, 13, 21, 29, 1, 8, 2, 4, 31, 45, 13, 33, 1, 37, 39, 29, 19, 15, 16, 31, 42, 20, 24, 26, 15, 5, 6, 42, 1, 36, 19, 12, 1, 11, 2, 36, 39, 30, 42, 42, 33, 20, 29, 26, 29, 20, 20, 43, 7, 1, 8, 2, 24, 23, 14, 29, 1, 9, 2, 27, 28, 36, 75, 20, 25, 12, 11, 21, 19, 1, 7, 2, 35, 35, 20, 19, 29, 9, 1, 9, 3, 30, 37, 28, 19, 14, 36, 1, 9, 2, 36, 44, 44, 10, 31, 39, 21, 12, 15, 35, 24, 21, 24, 1, 10, 2, 33, 27, 13, 21, 14, 24, 19, 1, 10, 2, 2, 37, 46, 29, 34, 10, 29, 34, 34, 16, 10, 31, 12, 38, 25, 29, 20, 25, 15, 11, 18, 38, 24, 33, 24, 30, 6, 9, 1, 7, 2, 32, 14, 9, 19, 20, 30, 6, 1, 10, 2, 30, 39, 12, 14, 25, 16, 36, 8, 27, 1, 6, 2, 22, 37, 29, 36, 14, 23, 37, 27, 35, 36, 1, 7, 2, 21, 25, 22, 11, 37, 27, 36, 1, 7, 3, 34, 30, 21, 48, 9, 1, 8, 2, 27, 30, 5, 26, 16, 27, 13, 6, 1, 9, 2, 28, 6, 16, 26, 41, 11, 12, 34, 22, 27, 10, 15, 15, 1, 8, 2, 33, 48, 28, 13, 28, 28, 31, 19, 1, 7, 2, 41, 18, 27, 1, 7, 2, 16, 31, 16, 7, 1, 10, 2, 28, 26, 28, 52, 56, 30, 1, 10, 2, 33, 14, 5, 6, 25, 1, 8, 2, 12, 14, 2, 21, 15, 2, 10, 23, 7, 1, 10, 2, 39, 31, 28, 51, 17, 29, 40, 35, 23, 25, 29, 10, 1, 10, 4, 6, 19, 14, 30, 24, 19, 8, 19, 1, 10, 2, 31, 52, 10, 17, 23, 1, 10, 2, 2, 36, 55, 39, 9, 33, 21, 31, 22, 28, 19, 28, 56, 19, 35, 15, 29, 1, 7, 2, 17, 12, 12, 21, 40, 37, 1, 8, 2, 22, 31, 18, 32, 28, 10, 41, 36, 1, 10, 2, 32, 36, 36, 17, 34, 19, 13, 24, 36, 23, 30, 21, 20, 22, 1, 8, 2, 24, 43, 41, 8, 24, 6, 42, 21, 30, 1, 8, 2, 21, 16, 30, 1, 7, 2, 24, 30, 9, 25, 1, 9, 2, 24, 21, 45, 28, 7, 35, 1, 8, 2, 4, 38, 35, 29, 32, 32, 9, 4, 35, 31, 14, 18, 34, 24, 21, 12, 27, 26, 21, 8, 39, 36, 26, 1, 10, 2, 44, 9, 15, 13, 16, 20, 22, 25, 4, 1]\n",
            " - f1: 90.68\n",
            "              precision    recall  f1-score   support\n",
            "\n",
            "         LOC     0.9314    0.9439    0.9376      1799\n",
            "        MISC     0.8965    0.8098    0.8509       920\n",
            "         ORG     0.8389    0.8648    0.8516      1331\n",
            "         PER     0.9313    0.9562    0.9436      1828\n",
            "           d     0.0000    0.0000    0.0000         0\n",
            "\n",
            "   micro avg     0.9048    0.9088    0.9068      5878\n",
            "   macro avg     0.7196    0.7149    0.7168      5878\n",
            "weighted avg     0.9050    0.9088    0.9064      5878\n",
            "\n",
            "Epoch 12 took 374.26425790786743 seconds\n",
            "469/469 [==============================] - 374s 798ms/step - loss: 0.0036 - accuracy: 0.9989\n",
            "Epoch 13/100\n",
            "109/109 [==============================] - 33s 306ms/step\n",
            "[11, 2, 35, 37, 38, 24, 30, 34, 39, 41, 25, 34, 31, 28, 22, 9, 1, 7, 2, 14, 12, 13, 7, 30, 18, 35, 25, 25, 27, 26, 1, 6, 2, 6, 9, 13, 4, 8, 11, 8, 9, 10, 2, 3, 1, 5, 6, 12, 4, 4, 4, 9, 2, 10, 2, 12, 10, 2, 11, 1, 11, 12, 8, 9, 12, 8, 1, 11, 6, 4, 8, 8, 8, 1, 8, 11, 8, 12, 1, 8, 2, 17, 40, 20, 34, 26, 28, 20, 28, 18, 14, 1, 6, 2, 4, 5, 13, 2, 1, 9, 2, 17, 2, 13, 7, 3, 1, 10, 2, 38, 29, 20, 17, 29, 1, 12, 3, 26, 23, 37, 7, 7, 4, 10, 39, 16, 28, 31, 19, 1, 8, 3, 32, 15, 19, 18, 1, 9, 2, 5, 5, 8, 8, 10, 15, 10, 7, 7, 7, 7, 7, 7, 7, 7, 7, 1, 9, 2, 4, 7, 4, 4, 4, 4, 4, 4, 13, 9, 14, 5, 6, 7, 6, 7, 6, 7, 6, 7, 1, 10, 3, 21, 6, 14, 6, 20, 14, 16, 17, 16, 6, 20, 16, 6, 15, 16, 17, 45, 37, 42, 20, 1, 7, 11, 7, 13, 1, 11, 8, 7, 13, 2, 1, 43, 1, 10, 3, 3, 11, 9, 2, 2, 4, 6, 5, 6, 6, 6, 2, 5, 5, 6, 5, 6, 2, 5, 5, 6, 6, 5, 4, 3, 3, 3, 4, 3, 3, 2, 2, 4, 5, 5, 5, 6, 5, 2, 5, 7, 5, 5, 5, 2, 6, 6, 5, 6, 5, 3, 3, 4, 4, 3, 5, 4, 1, 7, 3, 4, 12, 2, 5, 4, 5, 4, 2, 6, 4, 4, 4, 5, 5, 1, 12, 2, 3, 28, 36, 23, 11, 34, 8, 32, 32, 36, 27, 22, 37, 31, 19, 18, 13, 46, 21, 14, 12, 21, 12, 16, 18, 20, 8, 13, 8, 7, 8, 6, 10, 8, 14, 13, 10, 29, 14, 12, 14, 1, 6, 2, 31, 11, 15, 26, 34, 21, 33, 21, 9, 1, 9, 4, 3, 11, 10, 9, 3, 3, 12, 14, 13, 11, 14, 12, 2, 1, 13, 4, 35, 21, 22, 19, 19, 9, 15, 6, 8, 22, 16, 11, 15, 11, 13, 35, 45, 12, 9, 39, 14, 25, 29, 1, 13, 2, 44, 29, 12, 1, 11, 2, 2, 33, 41, 34, 14, 27, 12, 20, 15, 34, 16, 34, 1, 7, 2, 5, 7, 5, 8, 7, 7, 7, 7, 7, 7, 4, 10, 7, 7, 7, 7, 7, 7, 7, 5, 8, 7, 7, 7, 7, 7, 7, 7, 4, 8, 7, 7, 7, 7, 7, 7, 7, 4, 8, 7, 7, 7, 7, 3, 10, 7, 7, 7, 7, 7, 7, 7, 3, 8, 7, 7, 7, 7, 7, 7, 7, 4, 8, 7, 7, 7, 7, 7, 7, 7, 4, 10, 7, 7, 7, 7, 7, 7, 7, 5, 8, 7, 7, 7, 7, 7, 7, 7, 4, 8, 7, 7, 7, 7, 7, 7, 7, 4, 7, 7, 7, 7, 7, 7, 7, 4, 7, 7, 7, 7, 7, 7, 7, 7, 4, 7, 7, 7, 7, 7, 7, 7, 7, 4, 7, 8, 7, 7, 7, 7, 7, 7, 4, 10, 7, 7, 8, 7, 7, 7, 7, 4, 8, 7, 7, 7, 7, 7, 7, 7, 3, 8, 7, 7, 7, 7, 7, 7, 7, 8, 14, 12, 15, 10, 14, 11, 1, 11, 2, 26, 24, 17, 43, 13, 14, 1, 10, 3, 29, 43, 45, 47, 1, 7, 4, 21, 33, 25, 1, 9, 2, 40, 14, 37, 30, 29, 1, 10, 2, 26, 15, 1, 8, 2, 5, 10, 2, 1, 7, 5, 7, 7, 5, 5, 7, 7, 7, 7, 5, 6, 9, 11, 3, 10, 9, 2, 2, 7, 6, 5, 5, 6, 6, 5, 5, 7, 9, 11, 10, 12, 11, 5, 8, 11, 1, 11, 2, 29, 1, 10, 2, 5, 11, 10, 2, 2, 12, 12, 12, 2, 12, 10, 9, 9, 1, 8, 2, 24, 30, 30, 26, 34, 23, 18, 27, 11, 37, 8, 1, 8, 2, 5, 11, 3, 7, 1, 8, 2, 24, 10, 6, 7, 6, 6, 7, 7, 5, 7, 4, 6, 6, 4, 4, 4, 11, 8, 1, 5, 3, 29, 9, 22, 6, 1, 9, 3, 30, 29, 13, 12, 12, 9, 25, 34, 11, 31, 10, 11, 1, 11, 2, 44, 27, 28, 29, 37, 20, 11, 27, 37, 21, 18, 37, 41, 29, 28, 20, 18, 55, 1, 8, 5, 1, 42, 13, 30, 31, 37, 27, 9, 31, 32, 35, 25, 21, 17, 16, 33, 1, 11, 2, 27, 25, 44, 10, 1, 9, 2, 37, 33, 43, 39, 20, 20, 20, 1, 5, 2, 16, 30, 29, 17, 39, 20, 18, 22, 27, 19, 34, 24, 10, 29, 53, 29, 15, 17, 10, 17, 1, 7, 2, 22, 24, 41, 25, 42, 32, 21, 27, 14, 18, 28, 1, 9, 2, 21, 23, 11, 6, 22, 7, 1, 9, 2, 30, 24, 28, 25, 11, 5, 1, 9, 2, 31, 18, 6, 30, 7, 1, 7, 2, 35, 28, 25, 11, 17, 16, 1, 9, 2, 36, 18, 7, 12, 33, 30, 28, 29, 12, 31, 17, 10, 30, 1, 8, 4, 32, 37, 6, 19, 22, 34, 26, 19, 22, 20, 1, 7, 2, 36, 36, 19, 17, 11, 32, 30, 42, 1, 7, 2, 32, 35, 26, 30, 24, 9, 1, 6, 2, 2, 23, 38, 40, 30, 10, 29, 17, 35, 31, 27, 18, 25, 24, 23, 19, 1, 7, 2, 4, 31, 36, 31, 22, 18, 14, 28, 32, 26, 20, 14, 18, 20, 29, 22, 13, 33, 16, 21, 1, 7, 2, 36, 36, 19, 16, 17, 38, 15, 1, 9, 2, 24, 9, 36, 23, 24, 40, 19, 25, 1, 7, 4, 29, 37, 11, 1, 10, 2, 34, 43, 13, 7, 16, 1, 6, 2, 2, 30, 34, 42, 22, 22, 20, 25, 28, 17, 21, 21, 37, 44, 26, 11, 32, 9, 1, 10, 2, 37, 28, 41, 9, 5, 1, 7, 4, 32, 44, 26, 21, 17, 16, 28, 1, 7, 4, 22, 47, 23, 18, 14, 30, 1, 6, 3, 22, 39, 45, 13, 13, 33, 20, 1, 9, 2, 3, 28, 42, 35, 41, 23, 23, 22, 30, 30, 45, 41, 40, 17, 1, 7, 2, 2, 25, 46, 33, 19, 41, 9, 36, 24, 21, 14, 32, 22, 1, 11, 2, 3, 24, 43, 34, 21, 53, 28, 59, 33, 30, 31, 40, 34, 17, 30, 24, 46, 14, 17, 27, 23, 36, 23, 26, 41, 10, 62, 14, 10, 12, 10, 23, 20, 1, 7, 2, 2, 32, 30, 32, 33, 9, 24, 43, 39, 43, 31, 16, 36, 28, 27, 20, 42, 39, 9, 6, 28, 30, 23, 29, 17, 27, 21, 56, 21, 27, 14, 1, 7, 2, 2, 40, 32, 21, 16, 19, 26, 20, 38, 28, 30, 29, 20, 49, 29, 30, 35, 26, 17, 19, 1, 8, 2, 36, 39, 18, 27, 33, 49, 14, 21, 7, 13, 20, 22, 34, 32, 31, 49, 16, 12, 36, 23, 43, 1, 8, 2, 2, 38, 33, 20, 34, 33, 24, 11, 4, 16, 11, 36, 26, 10, 13, 24, 21, 23, 25, 36, 15, 18, 49, 1, 9, 2, 35, 27, 22, 23, 41, 21, 42, 12, 1, 11, 3, 27, 22, 34, 24, 6, 1, 9, 4, 38, 27, 44, 8, 8, 10, 5, 25, 56, 1, 6, 3, 33, 55, 40, 28, 32, 7, 28, 1, 7, 2, 26, 25, 11, 20, 9, 30, 46, 21, 24, 22, 28, 26, 19, 17, 1, 9, 2, 35, 42, 28, 14, 37, 40, 9, 26, 7, 30, 20, 1, 10, 2, 28, 20, 18, 20, 22, 1, 9, 4, 35, 18, 22, 15, 7, 11, 14, 22, 20, 21, 20, 18, 1, 10, 2, 26, 16, 25, 18, 19, 7, 5, 1, 10, 2, 6, 6, 6, 4, 9, 5, 1, 10, 2, 28, 35, 18, 11, 21, 30, 12, 27, 42, 16, 32, 22, 20, 11, 23, 17, 11, 1, 8, 3, 2, 7, 5, 3, 4, 2, 7, 5, 3, 4, 10, 6, 1, 7, 2, 5, 4, 6, 8, 7, 7, 7, 5, 26, 18, 7, 8, 9, 1, 6, 2, 21, 38, 29, 22, 19, 18, 32, 25, 34, 38, 15, 1, 8, 2, 25, 24, 22, 9, 10, 32, 1, 7, 2, 5, 8, 23, 4, 16, 44, 8, 32, 27, 15, 9, 6, 20, 15, 21, 33, 4, 11, 16, 14, 16, 20, 9, 31, 1, 9, 13, 9, 15, 15, 7, 7, 6, 4, 9, 7, 8, 9, 8, 4, 7, 2, 2, 2, 2, 2, 2, 2, 2, 2, 2, 2, 2, 2, 2, 2, 2, 8, 1, 9, 2, 2, 27, 23, 27, 23, 21, 21, 28, 25, 23, 14, 32, 25, 11, 28, 17, 27, 39, 30, 38, 20, 1, 8, 3, 3, 3, 7, 10, 6, 10, 6, 5, 2, 9, 27, 17, 29, 26, 45, 27, 17, 14, 9, 5, 20, 18, 5, 8, 20, 36, 29, 35, 24, 51, 19, 18, 13, 9, 21, 43, 41, 39, 21, 1, 8, 2, 2, 29, 44, 40, 32, 40, 34, 23, 18, 37, 39, 41, 36, 29, 11, 1, 8, 2, 37, 39, 7, 27, 36, 21, 12, 13, 1, 8, 2, 37, 35, 7, 27, 15, 34, 26, 28, 46, 44, 18, 19, 1, 11, 3, 37, 37, 36, 13, 29, 13, 1, 9, 2, 34, 36, 30, 13, 24, 20, 31, 33, 38, 1, 9, 2, 4, 27, 15, 31, 10, 16, 29, 21, 15, 24, 29, 20, 19, 12, 7, 28, 37, 8, 16, 14, 12, 33, 19, 24, 12, 18, 12, 6, 18, 27, 31, 12, 33, 8, 1, 9, 2, 30, 19, 34, 13, 5, 1, 10, 2, 31, 54, 30, 40, 27, 23, 6, 1, 9, 21, 13, 7, 7, 4, 1, 23, 4, 2, 32, 50, 4, 2, 27, 34, 4, 1, 39, 16, 1, 8, 2, 7, 8, 3, 6, 4, 7, 7, 11, 1, 7, 2, 7, 8, 3, 6, 4, 4, 7, 13, 1, 11, 2, 31, 33, 33, 20, 11, 13, 6, 1, 6, 2, 23, 30, 50, 22, 1, 9, 5, 21, 21, 52, 14, 22, 29, 1, 7, 3, 28, 37, 40, 22, 46, 32, 38, 31, 17, 1, 11, 5, 33, 24, 32, 27, 29, 28, 38, 36, 30, 1, 10, 4, 11, 5, 1, 10, 4, 11, 23, 4, 1, 10, 4, 30, 36, 25, 41, 1, 11, 2, 23, 28, 3, 1, 7, 4, 20, 29, 10, 11, 7, 10, 20, 51, 41, 32, 1, 10, 5, 23, 2, 10, 13, 4, 1, 12, 4, 21, 23, 1, 10, 4, 3, 12, 7, 13, 10, 9, 9, 8, 9, 8, 8, 7, 10, 9, 8, 10, 3, 8, 8, 3, 4, 9, 3, 3, 1, 8, 4, 14, 1, 9, 6, 7, 6, 5, 5, 5, 5, 6, 5, 7, 10, 11, 7, 10, 9, 6, 1, 7, 7, 6, 5, 6, 7, 7, 5, 5, 6, 6, 6, 6, 12, 2, 9, 11, 1, 7, 4, 4, 6, 8, 8, 11, 7, 7, 7, 7, 7, 7, 7, 7, 7, 33, 31, 10, 9, 7, 7, 7, 7, 7, 7, 7, 7, 8, 7, 7, 7, 7, 8, 31, 9, 2, 12, 12, 12, 13, 8, 2, 12, 5, 9, 4, 8, 5, 10, 4, 1, 12, 4, 22, 27, 25, 2, 38, 36, 1, 10, 4, 28, 21, 18, 31, 17, 21, 9, 33, 28, 27, 11, 9, 17, 12, 32, 22, 20, 9, 11, 15, 29, 14, 17, 14, 21, 45, 12, 7, 18, 35, 11, 8, 22, 12, 34, 22, 14, 11, 32, 9, 20, 23, 19, 1, 12, 2, 35, 32, 32, 38, 44, 20, 14, 1, 9, 2, 5, 11, 7, 6, 4, 7, 4, 7, 7, 4, 7, 4, 4, 7, 8, 7, 7, 8, 8, 4, 8, 4, 4, 1, 10, 2, 6, 7, 4, 4, 5, 5, 4, 4, 4, 3, 4, 5, 4, 4, 4, 5, 4, 6, 4, 5, 1, 11, 2, 21, 31, 3, 1, 11, 2, 21, 8, 3, 1, 11, 2, 32, 43, 26, 30, 16, 49, 1, 6, 2, 4, 15, 8, 2, 9, 8, 9, 9, 8, 8, 8, 8, 8, 9, 2, 8, 10, 8, 8, 8, 8, 8, 8, 8, 8, 2, 8, 8, 8, 8, 8, 10, 8, 9, 9, 9, 1, 6, 2, 4, 15, 9, 2, 8, 8, 8, 8, 8, 10, 8, 8, 8, 8, 8, 9, 9, 8, 8, 8, 8, 9, 9, 8, 9, 8, 8, 8, 2, 8, 8, 8, 8, 8, 8, 8, 8, 8, 8, 8, 9, 8, 8, 8, 8, 9, 9, 8, 8, 8, 8, 8, 8, 2, 8, 8, 8, 8, 8, 8, 8, 8, 8, 8, 8, 8, 8, 9, 8, 8, 8, 9, 8, 8, 8, 8, 8, 8, 1, 6, 2, 4, 4, 2, 5, 5, 4, 10, 2, 2, 4, 6, 4, 4, 4, 2, 4, 5, 5, 5, 6, 1, 6, 2, 5, 3, 2, 4, 4, 5, 4, 4, 5, 4, 4, 10, 8, 2, 4, 4, 5, 5, 4, 4, 4, 4, 5, 3, 5, 2, 4, 5, 4, 4, 4, 4, 5, 4, 4, 4, 4, 1, 7, 2, 13, 10, 19, 7, 10, 10, 7, 10, 25, 7, 17, 38, 7, 29, 13, 31, 18, 1, 10, 2, 6, 9, 13, 5, 13, 5, 12, 11, 11, 11, 11, 12, 11, 12, 12, 1, 11, 2, 23, 2, 21, 9, 3, 1, 10, 2, 2, 34, 32, 37, 40, 27, 36, 23, 34, 32, 46, 36, 23, 44, 13, 35, 109, 93, 1, 10, 2, 25, 2, 16, 5, 12, 14, 8, 4, 7, 1, 10, 2, 34, 36, 24, 1, 11, 2, 20, 6, 1, 8, 2, 4, 6, 2, 7, 7, 7, 4, 5, 4, 14, 5, 9, 8, 11, 8, 8, 8, 8, 8, 11, 8, 11, 8, 2, 7, 8, 5, 7, 4, 13, 2, 8, 9, 8, 8, 9, 11, 8, 8, 11, 11, 8, 11, 1, 10, 4, 33, 28, 32, 17, 15, 1, 7, 2, 6, 6, 3, 14, 3, 14, 1, 7, 2, 6, 6, 3, 14, 3, 14, 1, 10, 2, 20, 2, 20, 3, 1, 12, 2, 17, 3, 1, 10, 2, 21, 2, 5, 3, 1, 7, 2, 28, 1, 10, 2, 18, 12, 3, 1, 10, 2, 20, 7, 3, 1, 9, 2, 20, 14, 3, 1, 10, 3, 27, 23, 28, 37, 17, 26, 23, 17, 21, 25, 13, 18, 19, 18, 18, 20, 20, 29, 22, 8, 16, 1, 8, 3, 52, 1, 11, 4, 29, 19, 26, 26, 18, 27, 39, 22, 26, 29, 17, 11, 7, 19, 15, 30, 15, 6, 16, 7, 11, 16, 14, 30, 32, 14, 1, 14, 2, 3, 40, 19, 19, 13, 36, 41, 7, 28, 22, 22, 17, 34, 10, 22, 19, 29, 24, 1, 10, 3, 21, 52, 22, 1, 12, 3, 21, 10, 4, 4, 3, 3, 10, 10, 3, 4, 4, 4, 1, 8, 3, 19, 2, 19, 8, 3, 1, 10, 3, 3, 11, 9, 2, 2, 4, 6, 5, 6, 6, 6, 2, 5, 5, 6, 5, 6, 2, 5, 5, 6, 6, 5, 4, 3, 3, 3, 3, 3, 4, 2, 2, 4, 5, 6, 6, 7, 6, 2, 5, 7, 6, 5, 5, 2, 6, 6, 5, 6, 5, 3, 3, 5, 3, 4, 4, 4, 1, 7, 3, 4, 12, 2, 5, 4, 8, 4, 5, 4, 4, 2, 8, 8, 4, 5, 9, 4, 6, 5, 1, 11, 2, 35, 33, 11, 20, 25, 22, 24, 26, 15, 12, 42, 36, 11, 22, 12, 18, 10, 11, 37, 18, 43, 12, 30, 37, 16, 22, 16, 10, 10, 34, 37, 21, 26, 27, 30, 18, 18, 24, 12, 32, 13, 24, 1, 8, 2, 3, 39, 45, 7, 30, 29, 25, 14, 7, 32, 42, 17, 7, 10, 25, 15, 19, 16, 31, 22, 12, 20, 14, 12, 1, 9, 2, 29, 1, 10, 2, 2, 36, 20, 34, 27, 24, 26, 15, 25, 29, 14, 6, 18, 17, 2, 46, 40, 1, 8, 2, 24, 1, 12, 2, 27, 40, 37, 19, 21, 45, 36, 37, 2, 91, 105, 1, 9, 2, 16, 14, 3, 1, 10, 2, 2, 30, 25, 9, 31, 41, 36, 49, 42, 32, 28, 24, 2, 83, 79, 18, 11, 18, 19, 1, 9, 2, 31, 3, 3, 1, 8, 2, 6, 6, 6, 1, 11, 2, 4, 13, 2, 2, 13, 7, 3, 1, 12, 2, 17, 3, 1, 8, 2, 33, 44, 26, 38, 1, 11, 2, 5, 12, 2, 12, 5, 12, 1, 8, 2, 26, 1, 8, 2, 5, 12, 8, 11, 8, 7, 8, 10, 5, 8, 1, 10, 2, 18, 38, 25, 25, 13, 10, 26, 1, 8, 2, 6, 4, 5, 6, 9, 1, 9, 2, 17, 2, 13, 7, 3, 1, 8, 2, 35, 43, 22, 25, 8, 19, 34, 35, 31, 1, 7, 2, 16, 7, 18, 21, 33, 24, 16, 25, 7, 19, 9, 12, 22, 22, 25, 15, 9, 23, 7, 11, 32, 8, 19, 8, 16, 22, 10, 20, 16, 16, 12, 19, 16, 13, 33, 32, 35, 1, 5, 2, 27, 34, 27, 29, 16, 10, 29, 1, 7, 4, 35, 26, 37, 27, 27, 29, 1, 8, 2, 26, 6, 18, 30, 37, 12, 18, 8, 1, 6, 2, 26, 33, 9, 21, 19, 16, 21, 25, 18, 1, 9, 2, 30, 43, 40, 21, 18, 34, 43, 1, 9, 2, 24, 32, 31, 1, 7, 2, 10, 4, 4, 23, 5, 6, 6, 6, 6, 7, 7, 6, 6, 1, 8, 3, 34, 26, 19, 30, 44, 21, 6, 33, 37, 1, 9, 2, 28, 40, 35, 32, 34, 23, 43, 22, 11, 10, 39, 1, 8, 4, 35, 15, 23, 31, 11, 20, 13, 21, 29, 1, 8, 2, 4, 31, 45, 13, 33, 1, 37, 39, 29, 19, 15, 16, 31, 42, 20, 24, 26, 15, 5, 6, 42, 1, 36, 19, 12, 1, 11, 2, 36, 39, 30, 42, 42, 33, 20, 29, 26, 29, 20, 20, 43, 7, 1, 8, 2, 24, 23, 14, 29, 1, 9, 2, 27, 28, 36, 75, 20, 25, 12, 11, 21, 19, 1, 7, 2, 35, 35, 20, 19, 29, 9, 1, 9, 3, 30, 37, 28, 19, 14, 36, 1, 9, 2, 36, 44, 44, 10, 31, 39, 21, 12, 15, 35, 24, 21, 24, 1, 10, 2, 33, 27, 13, 21, 14, 24, 19, 1, 10, 2, 2, 37, 46, 29, 34, 10, 29, 34, 34, 16, 10, 31, 12, 38, 25, 29, 20, 25, 15, 11, 18, 38, 24, 33, 24, 30, 6, 9, 1, 7, 2, 32, 14, 9, 19, 20, 30, 6, 1, 10, 2, 30, 39, 12, 14, 25, 16, 36, 8, 27, 1, 6, 2, 22, 37, 29, 36, 14, 23, 37, 27, 35, 36, 1, 7, 2, 21, 25, 22, 11, 37, 27, 36, 1, 7, 3, 34, 30, 21, 48, 9, 1, 8, 2, 27, 30, 5, 26, 16, 27, 13, 6, 1, 9, 2, 28, 6, 16, 26, 41, 11, 12, 34, 22, 27, 10, 15, 15, 1, 8, 2, 33, 48, 28, 13, 28, 28, 31, 19, 1, 7, 2, 41, 18, 27, 1, 7, 2, 16, 31, 16, 7, 1, 10, 2, 28, 26, 28, 52, 56, 30, 1, 10, 2, 33, 14, 5, 6, 25, 1, 8, 2, 12, 14, 2, 21, 15, 2, 10, 23, 7, 1, 10, 2, 39, 31, 28, 51, 17, 29, 40, 35, 23, 25, 29, 10, 1, 10, 4, 6, 19, 14, 30, 24, 19, 8, 19, 1, 10, 2, 31, 52, 10, 17, 23, 1, 10, 2, 2, 36, 55, 39, 9, 33, 21, 31, 22, 28, 19, 28, 56, 19, 35, 15, 29, 1, 7, 2, 17, 12, 12, 21, 40, 37, 1, 8, 2, 22, 31, 18, 32, 28, 10, 41, 36, 1, 10, 2, 32, 36, 36, 17, 34, 19, 13, 24, 36, 23, 30, 21, 20, 22, 1, 8, 2, 24, 43, 41, 8, 24, 6, 42, 21, 30, 1, 8, 2, 21, 16, 30, 1, 7, 2, 24, 30, 9, 25, 1, 9, 2, 24, 21, 45, 28, 7, 35, 1, 8, 2, 4, 38, 35, 29, 32, 32, 9, 4, 35, 31, 14, 18, 34, 24, 21, 12, 27, 26, 21, 8, 39, 36, 26, 1, 10, 2, 44, 9, 15, 13, 16, 20, 22, 25, 4, 1]\n",
            " - f1: 90.46\n",
            "              precision    recall  f1-score   support\n",
            "\n",
            "         LOC     0.9291    0.9472    0.9381      1799\n",
            "        MISC     0.8479    0.8304    0.8391       920\n",
            "         ORG     0.8638    0.8385    0.8509      1331\n",
            "         PER     0.9224    0.9623    0.9419      1828\n",
            "           d     0.0000    0.0000    0.0000         0\n",
            "\n",
            "   micro avg     0.9003    0.9090    0.9046      5878\n",
            "   macro avg     0.7126    0.7157    0.7140      5878\n",
            "weighted avg     0.8995    0.9090    0.9040      5878\n",
            "\n",
            "Epoch 13 took 380.7472062110901 seconds\n",
            "Early stopping at epoch 12\n",
            "Training Completed!\n",
            "469/469 [==============================] - 381s 812ms/step - loss: 0.0032 - accuracy: 0.9990\n"
          ]
        }
      ],
      "source": [
        "history=model.fit(xTrainArray,yTrainArray,batch_size=32,epochs=100,callbacks=[f1score])"
      ]
    },
    {
      "cell_type": "code",
      "execution_count": 35,
      "metadata": {
        "id": "qLu1j05R5nha"
      },
      "outputs": [
        {
          "name": "stdout",
          "output_type": "stream",
          "text": [
            "116/116 [==============================] - 32s 275ms/step\n",
            " - f1: 86.06\n"
          ]
        }
      ],
      "source": [
        "labels = {0:'Pd',1:'I-LOC', 2:'B-ORG', 3:'I-ORG', 4:'I-PER', 5:'B-LOC', 6:'I-MISC', 7:'B-MISC', 8:'O'}\n",
        "\n",
        "testPreds = model.predict(xTestArray)\n",
        "testPreds = np.argmax(testPreds, axis=-1)\n",
        "\n",
        "# newTestArray = []\n",
        "# for i in range(0, len(yTestArray)):\n",
        "#     for idx in yTestArray[i]:\n",
        "#         newTestArray.append([labels[idx])]) \n",
        "\n",
        "# newPreds = []\n",
        "# for i in range(0, len(testPreds)):\n",
        "#     for idx in testPreds[i]:\n",
        "#         newPreds.append((idx))\n",
        "\n",
        "def find_pad_index(array):\n",
        "    \"\"\"Find padding index.\n",
        "    Args:\n",
        "        array (list): integer list.\n",
        "    Returns:\n",
        "        idx: padding index.\n",
        "    Examples:\n",
        "            >>> array = [1, 2, 0]\n",
        "            >>> self.find_pad_index(array)\n",
        "            2\n",
        "    \"\"\"\n",
        "    try:\n",
        "        return list(array).index(0)\n",
        "    except ValueError:\n",
        "        return len(array)\n",
        "        \n",
        "def get_length(y):\n",
        "        \"\"\"Get true length of y.\n",
        "        Args:\n",
        "            y (list): padded list.\n",
        "        Returns:\n",
        "            lens: true length of y.\n",
        "        Examples:\n",
        "            >>> y = [[1, 0, 0], [1, 1, 0], [1, 1, 1]]\n",
        "            >>> self.get_length(y)\n",
        "            [1, 2, 3]\n",
        "        \"\"\"\n",
        "        lens = [find_pad_index(row) for row in y]\n",
        "        return lens\n",
        "\n",
        "def convert_idx_to_name(y, lens):\n",
        "    \"\"\"Convert label index to name.\n",
        "    Args:\n",
        "        y (list): label index list.\n",
        "        lens (list): true length of y.\n",
        "    Returns:\n",
        "        y: label name list.\n",
        "    Examples:\n",
        "        >>> # assumes that id2label = {1: 'B-LOC', 2: 'I-LOC'}\n",
        "        >>> y = [[1, 0, 0], [1, 2, 0], [1, 1, 1]]\n",
        "        >>> lens = [1, 2, 3]\n",
        "        >>> self.convert_idx_to_name(y, lens)\n",
        "        [['B-LOC'], ['B-LOC', 'I-LOC'], ['B-LOC', 'B-LOC', 'B-LOC']]\n",
        "    \"\"\"\n",
        "    y = [[labels[idx] for idx in row[0:l-1]]\n",
        "            for row, l in zip(y, lens)]\n",
        "    return y\n",
        "\n",
        "\n",
        "lens = get_length(yTestArray)\n",
        "\n",
        "y_true = convert_idx_to_name(yTestArray, lens)\n",
        "y_pred = convert_idx_to_name(testPreds, lens)\n",
        "\n",
        "score = f1_score(y_true, y_pred)\n",
        "\n",
        "\n",
        "\n",
        "print(' - f1: {:04.2f}'.format(score * 100))"
      ]
    }
  ],
  "metadata": {
    "accelerator": "GPU",
    "colab": {
      "gpuType": "T4",
      "provenance": []
    },
    "kernelspec": {
      "display_name": "Python 3",
      "name": "python3"
    },
    "language_info": {
      "codemirror_mode": {
        "name": "ipython",
        "version": 3
      },
      "file_extension": ".py",
      "mimetype": "text/x-python",
      "name": "python",
      "nbconvert_exporter": "python",
      "pygments_lexer": "ipython3",
      "version": "3.10.11"
    }
  },
  "nbformat": 4,
  "nbformat_minor": 0
}
